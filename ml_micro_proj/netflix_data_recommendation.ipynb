{
 "cells": [
  {
   "cell_type": "markdown",
   "id": "d27f72fd",
   "metadata": {},
   "source": [
    "https://www.kaggle.com/shivamb/netflix-shows\n",
    "\n",
    "TV Shows and Movies listed on Netflix\n",
    "\n",
    "This dataset consists of tv shows and movies available on Netflix as of 2021. The dataset is collected from Flixable which is a third-party search engine. In 2018, they released an interesting report which shows that the number of TV shows on Netflix has nearly tripled since 2010. It will be interesting to explore what all other insights can be obtained from the same dataset.\n",
    "\n",
    "Inspiration\n",
    "Some of the interesting questions (tasks) which can be performed on this dataset -\n",
    "\n",
    "Understanding what content is available in different countries\n",
    "Identifying similar content by matching text-based features\n",
    "Network analysis of Actors / Directors and find interesting insights\n",
    "Does Netflix has more focus on TV Shows than movies in recent years.\n",
    "\n"
   ]
  },
  {
   "cell_type": "code",
   "execution_count": 1,
   "id": "057ce95f",
   "metadata": {},
   "outputs": [],
   "source": [
    "import pandas as pd\n",
    "import matplotlib.pyplot as plt\n",
    "import seaborn as sns"
   ]
  },
  {
   "cell_type": "code",
   "execution_count": 2,
   "id": "47adf8fa",
   "metadata": {},
   "outputs": [
    {
     "data": {
      "text/html": [
       "<div>\n",
       "<style scoped>\n",
       "    .dataframe tbody tr th:only-of-type {\n",
       "        vertical-align: middle;\n",
       "    }\n",
       "\n",
       "    .dataframe tbody tr th {\n",
       "        vertical-align: top;\n",
       "    }\n",
       "\n",
       "    .dataframe thead th {\n",
       "        text-align: right;\n",
       "    }\n",
       "</style>\n",
       "<table border=\"1\" class=\"dataframe\">\n",
       "  <thead>\n",
       "    <tr style=\"text-align: right;\">\n",
       "      <th></th>\n",
       "      <th>show_id</th>\n",
       "      <th>type</th>\n",
       "      <th>title</th>\n",
       "      <th>director</th>\n",
       "      <th>cast</th>\n",
       "      <th>country</th>\n",
       "      <th>date_added</th>\n",
       "      <th>release_year</th>\n",
       "      <th>rating</th>\n",
       "      <th>duration</th>\n",
       "      <th>listed_in</th>\n",
       "      <th>description</th>\n",
       "    </tr>\n",
       "  </thead>\n",
       "  <tbody>\n",
       "    <tr>\n",
       "      <th>0</th>\n",
       "      <td>s1</td>\n",
       "      <td>Movie</td>\n",
       "      <td>Dick Johnson Is Dead</td>\n",
       "      <td>Kirsten Johnson</td>\n",
       "      <td>NaN</td>\n",
       "      <td>United States</td>\n",
       "      <td>September 25, 2021</td>\n",
       "      <td>2020</td>\n",
       "      <td>PG-13</td>\n",
       "      <td>90 min</td>\n",
       "      <td>Documentaries</td>\n",
       "      <td>As her father nears the end of his life, filmm...</td>\n",
       "    </tr>\n",
       "    <tr>\n",
       "      <th>1</th>\n",
       "      <td>s2</td>\n",
       "      <td>TV Show</td>\n",
       "      <td>Blood &amp; Water</td>\n",
       "      <td>NaN</td>\n",
       "      <td>Ama Qamata, Khosi Ngema, Gail Mabalane, Thaban...</td>\n",
       "      <td>South Africa</td>\n",
       "      <td>September 24, 2021</td>\n",
       "      <td>2021</td>\n",
       "      <td>TV-MA</td>\n",
       "      <td>2 Seasons</td>\n",
       "      <td>International TV Shows, TV Dramas, TV Mysteries</td>\n",
       "      <td>After crossing paths at a party, a Cape Town t...</td>\n",
       "    </tr>\n",
       "    <tr>\n",
       "      <th>2</th>\n",
       "      <td>s3</td>\n",
       "      <td>TV Show</td>\n",
       "      <td>Ganglands</td>\n",
       "      <td>Julien Leclercq</td>\n",
       "      <td>Sami Bouajila, Tracy Gotoas, Samuel Jouy, Nabi...</td>\n",
       "      <td>NaN</td>\n",
       "      <td>September 24, 2021</td>\n",
       "      <td>2021</td>\n",
       "      <td>TV-MA</td>\n",
       "      <td>1 Season</td>\n",
       "      <td>Crime TV Shows, International TV Shows, TV Act...</td>\n",
       "      <td>To protect his family from a powerful drug lor...</td>\n",
       "    </tr>\n",
       "    <tr>\n",
       "      <th>3</th>\n",
       "      <td>s4</td>\n",
       "      <td>TV Show</td>\n",
       "      <td>Jailbirds New Orleans</td>\n",
       "      <td>NaN</td>\n",
       "      <td>NaN</td>\n",
       "      <td>NaN</td>\n",
       "      <td>September 24, 2021</td>\n",
       "      <td>2021</td>\n",
       "      <td>TV-MA</td>\n",
       "      <td>1 Season</td>\n",
       "      <td>Docuseries, Reality TV</td>\n",
       "      <td>Feuds, flirtations and toilet talk go down amo...</td>\n",
       "    </tr>\n",
       "    <tr>\n",
       "      <th>4</th>\n",
       "      <td>s5</td>\n",
       "      <td>TV Show</td>\n",
       "      <td>Kota Factory</td>\n",
       "      <td>NaN</td>\n",
       "      <td>Mayur More, Jitendra Kumar, Ranjan Raj, Alam K...</td>\n",
       "      <td>India</td>\n",
       "      <td>September 24, 2021</td>\n",
       "      <td>2021</td>\n",
       "      <td>TV-MA</td>\n",
       "      <td>2 Seasons</td>\n",
       "      <td>International TV Shows, Romantic TV Shows, TV ...</td>\n",
       "      <td>In a city of coaching centers known to train I...</td>\n",
       "    </tr>\n",
       "  </tbody>\n",
       "</table>\n",
       "</div>"
      ],
      "text/plain": [
       "  show_id     type                  title         director  \\\n",
       "0      s1    Movie   Dick Johnson Is Dead  Kirsten Johnson   \n",
       "1      s2  TV Show          Blood & Water              NaN   \n",
       "2      s3  TV Show              Ganglands  Julien Leclercq   \n",
       "3      s4  TV Show  Jailbirds New Orleans              NaN   \n",
       "4      s5  TV Show           Kota Factory              NaN   \n",
       "\n",
       "                                                cast        country  \\\n",
       "0                                                NaN  United States   \n",
       "1  Ama Qamata, Khosi Ngema, Gail Mabalane, Thaban...   South Africa   \n",
       "2  Sami Bouajila, Tracy Gotoas, Samuel Jouy, Nabi...            NaN   \n",
       "3                                                NaN            NaN   \n",
       "4  Mayur More, Jitendra Kumar, Ranjan Raj, Alam K...          India   \n",
       "\n",
       "           date_added  release_year rating   duration  \\\n",
       "0  September 25, 2021          2020  PG-13     90 min   \n",
       "1  September 24, 2021          2021  TV-MA  2 Seasons   \n",
       "2  September 24, 2021          2021  TV-MA   1 Season   \n",
       "3  September 24, 2021          2021  TV-MA   1 Season   \n",
       "4  September 24, 2021          2021  TV-MA  2 Seasons   \n",
       "\n",
       "                                           listed_in  \\\n",
       "0                                      Documentaries   \n",
       "1    International TV Shows, TV Dramas, TV Mysteries   \n",
       "2  Crime TV Shows, International TV Shows, TV Act...   \n",
       "3                             Docuseries, Reality TV   \n",
       "4  International TV Shows, Romantic TV Shows, TV ...   \n",
       "\n",
       "                                         description  \n",
       "0  As her father nears the end of his life, filmm...  \n",
       "1  After crossing paths at a party, a Cape Town t...  \n",
       "2  To protect his family from a powerful drug lor...  \n",
       "3  Feuds, flirtations and toilet talk go down amo...  \n",
       "4  In a city of coaching centers known to train I...  "
      ]
     },
     "execution_count": 2,
     "metadata": {},
     "output_type": "execute_result"
    }
   ],
   "source": [
    "\n",
    "df=pd.read_csv('Datasets/netflix_titles.csv')\n",
    "df.head()"
   ]
  },
  {
   "cell_type": "code",
   "execution_count": 3,
   "id": "0a2f18fc",
   "metadata": {},
   "outputs": [
    {
     "data": {
      "text/plain": [
       "((8807, 12),\n",
       " Index(['show_id', 'type', 'title', 'director', 'cast', 'country', 'date_added',\n",
       "        'release_year', 'rating', 'duration', 'listed_in', 'description'],\n",
       "       dtype='object'))"
      ]
     },
     "execution_count": 3,
     "metadata": {},
     "output_type": "execute_result"
    }
   ],
   "source": [
    "df.shape,df.columns"
   ]
  },
  {
   "cell_type": "markdown",
   "id": "257ea957",
   "metadata": {},
   "source": [
    "#### Data Exploration"
   ]
  },
  {
   "cell_type": "code",
   "execution_count": 4,
   "id": "2671540a",
   "metadata": {},
   "outputs": [
    {
     "name": "stdout",
     "output_type": "stream",
     "text": [
      "<class 'pandas.core.frame.DataFrame'>\n",
      "RangeIndex: 8807 entries, 0 to 8806\n",
      "Data columns (total 12 columns):\n",
      " #   Column        Non-Null Count  Dtype \n",
      "---  ------        --------------  ----- \n",
      " 0   show_id       8807 non-null   object\n",
      " 1   type          8807 non-null   object\n",
      " 2   title         8807 non-null   object\n",
      " 3   director      6173 non-null   object\n",
      " 4   cast          7982 non-null   object\n",
      " 5   country       7976 non-null   object\n",
      " 6   date_added    8797 non-null   object\n",
      " 7   release_year  8807 non-null   int64 \n",
      " 8   rating        8803 non-null   object\n",
      " 9   duration      8804 non-null   object\n",
      " 10  listed_in     8807 non-null   object\n",
      " 11  description   8807 non-null   object\n",
      "dtypes: int64(1), object(11)\n",
      "memory usage: 825.8+ KB\n"
     ]
    }
   ],
   "source": [
    "df.info()"
   ]
  },
  {
   "cell_type": "markdown",
   "id": "2d3a70a4",
   "metadata": {},
   "source": [
    "###### Checking null values/missing  values"
   ]
  },
  {
   "cell_type": "code",
   "execution_count": 5,
   "id": "0c28fcbf",
   "metadata": {},
   "outputs": [
    {
     "data": {
      "text/plain": [
       "show_id            0\n",
       "type               0\n",
       "title              0\n",
       "director        2634\n",
       "cast             825\n",
       "country          831\n",
       "date_added        10\n",
       "release_year       0\n",
       "rating             4\n",
       "duration           3\n",
       "listed_in          0\n",
       "description        0\n",
       "dtype: int64"
      ]
     },
     "execution_count": 5,
     "metadata": {},
     "output_type": "execute_result"
    }
   ],
   "source": [
    "df.isnull().sum()"
   ]
  },
  {
   "cell_type": "code",
   "execution_count": 6,
   "id": "fc7b5b33",
   "metadata": {},
   "outputs": [
    {
     "name": "stdout",
     "output_type": "stream",
     "text": [
      "Column show_id has 0.0 %null values\n",
      "\n",
      "Column type has 0.0 %null values\n",
      "\n",
      "Column title has 0.0 %null values\n",
      "\n",
      "Column director has 29.908027705234474 %null values\n",
      "\n",
      "Column cast has 9.367548540933349 %null values\n",
      "\n",
      "Column country has 9.435676166685592 %null values\n",
      "\n",
      "Column date_added has 0.11354604292040424 %null values\n",
      "\n",
      "Column release_year has 0.0 %null values\n",
      "\n",
      "Column rating has 0.04541841716816169 %null values\n",
      "\n",
      "Column duration has 0.034063812876121265 %null values\n",
      "\n",
      "Column listed_in has 0.0 %null values\n",
      "\n",
      "Column description has 0.0 %null values\n",
      "\n"
     ]
    }
   ],
   "source": [
    "## Checking how much of missing values \n",
    "\n",
    "null_values=df.isnull().sum()/len(df)\n",
    "for i in range(len(null_values.index)):\n",
    "    print('Column',null_values.index[i],'has',null_values[i]*100,'%null values\\n')\n",
    "    "
   ]
  },
  {
   "cell_type": "code",
   "execution_count": 7,
   "id": "222f0856",
   "metadata": {},
   "outputs": [
    {
     "data": {
      "text/plain": [
       "(4529, 7693, 749)"
      ]
     },
     "execution_count": 7,
     "metadata": {},
     "output_type": "execute_result"
    }
   ],
   "source": [
    "len(df['director'].unique()),len(df['cast'].unique()),len(df['country'].unique())"
   ]
  },
  {
   "cell_type": "code",
   "execution_count": 8,
   "id": "0930c3c0",
   "metadata": {},
   "outputs": [
    {
     "data": {
      "text/plain": [
       "<AxesSubplot:>"
      ]
     },
     "execution_count": 8,
     "metadata": {},
     "output_type": "execute_result"
    },
    {
     "data": {
      "image/png": "[encoded data removed]",
      "text/plain": [
       "<Figure size 432x288 with 1 Axes>"
      ]
     },
     "metadata": {
      "needs_background": "light"
     },
     "output_type": "display_data"
    }
   ],
   "source": [
    "sns.heatmap(df.isnull(),cbar=False)"
   ]
  },
  {
   "cell_type": "markdown",
   "id": "adc24aca",
   "metadata": {},
   "source": [
    "There is more missing values in columns director,cast,country\n",
    "\n",
    "First drop director and cast missing values and fill minimal number ofmissing values in the remaining colums,using mode(most common value)and mean\n",
    "\n",
    "#### Handling missing values"
   ]
  },
  {
   "cell_type": "code",
   "execution_count": 9,
   "id": "44ed4a75",
   "metadata": {},
   "outputs": [],
   "source": [
    "df['country']=df['country'].fillna(df['country'].mode()[0])\n",
    "df['date_added']=df['date_added'].fillna(df['date_added'].mode()[0])\n",
    "df['rating']=df['rating'].fillna(df['rating'].mode()[0])\n",
    "df['duration']=df['duration'].fillna(df['duration'].mode()[0])\n",
    "\n",
    "df=df.dropna(how =\"any\",subset=['cast','director'])"
   ]
  },
  {
   "cell_type": "code",
   "execution_count": 10,
   "id": "51250d9e",
   "metadata": {},
   "outputs": [
    {
     "data": {
      "text/plain": [
       "<AxesSubplot:>"
      ]
     },
     "execution_count": 10,
     "metadata": {},
     "output_type": "execute_result"
    },
    {
     "data": {
      "image/png": "[encoded data removed]",
      "text/plain": [
       "<Figure size 432x288 with 1 Axes>"
      ]
     },
     "metadata": {
      "needs_background": "light"
     },
     "output_type": "display_data"
    }
   ],
   "source": [
    "sns.heatmap(df.isnull(),cbar=False)"
   ]
  },
  {
   "cell_type": "markdown",
   "id": "072d0ab6",
   "metadata": {},
   "source": [
    "All the missing values in the datasets have either been removed or filled\n",
    "\n",
    "#### checking duplicate values"
   ]
  },
  {
   "cell_type": "code",
   "execution_count": 11,
   "id": "0f1b2b6d",
   "metadata": {},
   "outputs": [
    {
     "data": {
      "text/plain": [
       "0"
      ]
     },
     "execution_count": 11,
     "metadata": {},
     "output_type": "execute_result"
    }
   ],
   "source": [
    "df.duplicated().sum()"
   ]
  },
  {
   "cell_type": "markdown",
   "id": "6b412ea3",
   "metadata": {},
   "source": [
    "dataset has 0 duplicate values\n",
    "\n",
    "#### cleaning data"
   ]
  },
  {
   "cell_type": "code",
   "execution_count": 12,
   "id": "a5573220",
   "metadata": {},
   "outputs": [
    {
     "data": {
      "text/plain": [
       "Index(['show_id', 'type', 'title', 'director', 'cast', 'country', 'date_added',\n",
       "       'release_year', 'rating', 'duration', 'listed_in', 'description'],\n",
       "      dtype='object')"
      ]
     },
     "execution_count": 12,
     "metadata": {},
     "output_type": "execute_result"
    }
   ],
   "source": [
    "df.columns"
   ]
  },
  {
   "cell_type": "markdown",
   "id": "1a667c87",
   "metadata": {},
   "source": [
    "#### Feature engineering\n",
    "\n",
    "Adding new columns\n",
    "\n",
    "listed_in - Genre\n",
    "\n",
    "year added-year_add\n",
    "\n",
    "month added-month_add\n",
    "\n",
    "country-country_main"
   ]
  },
  {
   "cell_type": "code",
   "execution_count": 13,
   "id": "3e8aa037",
   "metadata": {},
   "outputs": [
    {
     "data": {
      "text/plain": [
       "2       Crime TV Shows, International TV Shows, TV Act...\n",
       "5                      TV Dramas, TV Horror, TV Mysteries\n",
       "6                                Children & Family Movies\n",
       "7        Dramas, Independent Movies, International Movies\n",
       "8                            British TV Shows, Reality TV\n",
       "                              ...                        \n",
       "8801              Dramas, International Movies, Thrillers\n",
       "8802                       Cult Movies, Dramas, Thrillers\n",
       "8804                              Comedies, Horror Movies\n",
       "8805                   Children & Family Movies, Comedies\n",
       "8806       Dramas, International Movies, Music & Musicals\n",
       "Name: listed_in, Length: 5700, dtype: object"
      ]
     },
     "execution_count": 13,
     "metadata": {},
     "output_type": "execute_result"
    }
   ],
   "source": [
    "df['listed_in']"
   ]
  },
  {
   "cell_type": "code",
   "execution_count": 14,
   "id": "c56f8fb7",
   "metadata": {},
   "outputs": [
    {
     "data": {
      "text/plain": [
       "2              Crime TV Shows\n",
       "5                   TV Dramas\n",
       "6    Children & Family Movies\n",
       "7                      Dramas\n",
       "8            British TV Shows\n",
       "Name: Genre, dtype: object"
      ]
     },
     "execution_count": 14,
     "metadata": {},
     "output_type": "execute_result"
    }
   ],
   "source": [
    "# Rename listed_in as genre for easy understanding\n",
    "\n",
    "df=df.rename(columns={'listed_in':\"Genre\"})\n",
    "df['Genre']=df['Genre'].apply(lambda x: x.split(',')[0])\n",
    "df['Genre'].head()"
   ]
  },
  {
   "cell_type": "code",
   "execution_count": 15,
   "id": "6697c56f",
   "metadata": {},
   "outputs": [
    {
     "data": {
      "text/plain": [
       "array(['September 24, 2021', 'September 23, 2021', 'September 22, 2021',\n",
       "       ..., 'December 6, 2018', 'March 9, 2016', 'January 11, 2020'],\n",
       "      dtype=object)"
      ]
     },
     "execution_count": 15,
     "metadata": {},
     "output_type": "execute_result"
    }
   ],
   "source": [
    "df['date_added'].unique()"
   ]
  },
  {
   "cell_type": "code",
   "execution_count": 16,
   "id": "69b3cd8c",
   "metadata": {},
   "outputs": [
    {
     "data": {
      "text/plain": [
       "2    2021\n",
       "5    2021\n",
       "6    2021\n",
       "7    2021\n",
       "8    2021\n",
       "Name: year_add, dtype: object"
      ]
     },
     "execution_count": 16,
     "metadata": {},
     "output_type": "execute_result"
    }
   ],
   "source": [
    "# add new column ..year added\n",
    "df['year_add']=df['date_added'].apply(lambda x: x.split(' ')[-1])\n",
    "df['year_add'].head()"
   ]
  },
  {
   "cell_type": "code",
   "execution_count": 17,
   "id": "84fba3d3",
   "metadata": {},
   "outputs": [
    {
     "data": {
      "text/plain": [
       "2    September\n",
       "5    September\n",
       "6    September\n",
       "7    September\n",
       "8    September\n",
       "Name: month_add, dtype: object"
      ]
     },
     "execution_count": 17,
     "metadata": {},
     "output_type": "execute_result"
    }
   ],
   "source": [
    "## new column ..month added\n",
    "\n",
    "df['month_add']=df['date_added'].apply(lambda x:x.split(' ')[0])\n",
    "df['month_add'].head()"
   ]
  },
  {
   "cell_type": "code",
   "execution_count": 18,
   "id": "86315f93",
   "metadata": {},
   "outputs": [
    {
     "data": {
      "text/plain": [
       "2                                           United States\n",
       "5                                           United States\n",
       "6                                           United States\n",
       "7       United States, Ghana, Burkina Faso, United Kin...\n",
       "8                                          United Kingdom\n",
       "                              ...                        \n",
       "8801                         United Arab Emirates, Jordan\n",
       "8802                                        United States\n",
       "8804                                        United States\n",
       "8805                                        United States\n",
       "8806                                                India\n",
       "Name: country, Length: 5700, dtype: object"
      ]
     },
     "execution_count": 18,
     "metadata": {},
     "output_type": "execute_result"
    }
   ],
   "source": [
    "df['country']"
   ]
  },
  {
   "cell_type": "code",
   "execution_count": 19,
   "id": "e8225999",
   "metadata": {},
   "outputs": [
    {
     "data": {
      "text/plain": [
       "2     United States\n",
       "5     United States\n",
       "6     United States\n",
       "7     United States\n",
       "8    United Kingdom\n",
       "Name: country_main, dtype: object"
      ]
     },
     "execution_count": 19,
     "metadata": {},
     "output_type": "execute_result"
    }
   ],
   "source": [
    "## new column..main country \n",
    "\n",
    "df['country_main']=df['country'].apply(lambda x: x.split(',')[0])\n",
    "df['country_main'].head()"
   ]
  },
  {
   "cell_type": "code",
   "execution_count": 20,
   "id": "a32bff6c",
   "metadata": {},
   "outputs": [
    {
     "data": {
      "text/html": [
       "<div>\n",
       "<style scoped>\n",
       "    .dataframe tbody tr th:only-of-type {\n",
       "        vertical-align: middle;\n",
       "    }\n",
       "\n",
       "    .dataframe tbody tr th {\n",
       "        vertical-align: top;\n",
       "    }\n",
       "\n",
       "    .dataframe thead th {\n",
       "        text-align: right;\n",
       "    }\n",
       "</style>\n",
       "<table border=\"1\" class=\"dataframe\">\n",
       "  <thead>\n",
       "    <tr style=\"text-align: right;\">\n",
       "      <th></th>\n",
       "      <th>show_id</th>\n",
       "      <th>type</th>\n",
       "      <th>title</th>\n",
       "      <th>director</th>\n",
       "      <th>cast</th>\n",
       "      <th>country</th>\n",
       "      <th>date_added</th>\n",
       "      <th>release_year</th>\n",
       "      <th>rating</th>\n",
       "      <th>duration</th>\n",
       "      <th>Genre</th>\n",
       "      <th>description</th>\n",
       "      <th>year_add</th>\n",
       "      <th>month_add</th>\n",
       "      <th>country_main</th>\n",
       "    </tr>\n",
       "  </thead>\n",
       "  <tbody>\n",
       "    <tr>\n",
       "      <th>2</th>\n",
       "      <td>s3</td>\n",
       "      <td>TV Show</td>\n",
       "      <td>Ganglands</td>\n",
       "      <td>Julien Leclercq</td>\n",
       "      <td>Sami Bouajila, Tracy Gotoas, Samuel Jouy, Nabi...</td>\n",
       "      <td>United States</td>\n",
       "      <td>September 24, 2021</td>\n",
       "      <td>2021</td>\n",
       "      <td>TV-MA</td>\n",
       "      <td>1 Season</td>\n",
       "      <td>Crime TV Shows</td>\n",
       "      <td>To protect his family from a powerful drug lor...</td>\n",
       "      <td>2021</td>\n",
       "      <td>September</td>\n",
       "      <td>United States</td>\n",
       "    </tr>\n",
       "    <tr>\n",
       "      <th>5</th>\n",
       "      <td>s6</td>\n",
       "      <td>TV Show</td>\n",
       "      <td>Midnight Mass</td>\n",
       "      <td>Mike Flanagan</td>\n",
       "      <td>Kate Siegel, Zach Gilford, Hamish Linklater, H...</td>\n",
       "      <td>United States</td>\n",
       "      <td>September 24, 2021</td>\n",
       "      <td>2021</td>\n",
       "      <td>TV-MA</td>\n",
       "      <td>1 Season</td>\n",
       "      <td>TV Dramas</td>\n",
       "      <td>The arrival of a charismatic young priest brin...</td>\n",
       "      <td>2021</td>\n",
       "      <td>September</td>\n",
       "      <td>United States</td>\n",
       "    </tr>\n",
       "    <tr>\n",
       "      <th>6</th>\n",
       "      <td>s7</td>\n",
       "      <td>Movie</td>\n",
       "      <td>My Little Pony: A New Generation</td>\n",
       "      <td>Robert Cullen, José Luis Ucha</td>\n",
       "      <td>Vanessa Hudgens, Kimiko Glenn, James Marsden, ...</td>\n",
       "      <td>United States</td>\n",
       "      <td>September 24, 2021</td>\n",
       "      <td>2021</td>\n",
       "      <td>PG</td>\n",
       "      <td>91 min</td>\n",
       "      <td>Children &amp; Family Movies</td>\n",
       "      <td>Equestria's divided. But a bright-eyed hero be...</td>\n",
       "      <td>2021</td>\n",
       "      <td>September</td>\n",
       "      <td>United States</td>\n",
       "    </tr>\n",
       "    <tr>\n",
       "      <th>7</th>\n",
       "      <td>s8</td>\n",
       "      <td>Movie</td>\n",
       "      <td>Sankofa</td>\n",
       "      <td>Haile Gerima</td>\n",
       "      <td>Kofi Ghanaba, Oyafunmike Ogunlano, Alexandra D...</td>\n",
       "      <td>United States, Ghana, Burkina Faso, United Kin...</td>\n",
       "      <td>September 24, 2021</td>\n",
       "      <td>1993</td>\n",
       "      <td>TV-MA</td>\n",
       "      <td>125 min</td>\n",
       "      <td>Dramas</td>\n",
       "      <td>On a photo shoot in Ghana, an American model s...</td>\n",
       "      <td>2021</td>\n",
       "      <td>September</td>\n",
       "      <td>United States</td>\n",
       "    </tr>\n",
       "    <tr>\n",
       "      <th>8</th>\n",
       "      <td>s9</td>\n",
       "      <td>TV Show</td>\n",
       "      <td>The Great British Baking Show</td>\n",
       "      <td>Andy Devonshire</td>\n",
       "      <td>Mel Giedroyc, Sue Perkins, Mary Berry, Paul Ho...</td>\n",
       "      <td>United Kingdom</td>\n",
       "      <td>September 24, 2021</td>\n",
       "      <td>2021</td>\n",
       "      <td>TV-14</td>\n",
       "      <td>9 Seasons</td>\n",
       "      <td>British TV Shows</td>\n",
       "      <td>A talented batch of amateur bakers face off in...</td>\n",
       "      <td>2021</td>\n",
       "      <td>September</td>\n",
       "      <td>United Kingdom</td>\n",
       "    </tr>\n",
       "  </tbody>\n",
       "</table>\n",
       "</div>"
      ],
      "text/plain": [
       "  show_id     type                             title  \\\n",
       "2      s3  TV Show                         Ganglands   \n",
       "5      s6  TV Show                     Midnight Mass   \n",
       "6      s7    Movie  My Little Pony: A New Generation   \n",
       "7      s8    Movie                           Sankofa   \n",
       "8      s9  TV Show     The Great British Baking Show   \n",
       "\n",
       "                        director  \\\n",
       "2                Julien Leclercq   \n",
       "5                  Mike Flanagan   \n",
       "6  Robert Cullen, José Luis Ucha   \n",
       "7                   Haile Gerima   \n",
       "8                Andy Devonshire   \n",
       "\n",
       "                                                cast  \\\n",
       "2  Sami Bouajila, Tracy Gotoas, Samuel Jouy, Nabi...   \n",
       "5  Kate Siegel, Zach Gilford, Hamish Linklater, H...   \n",
       "6  Vanessa Hudgens, Kimiko Glenn, James Marsden, ...   \n",
       "7  Kofi Ghanaba, Oyafunmike Ogunlano, Alexandra D...   \n",
       "8  Mel Giedroyc, Sue Perkins, Mary Berry, Paul Ho...   \n",
       "\n",
       "                                             country          date_added  \\\n",
       "2                                      United States  September 24, 2021   \n",
       "5                                      United States  September 24, 2021   \n",
       "6                                      United States  September 24, 2021   \n",
       "7  United States, Ghana, Burkina Faso, United Kin...  September 24, 2021   \n",
       "8                                     United Kingdom  September 24, 2021   \n",
       "\n",
       "   release_year rating   duration                     Genre  \\\n",
       "2          2021  TV-MA   1 Season            Crime TV Shows   \n",
       "5          2021  TV-MA   1 Season                 TV Dramas   \n",
       "6          2021     PG     91 min  Children & Family Movies   \n",
       "7          1993  TV-MA    125 min                    Dramas   \n",
       "8          2021  TV-14  9 Seasons          British TV Shows   \n",
       "\n",
       "                                         description year_add  month_add  \\\n",
       "2  To protect his family from a powerful drug lor...     2021  September   \n",
       "5  The arrival of a charismatic young priest brin...     2021  September   \n",
       "6  Equestria's divided. But a bright-eyed hero be...     2021  September   \n",
       "7  On a photo shoot in Ghana, an American model s...     2021  September   \n",
       "8  A talented batch of amateur bakers face off in...     2021  September   \n",
       "\n",
       "     country_main  \n",
       "2   United States  \n",
       "5   United States  \n",
       "6   United States  \n",
       "7   United States  \n",
       "8  United Kingdom  "
      ]
     },
     "execution_count": 20,
     "metadata": {},
     "output_type": "execute_result"
    }
   ],
   "source": [
    "df.head()"
   ]
  },
  {
   "cell_type": "code",
   "execution_count": 21,
   "id": "9fb46abf",
   "metadata": {},
   "outputs": [
    {
     "data": {
      "text/plain": [
       "Movie      5522\n",
       "TV Show     178\n",
       "Name: type, dtype: int64"
      ]
     },
     "execution_count": 21,
     "metadata": {},
     "output_type": "execute_result"
    }
   ],
   "source": [
    "df['type'].value_counts()"
   ]
  },
  {
   "cell_type": "code",
   "execution_count": 22,
   "id": "d0e8fa12",
   "metadata": {},
   "outputs": [
    {
     "data": {
      "text/plain": [
       "TV-MA       1940\n",
       "TV-14       1329\n",
       "R            789\n",
       "PG-13        477\n",
       "TV-PG        456\n",
       "PG           279\n",
       "TV-Y7        123\n",
       "TV-Y         102\n",
       "TV-G          96\n",
       "NR            58\n",
       "G             40\n",
       "UR             3\n",
       "TV-Y7-FV       3\n",
       "NC-17          2\n",
       "84 min         1\n",
       "74 min         1\n",
       "66 min         1\n",
       "Name: rating, dtype: int64"
      ]
     },
     "execution_count": 22,
     "metadata": {},
     "output_type": "execute_result"
    }
   ],
   "source": [
    "df['rating'].value_counts()"
   ]
  },
  {
   "cell_type": "markdown",
   "id": "202f223d",
   "metadata": {},
   "source": [
    "Making two new dataframes,one with movies and other one with Tv shows\n",
    "\n",
    "movie\n",
    "\n",
    "tvshow"
   ]
  },
  {
   "cell_type": "code",
   "execution_count": 23,
   "id": "ace3e3c7",
   "metadata": {},
   "outputs": [],
   "source": [
    "movie_data= df[df['type']=='Movie']\n",
    "tv_data=df[df['type']=='TV Show']"
   ]
  },
  {
   "cell_type": "code",
   "execution_count": 24,
   "id": "b36029d2",
   "metadata": {},
   "outputs": [
    {
     "data": {
      "text/html": [
       "<div>\n",
       "<style scoped>\n",
       "    .dataframe tbody tr th:only-of-type {\n",
       "        vertical-align: middle;\n",
       "    }\n",
       "\n",
       "    .dataframe tbody tr th {\n",
       "        vertical-align: top;\n",
       "    }\n",
       "\n",
       "    .dataframe thead th {\n",
       "        text-align: right;\n",
       "    }\n",
       "</style>\n",
       "<table border=\"1\" class=\"dataframe\">\n",
       "  <thead>\n",
       "    <tr style=\"text-align: right;\">\n",
       "      <th></th>\n",
       "      <th>show_id</th>\n",
       "      <th>type</th>\n",
       "      <th>title</th>\n",
       "      <th>director</th>\n",
       "      <th>cast</th>\n",
       "      <th>country</th>\n",
       "      <th>date_added</th>\n",
       "      <th>release_year</th>\n",
       "      <th>rating</th>\n",
       "      <th>duration</th>\n",
       "      <th>Genre</th>\n",
       "      <th>description</th>\n",
       "      <th>year_add</th>\n",
       "      <th>month_add</th>\n",
       "      <th>country_main</th>\n",
       "    </tr>\n",
       "  </thead>\n",
       "  <tbody>\n",
       "    <tr>\n",
       "      <th>6</th>\n",
       "      <td>s7</td>\n",
       "      <td>Movie</td>\n",
       "      <td>My Little Pony: A New Generation</td>\n",
       "      <td>Robert Cullen, José Luis Ucha</td>\n",
       "      <td>Vanessa Hudgens, Kimiko Glenn, James Marsden, ...</td>\n",
       "      <td>United States</td>\n",
       "      <td>September 24, 2021</td>\n",
       "      <td>2021</td>\n",
       "      <td>PG</td>\n",
       "      <td>91 min</td>\n",
       "      <td>Children &amp; Family Movies</td>\n",
       "      <td>Equestria's divided. But a bright-eyed hero be...</td>\n",
       "      <td>2021</td>\n",
       "      <td>September</td>\n",
       "      <td>United States</td>\n",
       "    </tr>\n",
       "    <tr>\n",
       "      <th>7</th>\n",
       "      <td>s8</td>\n",
       "      <td>Movie</td>\n",
       "      <td>Sankofa</td>\n",
       "      <td>Haile Gerima</td>\n",
       "      <td>Kofi Ghanaba, Oyafunmike Ogunlano, Alexandra D...</td>\n",
       "      <td>United States, Ghana, Burkina Faso, United Kin...</td>\n",
       "      <td>September 24, 2021</td>\n",
       "      <td>1993</td>\n",
       "      <td>TV-MA</td>\n",
       "      <td>125 min</td>\n",
       "      <td>Dramas</td>\n",
       "      <td>On a photo shoot in Ghana, an American model s...</td>\n",
       "      <td>2021</td>\n",
       "      <td>September</td>\n",
       "      <td>United States</td>\n",
       "    </tr>\n",
       "    <tr>\n",
       "      <th>9</th>\n",
       "      <td>s10</td>\n",
       "      <td>Movie</td>\n",
       "      <td>The Starling</td>\n",
       "      <td>Theodore Melfi</td>\n",
       "      <td>Melissa McCarthy, Chris O'Dowd, Kevin Kline, T...</td>\n",
       "      <td>United States</td>\n",
       "      <td>September 24, 2021</td>\n",
       "      <td>2021</td>\n",
       "      <td>PG-13</td>\n",
       "      <td>104 min</td>\n",
       "      <td>Comedies</td>\n",
       "      <td>A woman adjusting to life after a loss contend...</td>\n",
       "      <td>2021</td>\n",
       "      <td>September</td>\n",
       "      <td>United States</td>\n",
       "    </tr>\n",
       "    <tr>\n",
       "      <th>12</th>\n",
       "      <td>s13</td>\n",
       "      <td>Movie</td>\n",
       "      <td>Je Suis Karl</td>\n",
       "      <td>Christian Schwochow</td>\n",
       "      <td>Luna Wedler, Jannis Niewöhner, Milan Peschel, ...</td>\n",
       "      <td>Germany, Czech Republic</td>\n",
       "      <td>September 23, 2021</td>\n",
       "      <td>2021</td>\n",
       "      <td>TV-MA</td>\n",
       "      <td>127 min</td>\n",
       "      <td>Dramas</td>\n",
       "      <td>After most of her family is murdered in a terr...</td>\n",
       "      <td>2021</td>\n",
       "      <td>September</td>\n",
       "      <td>Germany</td>\n",
       "    </tr>\n",
       "    <tr>\n",
       "      <th>13</th>\n",
       "      <td>s14</td>\n",
       "      <td>Movie</td>\n",
       "      <td>Confessions of an Invisible Girl</td>\n",
       "      <td>Bruno Garotti</td>\n",
       "      <td>Klara Castanho, Lucca Picon, Júlia Gomes, Marc...</td>\n",
       "      <td>United States</td>\n",
       "      <td>September 22, 2021</td>\n",
       "      <td>2021</td>\n",
       "      <td>TV-PG</td>\n",
       "      <td>91 min</td>\n",
       "      <td>Children &amp; Family Movies</td>\n",
       "      <td>When the clever but socially-awkward Tetê join...</td>\n",
       "      <td>2021</td>\n",
       "      <td>September</td>\n",
       "      <td>United States</td>\n",
       "    </tr>\n",
       "  </tbody>\n",
       "</table>\n",
       "</div>"
      ],
      "text/plain": [
       "   show_id   type                             title  \\\n",
       "6       s7  Movie  My Little Pony: A New Generation   \n",
       "7       s8  Movie                           Sankofa   \n",
       "9      s10  Movie                      The Starling   \n",
       "12     s13  Movie                      Je Suis Karl   \n",
       "13     s14  Movie  Confessions of an Invisible Girl   \n",
       "\n",
       "                         director  \\\n",
       "6   Robert Cullen, José Luis Ucha   \n",
       "7                    Haile Gerima   \n",
       "9                  Theodore Melfi   \n",
       "12            Christian Schwochow   \n",
       "13                  Bruno Garotti   \n",
       "\n",
       "                                                 cast  \\\n",
       "6   Vanessa Hudgens, Kimiko Glenn, James Marsden, ...   \n",
       "7   Kofi Ghanaba, Oyafunmike Ogunlano, Alexandra D...   \n",
       "9   Melissa McCarthy, Chris O'Dowd, Kevin Kline, T...   \n",
       "12  Luna Wedler, Jannis Niewöhner, Milan Peschel, ...   \n",
       "13  Klara Castanho, Lucca Picon, Júlia Gomes, Marc...   \n",
       "\n",
       "                                              country          date_added  \\\n",
       "6                                       United States  September 24, 2021   \n",
       "7   United States, Ghana, Burkina Faso, United Kin...  September 24, 2021   \n",
       "9                                       United States  September 24, 2021   \n",
       "12                            Germany, Czech Republic  September 23, 2021   \n",
       "13                                      United States  September 22, 2021   \n",
       "\n",
       "    release_year rating duration                     Genre  \\\n",
       "6           2021     PG   91 min  Children & Family Movies   \n",
       "7           1993  TV-MA  125 min                    Dramas   \n",
       "9           2021  PG-13  104 min                  Comedies   \n",
       "12          2021  TV-MA  127 min                    Dramas   \n",
       "13          2021  TV-PG   91 min  Children & Family Movies   \n",
       "\n",
       "                                          description year_add  month_add  \\\n",
       "6   Equestria's divided. But a bright-eyed hero be...     2021  September   \n",
       "7   On a photo shoot in Ghana, an American model s...     2021  September   \n",
       "9   A woman adjusting to life after a loss contend...     2021  September   \n",
       "12  After most of her family is murdered in a terr...     2021  September   \n",
       "13  When the clever but socially-awkward Tetê join...     2021  September   \n",
       "\n",
       "     country_main  \n",
       "6   United States  \n",
       "7   United States  \n",
       "9   United States  \n",
       "12        Germany  \n",
       "13  United States  "
      ]
     },
     "execution_count": 24,
     "metadata": {},
     "output_type": "execute_result"
    }
   ],
   "source": [
    "movie_data.head()"
   ]
  },
  {
   "cell_type": "code",
   "execution_count": 25,
   "id": "ed8f5811",
   "metadata": {},
   "outputs": [
    {
     "data": {
      "text/html": [
       "<div>\n",
       "<style scoped>\n",
       "    .dataframe tbody tr th:only-of-type {\n",
       "        vertical-align: middle;\n",
       "    }\n",
       "\n",
       "    .dataframe tbody tr th {\n",
       "        vertical-align: top;\n",
       "    }\n",
       "\n",
       "    .dataframe thead th {\n",
       "        text-align: right;\n",
       "    }\n",
       "</style>\n",
       "<table border=\"1\" class=\"dataframe\">\n",
       "  <thead>\n",
       "    <tr style=\"text-align: right;\">\n",
       "      <th></th>\n",
       "      <th>show_id</th>\n",
       "      <th>type</th>\n",
       "      <th>title</th>\n",
       "      <th>director</th>\n",
       "      <th>cast</th>\n",
       "      <th>country</th>\n",
       "      <th>date_added</th>\n",
       "      <th>release_year</th>\n",
       "      <th>rating</th>\n",
       "      <th>duration</th>\n",
       "      <th>Genre</th>\n",
       "      <th>description</th>\n",
       "      <th>year_add</th>\n",
       "      <th>month_add</th>\n",
       "      <th>country_main</th>\n",
       "    </tr>\n",
       "  </thead>\n",
       "  <tbody>\n",
       "    <tr>\n",
       "      <th>2</th>\n",
       "      <td>s3</td>\n",
       "      <td>TV Show</td>\n",
       "      <td>Ganglands</td>\n",
       "      <td>Julien Leclercq</td>\n",
       "      <td>Sami Bouajila, Tracy Gotoas, Samuel Jouy, Nabi...</td>\n",
       "      <td>United States</td>\n",
       "      <td>September 24, 2021</td>\n",
       "      <td>2021</td>\n",
       "      <td>TV-MA</td>\n",
       "      <td>1 Season</td>\n",
       "      <td>Crime TV Shows</td>\n",
       "      <td>To protect his family from a powerful drug lor...</td>\n",
       "      <td>2021</td>\n",
       "      <td>September</td>\n",
       "      <td>United States</td>\n",
       "    </tr>\n",
       "    <tr>\n",
       "      <th>5</th>\n",
       "      <td>s6</td>\n",
       "      <td>TV Show</td>\n",
       "      <td>Midnight Mass</td>\n",
       "      <td>Mike Flanagan</td>\n",
       "      <td>Kate Siegel, Zach Gilford, Hamish Linklater, H...</td>\n",
       "      <td>United States</td>\n",
       "      <td>September 24, 2021</td>\n",
       "      <td>2021</td>\n",
       "      <td>TV-MA</td>\n",
       "      <td>1 Season</td>\n",
       "      <td>TV Dramas</td>\n",
       "      <td>The arrival of a charismatic young priest brin...</td>\n",
       "      <td>2021</td>\n",
       "      <td>September</td>\n",
       "      <td>United States</td>\n",
       "    </tr>\n",
       "    <tr>\n",
       "      <th>8</th>\n",
       "      <td>s9</td>\n",
       "      <td>TV Show</td>\n",
       "      <td>The Great British Baking Show</td>\n",
       "      <td>Andy Devonshire</td>\n",
       "      <td>Mel Giedroyc, Sue Perkins, Mary Berry, Paul Ho...</td>\n",
       "      <td>United Kingdom</td>\n",
       "      <td>September 24, 2021</td>\n",
       "      <td>2021</td>\n",
       "      <td>TV-14</td>\n",
       "      <td>9 Seasons</td>\n",
       "      <td>British TV Shows</td>\n",
       "      <td>A talented batch of amateur bakers face off in...</td>\n",
       "      <td>2021</td>\n",
       "      <td>September</td>\n",
       "      <td>United Kingdom</td>\n",
       "    </tr>\n",
       "    <tr>\n",
       "      <th>11</th>\n",
       "      <td>s12</td>\n",
       "      <td>TV Show</td>\n",
       "      <td>Bangkok Breaking</td>\n",
       "      <td>Kongkiat Komesiri</td>\n",
       "      <td>Sukollawat Kanarot, Sushar Manaying, Pavarit M...</td>\n",
       "      <td>United States</td>\n",
       "      <td>September 23, 2021</td>\n",
       "      <td>2021</td>\n",
       "      <td>TV-MA</td>\n",
       "      <td>1 Season</td>\n",
       "      <td>Crime TV Shows</td>\n",
       "      <td>Struggling to earn a living in Bangkok, a man ...</td>\n",
       "      <td>2021</td>\n",
       "      <td>September</td>\n",
       "      <td>United States</td>\n",
       "    </tr>\n",
       "    <tr>\n",
       "      <th>47</th>\n",
       "      <td>s48</td>\n",
       "      <td>TV Show</td>\n",
       "      <td>The Smart Money Woman</td>\n",
       "      <td>Bunmi Ajakaiye</td>\n",
       "      <td>Osas Ighodaro, Ini Dima-Okojie, Kemi Lala Akin...</td>\n",
       "      <td>United States</td>\n",
       "      <td>September 16, 2021</td>\n",
       "      <td>2020</td>\n",
       "      <td>TV-MA</td>\n",
       "      <td>1 Season</td>\n",
       "      <td>International TV Shows</td>\n",
       "      <td>Five glamorous millennials strive for success ...</td>\n",
       "      <td>2021</td>\n",
       "      <td>September</td>\n",
       "      <td>United States</td>\n",
       "    </tr>\n",
       "  </tbody>\n",
       "</table>\n",
       "</div>"
      ],
      "text/plain": [
       "   show_id     type                          title           director  \\\n",
       "2       s3  TV Show                      Ganglands    Julien Leclercq   \n",
       "5       s6  TV Show                  Midnight Mass      Mike Flanagan   \n",
       "8       s9  TV Show  The Great British Baking Show    Andy Devonshire   \n",
       "11     s12  TV Show               Bangkok Breaking  Kongkiat Komesiri   \n",
       "47     s48  TV Show          The Smart Money Woman     Bunmi Ajakaiye   \n",
       "\n",
       "                                                 cast         country  \\\n",
       "2   Sami Bouajila, Tracy Gotoas, Samuel Jouy, Nabi...   United States   \n",
       "5   Kate Siegel, Zach Gilford, Hamish Linklater, H...   United States   \n",
       "8   Mel Giedroyc, Sue Perkins, Mary Berry, Paul Ho...  United Kingdom   \n",
       "11  Sukollawat Kanarot, Sushar Manaying, Pavarit M...   United States   \n",
       "47  Osas Ighodaro, Ini Dima-Okojie, Kemi Lala Akin...   United States   \n",
       "\n",
       "            date_added  release_year rating   duration  \\\n",
       "2   September 24, 2021          2021  TV-MA   1 Season   \n",
       "5   September 24, 2021          2021  TV-MA   1 Season   \n",
       "8   September 24, 2021          2021  TV-14  9 Seasons   \n",
       "11  September 23, 2021          2021  TV-MA   1 Season   \n",
       "47  September 16, 2021          2020  TV-MA   1 Season   \n",
       "\n",
       "                     Genre                                        description  \\\n",
       "2           Crime TV Shows  To protect his family from a powerful drug lor...   \n",
       "5                TV Dramas  The arrival of a charismatic young priest brin...   \n",
       "8         British TV Shows  A talented batch of amateur bakers face off in...   \n",
       "11          Crime TV Shows  Struggling to earn a living in Bangkok, a man ...   \n",
       "47  International TV Shows  Five glamorous millennials strive for success ...   \n",
       "\n",
       "   year_add  month_add    country_main  \n",
       "2      2021  September   United States  \n",
       "5      2021  September   United States  \n",
       "8      2021  September  United Kingdom  \n",
       "11     2021  September   United States  \n",
       "47     2021  September   United States  "
      ]
     },
     "execution_count": 25,
     "metadata": {},
     "output_type": "execute_result"
    }
   ],
   "source": [
    "tv_data.head()"
   ]
  },
  {
   "cell_type": "code",
   "execution_count": 26,
   "id": "356ef502",
   "metadata": {},
   "outputs": [
    {
     "data": {
      "text/plain": [
       "((5522, 15), (178, 15))"
      ]
     },
     "execution_count": 26,
     "metadata": {},
     "output_type": "execute_result"
    }
   ],
   "source": [
    "movie_data.shape,tv_data.shape"
   ]
  },
  {
   "cell_type": "markdown",
   "id": "29e48f03",
   "metadata": {},
   "source": [
    "### Exploratory Data Analysis"
   ]
  },
  {
   "cell_type": "markdown",
   "id": "cb9dc86d",
   "metadata": {},
   "source": [
    "##### >Number of movies and tv shows"
   ]
  },
  {
   "cell_type": "code",
   "execution_count": 27,
   "id": "ae499cd4",
   "metadata": {},
   "outputs": [
    {
     "data": {
      "text/plain": [
       "<AxesSubplot:xlabel='type', ylabel='count'>"
      ]
     },
     "execution_count": 27,
     "metadata": {},
     "output_type": "execute_result"
    },
    {
     "data": {
      "image/png": "[encoded data removed]",
      "text/plain": [
       "<Figure size 432x288 with 1 Axes>"
      ]
     },
     "metadata": {},
     "output_type": "display_data"
    }
   ],
   "source": [
    "sns.set(style='darkgrid')\n",
    "sns.countplot(x='type',data=df)"
   ]
  },
  {
   "cell_type": "markdown",
   "id": "aca7abf1",
   "metadata": {},
   "source": [
    "There are more Movies on Netflix than TvShows"
   ]
  },
  {
   "cell_type": "markdown",
   "id": "810100c7",
   "metadata": {},
   "source": [
    "#### >Rating Analysis "
   ]
  },
  {
   "cell_type": "code",
   "execution_count": 28,
   "id": "0c1d84d7",
   "metadata": {},
   "outputs": [
    {
     "data": {
      "text/plain": [
       "<AxesSubplot:title={'center':'Highest Movie rating'}, xlabel='rating', ylabel='count'>"
      ]
     },
     "execution_count": 28,
     "metadata": {},
     "output_type": "execute_result"
    },
    {
     "data": {
      "image/png": "[encoded data removed]",
      "text/plain": [
       "<Figure size 1440x720 with 1 Axes>"
      ]
     },
     "metadata": {},
     "output_type": "display_data"
    }
   ],
   "source": [
    "## Movie ratings\n",
    "\n",
    "plt.figure(figsize=(20,10))\n",
    "plt.title('Highest Movie rating',size=20)\n",
    "sns.set(style='darkgrid')\n",
    "sns.countplot(x='rating',data=movie_data,order=movie_data['rating'].value_counts().index[0:20])"
   ]
  },
  {
   "cell_type": "markdown",
   "id": "a3efd328",
   "metadata": {},
   "source": [
    "Highest count of movies are made with the 'TV_MA' rating.ie,rating assigneed by TV parental Guidelines to a television pgm that was designed for only mature audiences.\n",
    "\n",
    "Second highest count is the 'TV-14',for content may be appropriate for children younger than 14 yearsof age\n",
    "\n",
    "Third highest count is the 'R' rating.content that only suitable for above 17 years of age\n",
    "\n"
   ]
  },
  {
   "cell_type": "code",
   "execution_count": 34,
   "id": "d120f79d",
   "metadata": {},
   "outputs": [
    {
     "data": {
      "text/plain": [
       "<AxesSubplot:title={'center':'Highest TV show ratings'}, xlabel='rating', ylabel='count'>"
      ]
     },
     "execution_count": 34,
     "metadata": {},
     "output_type": "execute_result"
    },
    {
     "data": {
      "image/png": "[encoded data removed]",
      "text/plain": [
       "<Figure size 720x576 with 1 Axes>"
      ]
     },
     "metadata": {},
     "output_type": "display_data"
    }
   ],
   "source": [
    "## TV shows rating\n",
    "\n",
    "plt.figure(figsize=(10,8))\n",
    "plt.title('Highest TV show ratings',size=20)\n",
    "sns.set(style='darkgrid')\n",
    "sns.countplot(x='rating',data=tv_data,order=tv_data['rating'].value_counts().index[0:20])\n"
   ]
  },
  {
   "cell_type": "markdown",
   "id": "9848d7f8",
   "metadata": {},
   "source": [
    "Highest count of Tv shows has 'TV-MA' ratings ,for which content only for mature audience \n",
    "\n",
    "Second highest count of ratingd is 'TV-14',for the content which has only appropriate for only younger than 14years of age\n",
    "\n",
    "TV shows has very least number of counts with 'R ' rating"
   ]
  },
  {
   "cell_type": "markdown",
   "id": "638a126b",
   "metadata": {},
   "source": [
    "#### >Release year analysis "
   ]
  },
  {
   "cell_type": "code",
   "execution_count": 30,
   "id": "2487096c",
   "metadata": {},
   "outputs": [
    {
     "data": {
      "text/plain": [
       "<AxesSubplot:title={'center':'Release year Analysis of Content on Netflix'}, xlabel='count', ylabel='release_year'>"
      ]
     },
     "execution_count": 30,
     "metadata": {},
     "output_type": "execute_result"
    },
    {
     "data": {
      "image/png": "[encoded data removed]",
      "text/plain": [
       "<Figure size 1440x720 with 1 Axes>"
      ]
     },
     "metadata": {},
     "output_type": "display_data"
    }
   ],
   "source": [
    "plt.figure(figsize=(20,10))\n",
    "plt.title('Release year Analysis of Content on Netflix',size=20)\n",
    "sns.set(style='darkgrid')\n",
    "sns.countplot(y='release_year',data=df,palette='cool',order=df['release_year'].value_counts().index[0:20],hue=df['type'])"
   ]
  },
  {
   "cell_type": "markdown",
   "id": "06ad14ce",
   "metadata": {},
   "source": [
    "We can see that Netflix relesed most number of content in year 2018 \n",
    "\n",
    "Noticable growth in releasing content can be seen from the year 2015\n",
    "\n",
    "Most movies release on Netflix in the year 2018\n",
    "\n",
    "Most Tvshow content release on Netflix in the year 2020"
   ]
  },
  {
   "cell_type": "markdown",
   "id": "43388706",
   "metadata": {},
   "source": [
    "#### > content added Year Analysis"
   ]
  },
  {
   "cell_type": "code",
   "execution_count": 32,
   "id": "c7f855d0",
   "metadata": {},
   "outputs": [
    {
     "data": {
      "text/plain": [
       "<AxesSubplot:title={'center':'Content Added on Netflix Analysis'}, xlabel='year_add', ylabel='count'>"
      ]
     },
     "execution_count": 32,
     "metadata": {},
     "output_type": "execute_result"
    },
    {
     "data": {
      "image/png": "[encoded data removed]",
      "text/plain": [
       "<Figure size 1440x720 with 1 Axes>"
      ]
     },
     "metadata": {},
     "output_type": "display_data"
    }
   ],
   "source": [
    "plt.figure(figsize=(20,10))\n",
    "plt.title('Content Added on Netflix Analysis',size=20)\n",
    "sns.set(style='darkgrid')\n",
    "sns.countplot(x='year_add',data=df,order=df['year_add'].value_counts().index[0:15],hue=df['type'])"
   ]
  },
  {
   "cell_type": "markdown",
   "id": "0523c198",
   "metadata": {},
   "source": [
    "We can see that Netflix added more content in year 2019\n",
    "\n",
    "Most movies added on Netflix in year 2019\n",
    "\n",
    "Most TvShows added on Netflix in year 2020,2021"
   ]
  },
  {
   "cell_type": "code",
   "execution_count": null,
   "id": "d9e444d1",
   "metadata": {},
   "outputs": [],
   "source": []
  }
 ],
 "metadata": {
  "kernelspec": {
   "display_name": "Python 3",
   "language": "python",
   "name": "python3"
  },
  "language_info": {
   "codemirror_mode": {
    "name": "ipython",
    "version": 3
   },
   "file_extension": ".py",
   "mimetype": "text/x-python",
   "name": "python",
   "nbconvert_exporter": "python",
   "pygments_lexer": "ipython3",
   "version": "3.7.10"
  }
 },
 "nbformat": 4,
 "nbformat_minor": 5
}
