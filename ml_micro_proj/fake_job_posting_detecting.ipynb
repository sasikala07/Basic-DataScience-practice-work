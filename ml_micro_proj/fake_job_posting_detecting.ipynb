{
 "cells": [
  {
   "cell_type": "markdown",
   "id": "lasting-latino",
   "metadata": {},
   "source": [
    "[Real or Fake] : Fake Job Description Prediction\n",
    "\n",
    "This dataset contains 18K job descriptions out of which about 800 are fake. The data consists of both textual information and meta-information about the jobs. The dataset can be used to create classification models which can learn the job descriptions which are fraudulent.\n",
    "Acknowledgements\n",
    "\n",
    "The University of the Aegean | Laboratory of Information & Communication Systems Security\n",
    "http://emscad.samos.aegean.gr/\n",
    "Inspiration\n",
    "\n",
    "The dataset is very valuable as it can be used to answer the following questions:\n",
    "\n",
    "    Create a classification model that uses text data features and meta-features and predict which job description     are fraudulent or real.\n",
    "    Identify key traits/features (words, entities, phrases) of job descriptions which are fraudulent in nature.\n",
    "    Run a contextual embedding model to identify the most similar job descriptions.\n",
    "    Perform Exploratory Data Analysis on the dataset to identify interesting insights from this dataset.\n"
   ]
  },
  {
   "cell_type": "code",
   "execution_count": 2,
   "id": "amber-orchestra",
   "metadata": {},
   "outputs": [],
   "source": [
    "import pandas as pd\n",
    "import numpy as np\n",
    "import matplotlib.pyplot as plt\n",
    "import seaborn as sns\n",
    "from sklearn.model_selection import train_test_split\n",
    "from sklearn.metrics import accuracy_score,precision_score,recall_score,confusion_matrix\n",
    "import warnings\n",
    "warnings.filterwarnings('ignore')"
   ]
  },
  {
   "cell_type": "code",
   "execution_count": 3,
   "id": "blessed-bosnia",
   "metadata": {},
   "outputs": [
    {
     "data": {
      "text/html": [
       "<div>\n",
       "<style scoped>\n",
       "    .dataframe tbody tr th:only-of-type {\n",
       "        vertical-align: middle;\n",
       "    }\n",
       "\n",
       "    .dataframe tbody tr th {\n",
       "        vertical-align: top;\n",
       "    }\n",
       "\n",
       "    .dataframe thead th {\n",
       "        text-align: right;\n",
       "    }\n",
       "</style>\n",
       "<table border=\"1\" class=\"dataframe\">\n",
       "  <thead>\n",
       "    <tr style=\"text-align: right;\">\n",
       "      <th></th>\n",
       "      <th>job_id</th>\n",
       "      <th>title</th>\n",
       "      <th>location</th>\n",
       "      <th>department</th>\n",
       "      <th>salary_range</th>\n",
       "      <th>company_profile</th>\n",
       "      <th>description</th>\n",
       "      <th>requirements</th>\n",
       "      <th>benefits</th>\n",
       "      <th>telecommuting</th>\n",
       "      <th>has_company_logo</th>\n",
       "      <th>has_questions</th>\n",
       "      <th>employment_type</th>\n",
       "      <th>required_experience</th>\n",
       "      <th>required_education</th>\n",
       "      <th>industry</th>\n",
       "      <th>function</th>\n",
       "      <th>fraudulent</th>\n",
       "    </tr>\n",
       "  </thead>\n",
       "  <tbody>\n",
       "    <tr>\n",
       "      <th>0</th>\n",
       "      <td>1</td>\n",
       "      <td>Marketing Intern</td>\n",
       "      <td>US, NY, New York</td>\n",
       "      <td>Marketing</td>\n",
       "      <td>NaN</td>\n",
       "      <td>We're Food52, and we've created a groundbreaki...</td>\n",
       "      <td>Food52, a fast-growing, James Beard Award-winn...</td>\n",
       "      <td>Experience with content management systems a m...</td>\n",
       "      <td>NaN</td>\n",
       "      <td>0</td>\n",
       "      <td>1</td>\n",
       "      <td>0</td>\n",
       "      <td>Other</td>\n",
       "      <td>Internship</td>\n",
       "      <td>NaN</td>\n",
       "      <td>NaN</td>\n",
       "      <td>Marketing</td>\n",
       "      <td>0</td>\n",
       "    </tr>\n",
       "    <tr>\n",
       "      <th>1</th>\n",
       "      <td>2</td>\n",
       "      <td>Customer Service - Cloud Video Production</td>\n",
       "      <td>NZ, , Auckland</td>\n",
       "      <td>Success</td>\n",
       "      <td>NaN</td>\n",
       "      <td>90 Seconds, the worlds Cloud Video Production ...</td>\n",
       "      <td>Organised - Focused - Vibrant - Awesome!Do you...</td>\n",
       "      <td>What we expect from you:Your key responsibilit...</td>\n",
       "      <td>What you will get from usThrough being part of...</td>\n",
       "      <td>0</td>\n",
       "      <td>1</td>\n",
       "      <td>0</td>\n",
       "      <td>Full-time</td>\n",
       "      <td>Not Applicable</td>\n",
       "      <td>NaN</td>\n",
       "      <td>Marketing and Advertising</td>\n",
       "      <td>Customer Service</td>\n",
       "      <td>0</td>\n",
       "    </tr>\n",
       "    <tr>\n",
       "      <th>2</th>\n",
       "      <td>3</td>\n",
       "      <td>Commissioning Machinery Assistant (CMA)</td>\n",
       "      <td>US, IA, Wever</td>\n",
       "      <td>NaN</td>\n",
       "      <td>NaN</td>\n",
       "      <td>Valor Services provides Workforce Solutions th...</td>\n",
       "      <td>Our client, located in Houston, is actively se...</td>\n",
       "      <td>Implement pre-commissioning and commissioning ...</td>\n",
       "      <td>NaN</td>\n",
       "      <td>0</td>\n",
       "      <td>1</td>\n",
       "      <td>0</td>\n",
       "      <td>NaN</td>\n",
       "      <td>NaN</td>\n",
       "      <td>NaN</td>\n",
       "      <td>NaN</td>\n",
       "      <td>NaN</td>\n",
       "      <td>0</td>\n",
       "    </tr>\n",
       "    <tr>\n",
       "      <th>3</th>\n",
       "      <td>4</td>\n",
       "      <td>Account Executive - Washington DC</td>\n",
       "      <td>US, DC, Washington</td>\n",
       "      <td>Sales</td>\n",
       "      <td>NaN</td>\n",
       "      <td>Our passion for improving quality of life thro...</td>\n",
       "      <td>THE COMPANY: ESRI – Environmental Systems Rese...</td>\n",
       "      <td>EDUCATION: Bachelor’s or Master’s in GIS, busi...</td>\n",
       "      <td>Our culture is anything but corporate—we have ...</td>\n",
       "      <td>0</td>\n",
       "      <td>1</td>\n",
       "      <td>0</td>\n",
       "      <td>Full-time</td>\n",
       "      <td>Mid-Senior level</td>\n",
       "      <td>Bachelor's Degree</td>\n",
       "      <td>Computer Software</td>\n",
       "      <td>Sales</td>\n",
       "      <td>0</td>\n",
       "    </tr>\n",
       "    <tr>\n",
       "      <th>4</th>\n",
       "      <td>5</td>\n",
       "      <td>Bill Review Manager</td>\n",
       "      <td>US, FL, Fort Worth</td>\n",
       "      <td>NaN</td>\n",
       "      <td>NaN</td>\n",
       "      <td>SpotSource Solutions LLC is a Global Human Cap...</td>\n",
       "      <td>JOB TITLE: Itemization Review ManagerLOCATION:...</td>\n",
       "      <td>QUALIFICATIONS:RN license in the State of Texa...</td>\n",
       "      <td>Full Benefits Offered</td>\n",
       "      <td>0</td>\n",
       "      <td>1</td>\n",
       "      <td>1</td>\n",
       "      <td>Full-time</td>\n",
       "      <td>Mid-Senior level</td>\n",
       "      <td>Bachelor's Degree</td>\n",
       "      <td>Hospital &amp; Health Care</td>\n",
       "      <td>Health Care Provider</td>\n",
       "      <td>0</td>\n",
       "    </tr>\n",
       "  </tbody>\n",
       "</table>\n",
       "</div>"
      ],
      "text/plain": [
       "   job_id                                      title            location  \\\n",
       "0       1                           Marketing Intern    US, NY, New York   \n",
       "1       2  Customer Service - Cloud Video Production      NZ, , Auckland   \n",
       "2       3    Commissioning Machinery Assistant (CMA)       US, IA, Wever   \n",
       "3       4          Account Executive - Washington DC  US, DC, Washington   \n",
       "4       5                        Bill Review Manager  US, FL, Fort Worth   \n",
       "\n",
       "  department salary_range                                    company_profile  \\\n",
       "0  Marketing          NaN  We're Food52, and we've created a groundbreaki...   \n",
       "1    Success          NaN  90 Seconds, the worlds Cloud Video Production ...   \n",
       "2        NaN          NaN  Valor Services provides Workforce Solutions th...   \n",
       "3      Sales          NaN  Our passion for improving quality of life thro...   \n",
       "4        NaN          NaN  SpotSource Solutions LLC is a Global Human Cap...   \n",
       "\n",
       "                                         description  \\\n",
       "0  Food52, a fast-growing, James Beard Award-winn...   \n",
       "1  Organised - Focused - Vibrant - Awesome!Do you...   \n",
       "2  Our client, located in Houston, is actively se...   \n",
       "3  THE COMPANY: ESRI – Environmental Systems Rese...   \n",
       "4  JOB TITLE: Itemization Review ManagerLOCATION:...   \n",
       "\n",
       "                                        requirements  \\\n",
       "0  Experience with content management systems a m...   \n",
       "1  What we expect from you:Your key responsibilit...   \n",
       "2  Implement pre-commissioning and commissioning ...   \n",
       "3  EDUCATION: Bachelor’s or Master’s in GIS, busi...   \n",
       "4  QUALIFICATIONS:RN license in the State of Texa...   \n",
       "\n",
       "                                            benefits  telecommuting  \\\n",
       "0                                                NaN              0   \n",
       "1  What you will get from usThrough being part of...              0   \n",
       "2                                                NaN              0   \n",
       "3  Our culture is anything but corporate—we have ...              0   \n",
       "4                              Full Benefits Offered              0   \n",
       "\n",
       "   has_company_logo  has_questions employment_type required_experience  \\\n",
       "0                 1              0           Other          Internship   \n",
       "1                 1              0       Full-time      Not Applicable   \n",
       "2                 1              0             NaN                 NaN   \n",
       "3                 1              0       Full-time    Mid-Senior level   \n",
       "4                 1              1       Full-time    Mid-Senior level   \n",
       "\n",
       "  required_education                   industry              function  \\\n",
       "0                NaN                        NaN             Marketing   \n",
       "1                NaN  Marketing and Advertising      Customer Service   \n",
       "2                NaN                        NaN                   NaN   \n",
       "3  Bachelor's Degree          Computer Software                 Sales   \n",
       "4  Bachelor's Degree     Hospital & Health Care  Health Care Provider   \n",
       "\n",
       "   fraudulent  \n",
       "0           0  \n",
       "1           0  \n",
       "2           0  \n",
       "3           0  \n",
       "4           0  "
      ]
     },
     "execution_count": 3,
     "metadata": {},
     "output_type": "execute_result"
    }
   ],
   "source": [
    "df=pd.read_csv('fake_job_postings.csv')\n",
    "df.head()"
   ]
  },
  {
   "cell_type": "code",
   "execution_count": 4,
   "id": "painted-magazine",
   "metadata": {},
   "outputs": [
    {
     "data": {
      "text/plain": [
       "(17880, 18)"
      ]
     },
     "execution_count": 4,
     "metadata": {},
     "output_type": "execute_result"
    }
   ],
   "source": [
    "df.shape"
   ]
  },
  {
   "cell_type": "markdown",
   "id": "twenty-tobacco",
   "metadata": {},
   "source": [
    "#### Exploring dataset Analysis"
   ]
  },
  {
   "cell_type": "code",
   "execution_count": 5,
   "id": "chicken-parent",
   "metadata": {},
   "outputs": [
    {
     "data": {
      "text/plain": [
       "Index(['job_id', 'title', 'location', 'department', 'salary_range',\n",
       "       'company_profile', 'description', 'requirements', 'benefits',\n",
       "       'telecommuting', 'has_company_logo', 'has_questions', 'employment_type',\n",
       "       'required_experience', 'required_education', 'industry', 'function',\n",
       "       'fraudulent'],\n",
       "      dtype='object')"
      ]
     },
     "execution_count": 5,
     "metadata": {},
     "output_type": "execute_result"
    }
   ],
   "source": [
    "df.columns"
   ]
  },
  {
   "cell_type": "code",
   "execution_count": 6,
   "id": "solar-syndicate",
   "metadata": {},
   "outputs": [
    {
     "name": "stdout",
     "output_type": "stream",
     "text": [
      "<class 'pandas.core.frame.DataFrame'>\n",
      "RangeIndex: 17880 entries, 0 to 17879\n",
      "Data columns (total 18 columns):\n",
      " #   Column               Non-Null Count  Dtype \n",
      "---  ------               --------------  ----- \n",
      " 0   job_id               17880 non-null  int64 \n",
      " 1   title                17880 non-null  object\n",
      " 2   location             17534 non-null  object\n",
      " 3   department           6333 non-null   object\n",
      " 4   salary_range         2868 non-null   object\n",
      " 5   company_profile      14572 non-null  object\n",
      " 6   description          17879 non-null  object\n",
      " 7   requirements         15185 non-null  object\n",
      " 8   benefits             10670 non-null  object\n",
      " 9   telecommuting        17880 non-null  int64 \n",
      " 10  has_company_logo     17880 non-null  int64 \n",
      " 11  has_questions        17880 non-null  int64 \n",
      " 12  employment_type      14409 non-null  object\n",
      " 13  required_experience  10830 non-null  object\n",
      " 14  required_education   9775 non-null   object\n",
      " 15  industry             12977 non-null  object\n",
      " 16  function             11425 non-null  object\n",
      " 17  fraudulent           17880 non-null  int64 \n",
      "dtypes: int64(5), object(13)\n",
      "memory usage: 2.5+ MB\n"
     ]
    }
   ],
   "source": [
    "df.info()"
   ]
  },
  {
   "cell_type": "code",
   "execution_count": 7,
   "id": "banned-myrtle",
   "metadata": {},
   "outputs": [],
   "source": [
    "##feture selection\n",
    "\n",
    "df1=df[['title', 'location','company_profile', 'requirements', 'telecommuting', 'has_company_logo', 'has_questions', 'employment_type',\n",
    "       'required_experience', 'required_education', 'industry', 'function','salary_range',\n",
    "       'fraudulent']]\n"
   ]
  },
  {
   "cell_type": "code",
   "execution_count": 8,
   "id": "loaded-description",
   "metadata": {},
   "outputs": [
    {
     "data": {
      "text/plain": [
       "title                      0\n",
       "location                 346\n",
       "company_profile         3308\n",
       "requirements            2695\n",
       "telecommuting              0\n",
       "has_company_logo           0\n",
       "has_questions              0\n",
       "employment_type         3471\n",
       "required_experience     7050\n",
       "required_education      8105\n",
       "industry                4903\n",
       "function                6455\n",
       "salary_range           15012\n",
       "fraudulent                 0\n",
       "dtype: int64"
      ]
     },
     "execution_count": 8,
     "metadata": {},
     "output_type": "execute_result"
    }
   ],
   "source": [
    "df1.isnull().sum()"
   ]
  },
  {
   "cell_type": "code",
   "execution_count": 9,
   "id": "federal-leonard",
   "metadata": {},
   "outputs": [],
   "source": [
    "#seperate categorical data and numerical data\n",
    "\n",
    "df_num=df.select_dtypes(include=['int64'])\n",
    "df_cat=df.select_dtypes(include=['object'])"
   ]
  },
  {
   "cell_type": "markdown",
   "id": "agricultural-measure",
   "metadata": {},
   "source": [
    "checking for missing values and outliers"
   ]
  },
  {
   "cell_type": "code",
   "execution_count": 10,
   "id": "adequate-warren",
   "metadata": {},
   "outputs": [
    {
     "data": {
      "text/plain": [
       "493"
      ]
     },
     "execution_count": 10,
     "metadata": {},
     "output_type": "execute_result"
    }
   ],
   "source": [
    "#check dupplicate values\n",
    "\n",
    "df1.duplicated().sum()"
   ]
  },
  {
   "cell_type": "code",
   "execution_count": 11,
   "id": "declared-miracle",
   "metadata": {},
   "outputs": [
    {
     "data": {
      "text/plain": [
       "0"
      ]
     },
     "execution_count": 11,
     "metadata": {},
     "output_type": "execute_result"
    }
   ],
   "source": [
    "#drop the duplicate values\n",
    "\n",
    "\n",
    "df1.drop_duplicates(inplace=True)\n",
    "df1.duplicated().sum()"
   ]
  },
  {
   "cell_type": "code",
   "execution_count": 12,
   "id": "labeled-casting",
   "metadata": {},
   "outputs": [
    {
     "data": {
      "image/png": "[encoded data removed]",
      "text/plain": [
       "<Figure size 720x576 with 1 Axes>"
      ]
     },
     "metadata": {
      "needs_background": "light"
     },
     "output_type": "display_data"
    }
   ],
   "source": [
    "#checking outliers in numerical datas\n",
    "\n",
    "plt.figure(figsize=(10,8))\n",
    "sns.boxplot(data=df_num)\n",
    "plt.show()"
   ]
  },
  {
   "cell_type": "code",
   "execution_count": 13,
   "id": "swiss-wireless",
   "metadata": {},
   "outputs": [],
   "source": [
    "#Removing Outliers from columns\n",
    "df_num = df_num[df_num['telecommuting'] < 0.9 ]\n",
    "df_num = df_num[df_num['fraudulent'] < 0.9 ]\n",
    "df_num = df_num[df_num['has_company_logo'] > 0.1 ]"
   ]
  },
  {
   "cell_type": "code",
   "execution_count": 14,
   "id": "orange-avatar",
   "metadata": {},
   "outputs": [
    {
     "data": {
      "text/plain": [
       "(17387, 14)"
      ]
     },
     "execution_count": 14,
     "metadata": {},
     "output_type": "execute_result"
    }
   ],
   "source": [
    "df1.shape"
   ]
  },
  {
   "cell_type": "code",
   "execution_count": 15,
   "id": "moderate-apollo",
   "metadata": {},
   "outputs": [
    {
     "data": {
      "text/plain": [
       "title                  0\n",
       "location               0\n",
       "company_profile        0\n",
       "requirements           0\n",
       "telecommuting          0\n",
       "has_company_logo       0\n",
       "has_questions          0\n",
       "employment_type        0\n",
       "required_experience    0\n",
       "required_education     0\n",
       "industry               0\n",
       "function               0\n",
       "salary_range           0\n",
       "fraudulent             0\n",
       "dtype: int64"
      ]
     },
     "execution_count": 15,
     "metadata": {},
     "output_type": "execute_result"
    }
   ],
   "source": [
    "#remove missing values\n",
    "df1.dropna(inplace=True)\n",
    "df1.isnull().sum()"
   ]
  },
  {
   "cell_type": "code",
   "execution_count": 16,
   "id": "difficult-three",
   "metadata": {},
   "outputs": [
    {
     "data": {
      "text/plain": [
       "(1485, 14)"
      ]
     },
     "execution_count": 16,
     "metadata": {},
     "output_type": "execute_result"
    }
   ],
   "source": [
    "df1.shape"
   ]
  },
  {
   "cell_type": "code",
   "execution_count": null,
   "id": "regulated-contact",
   "metadata": {},
   "outputs": [],
   "source": []
  },
  {
   "cell_type": "markdown",
   "id": "successful-academy",
   "metadata": {},
   "source": [
    "### visualization to analyse data"
   ]
  },
  {
   "cell_type": "code",
   "execution_count": 17,
   "id": "smooth-simulation",
   "metadata": {},
   "outputs": [
    {
     "data": {
      "image/png": "[encoded data removed]",
      "text/plain": [
       "<Figure size 1800x1440 with 3 Axes>"
      ]
     },
     "metadata": {
      "needs_background": "light"
     },
     "output_type": "display_data"
    }
   ],
   "source": [
    "#plot to see distribution of the continous features individually\n",
    "\n",
    "plt.figure(figsize= (25,20))\n",
    "plt.subplot(3,3,1)\n",
    "plt.hist(df1.employment_type, color='orange', edgecolor = 'black', alpha = 0.7)\n",
    "plt.xlabel('\\nEmployment type')\n",
    "\n",
    "plt.subplot(3,3,2)\n",
    "plt.hist(df1.required_experience, color='lightblue', edgecolor = 'black', alpha = 0.7)\n",
    "plt.xlabel('\\nRequired Experience')\n",
    "\n",
    "plt.subplot(3,3,3)\n",
    "plt.hist(df1.fraudulent, color='red', edgecolor = 'black', alpha = 0.7)\n",
    "plt.xlabel('\\nFraud')\n",
    "\n",
    "\n",
    "plt.show()\n"
   ]
  },
  {
   "cell_type": "markdown",
   "id": "military-peripheral",
   "metadata": {},
   "source": [
    "-Full time job are posted more rather than other type of employemnt type\n",
    "\n",
    "-More job available that required Mid senior level experience"
   ]
  },
  {
   "cell_type": "code",
   "execution_count": 18,
   "id": "homeless-scale",
   "metadata": {},
   "outputs": [
    {
     "data": {
      "text/plain": [
       "<AxesSubplot:xlabel='function', ylabel='count'>"
      ]
     },
     "execution_count": 18,
     "metadata": {},
     "output_type": "execute_result"
    },
    {
     "data": {
      "image/png": "[encoded data removed]",
      "text/plain": [
       "<Figure size 3600x1440 with 1 Axes>"
      ]
     },
     "metadata": {
      "needs_background": "light"
     },
     "output_type": "display_data"
    }
   ],
   "source": [
    "#plot maximum number of job in which field\n",
    "\n",
    "plt.figure(figsize=(50,20))\n",
    "sns.set_style(\"darkgrid\")\n",
    "sns.countplot(x='function',data=df,palette='Set1')"
   ]
  },
  {
   "cell_type": "markdown",
   "id": "extended-orchestra",
   "metadata": {},
   "source": [
    "-Maximum number of jobs are posted in IT field and Minimum jobs are posted related to purchasing,science and    \n",
    "Distribution\n",
    "\n",
    "-jobs inSales,IT,Marketing,Engineering,Customer Service,Administrative are most in deamnd jobs"
   ]
  },
  {
   "cell_type": "markdown",
   "id": "stylish-mediterranean",
   "metadata": {},
   "source": [
    "#### job titles which have most full time job oppportunities and how many"
   ]
  },
  {
   "cell_type": "code",
   "execution_count": 19,
   "id": "executive-antigua",
   "metadata": {},
   "outputs": [
    {
     "data": {
      "text/plain": [
       "Agent-Inbound Sales Position               12\n",
       "Marketing Manager                           8\n",
       "Customer Service Representative             8\n",
       "Technical Support Associate                 7\n",
       "Web Developer                               7\n",
       "                                           ..\n",
       "Sales - General Manager (London)            1\n",
       "Customer Service Advisor                    1\n",
       "WordPress Developers                        1\n",
       "Sales and Marketing Intern                  1\n",
       "Frontend UX / Magento Themes Developer      1\n",
       "Name: title, Length: 1027, dtype: int64"
      ]
     },
     "execution_count": 19,
     "metadata": {},
     "output_type": "execute_result"
    }
   ],
   "source": [
    "## job titles which have most full time job oppportunities and how many\n",
    "\n",
    "## subsetting dataframe which have Full time employemnt type and are not a fraud\n",
    "\n",
    "df_jobs=df1[(df1['employment_type']=='Full-time')&(df1['fraudulent']==0)]\n",
    "df_jobs['title'].value_counts()\n",
    " "
   ]
  },
  {
   "cell_type": "code",
   "execution_count": 20,
   "id": "chicken-executive",
   "metadata": {},
   "outputs": [
    {
     "data": {
      "text/plain": [
       "12"
      ]
     },
     "execution_count": 20,
     "metadata": {},
     "output_type": "execute_result"
    }
   ],
   "source": [
    "df_jobs['title'].value_counts().max()"
   ]
  },
  {
   "cell_type": "code",
   "execution_count": 21,
   "id": "advance-browser",
   "metadata": {},
   "outputs": [
    {
     "data": {
      "text/plain": [
       "<AxesSubplot:title={'center':'Top job title with full time '}>"
      ]
     },
     "execution_count": 21,
     "metadata": {},
     "output_type": "execute_result"
    },
    {
     "data": {
      "image/png": "[encoded data removed]",
      "text/plain": [
       "<Figure size 720x576 with 1 Axes>"
      ]
     },
     "metadata": {},
     "output_type": "display_data"
    }
   ],
   "source": [
    "#plot\n",
    "\n",
    "s = df_jobs['title'].value_counts()\n",
    "\n",
    "s.head(n=10).plot.bar(figsize =(10, 8), title = \"Top job title with full time \")\n"
   ]
  },
  {
   "cell_type": "markdown",
   "id": "ongoing-metadata",
   "metadata": {},
   "source": [
    "-Job title 'Agent Inbound sales position' has 12 opportunities for a full time job"
   ]
  },
  {
   "cell_type": "code",
   "execution_count": 22,
   "id": "dangerous-validity",
   "metadata": {},
   "outputs": [
    {
     "data": {
      "text/plain": [
       "Bachelor's Degree                    739\n",
       "High School or equivalent            289\n",
       "Unspecified                          262\n",
       "Associate Degree                      68\n",
       "Master's Degree                       45\n",
       "Certification                         28\n",
       "Some College Coursework Completed     20\n",
       "Professional                          13\n",
       "Vocational                            13\n",
       "Doctorate                              3\n",
       "Vocational - HS Diploma                2\n",
       "Some High School Coursework            2\n",
       "Vocational - Degree                    1\n",
       "Name: required_education, dtype: int64"
      ]
     },
     "execution_count": 22,
     "metadata": {},
     "output_type": "execute_result"
    }
   ],
   "source": [
    "## required eduaction for both\n",
    "df1['required_education'].value_counts()"
   ]
  },
  {
   "cell_type": "markdown",
   "id": "suitable-houston",
   "metadata": {},
   "source": [
    "#### Most Required eduaction for Real job post"
   ]
  },
  {
   "cell_type": "code",
   "execution_count": 23,
   "id": "extended-testing",
   "metadata": {},
   "outputs": [
    {
     "data": {
      "text/plain": [
       "<AxesSubplot:title={'center':'Top Required Education for Real job post  '}>"
      ]
     },
     "execution_count": 23,
     "metadata": {},
     "output_type": "execute_result"
    },
    {
     "data": {
      "image/png": "[encoded data removed]",
      "text/plain": [
       "<Figure size 720x576 with 1 Axes>"
      ]
     },
     "metadata": {},
     "output_type": "display_data"
    }
   ],
   "source": [
    "df_ed=df1[df1['fraudulent']==0]\n",
    "\n",
    "s_ed = df_ed['required_education'].value_counts()\n",
    "\n",
    "s_ed.head(n=10).plot.bar(figsize =(10, 8), title = \"Top Required Education for Real job post  \")\n"
   ]
  },
  {
   "cell_type": "markdown",
   "id": "controlled-conversation",
   "metadata": {},
   "source": [
    "-Most Required Education : Bachelor's Degree"
   ]
  },
  {
   "cell_type": "markdown",
   "id": "maritime-provision",
   "metadata": {},
   "source": [
    "#### which industry has max number of fake jobs"
   ]
  },
  {
   "cell_type": "code",
   "execution_count": 24,
   "id": "biblical-karaoke",
   "metadata": {},
   "outputs": [
    {
     "name": "stdout",
     "output_type": "stream",
     "text": [
      "(82, 14)\n",
      "\n"
     ]
    },
    {
     "data": {
      "text/plain": [
       "19"
      ]
     },
     "execution_count": 24,
     "metadata": {},
     "output_type": "execute_result"
    }
   ],
   "source": [
    "df_industry=df1[df1['fraudulent']==1]\n",
    "print(df_industry.shape)\n",
    "print()\n",
    "\n",
    "df_industry['industry'].value_counts().max()\n",
    "\n"
   ]
  },
  {
   "cell_type": "code",
   "execution_count": 25,
   "id": "heard-diploma",
   "metadata": {},
   "outputs": [
    {
     "data": {
      "text/plain": [
       "<AxesSubplot:title={'center':'Top Industry with maximum Fake job post '}>"
      ]
     },
     "execution_count": 25,
     "metadata": {},
     "output_type": "execute_result"
    },
    {
     "data": {
      "image/png": "[encoded data removed]",
      "text/plain": [
       "<Figure size 720x576 with 1 Axes>"
      ]
     },
     "metadata": {},
     "output_type": "display_data"
    }
   ],
   "source": [
    "s_ind = df_industry['industry'].value_counts()\n",
    "\n",
    "s_ind.head(n=10).plot.bar(figsize =(10, 8), title = \"Top Industry with maximum Fake job post \")\n",
    "\n",
    "\n"
   ]
  },
  {
   "cell_type": "markdown",
   "id": "outer-ethnic",
   "metadata": {},
   "source": [
    "-Industry with maximum Fake job postings at 'oil & Energy' industry with max 19 "
   ]
  },
  {
   "cell_type": "markdown",
   "id": "cheap-factory",
   "metadata": {},
   "source": [
    "### Checking Imbalancing"
   ]
  },
  {
   "cell_type": "code",
   "execution_count": 26,
   "id": "missing-bedroom",
   "metadata": {},
   "outputs": [
    {
     "data": {
      "text/plain": [
       "<AxesSubplot:xlabel='fraudulent', ylabel='count'>"
      ]
     },
     "execution_count": 26,
     "metadata": {},
     "output_type": "execute_result"
    },
    {
     "data": {
      "image/png": "[encoded data removed]",
      "text/plain": [
       "<Figure size 432x288 with 1 Axes>"
      ]
     },
     "metadata": {},
     "output_type": "display_data"
    }
   ],
   "source": [
    "sns.countplot(x='fraudulent',data=df1)"
   ]
  },
  {
   "cell_type": "code",
   "execution_count": 27,
   "id": "published-report",
   "metadata": {},
   "outputs": [
    {
     "data": {
      "text/plain": [
       "(1403, 14)"
      ]
     },
     "execution_count": 27,
     "metadata": {},
     "output_type": "execute_result"
    }
   ],
   "source": [
    "real=df1[df1['fraudulent']==0]\n",
    "real.shape"
   ]
  },
  {
   "cell_type": "code",
   "execution_count": 28,
   "id": "postal-diagram",
   "metadata": {},
   "outputs": [
    {
     "data": {
      "text/plain": [
       "(82, 14)"
      ]
     },
     "execution_count": 28,
     "metadata": {},
     "output_type": "execute_result"
    }
   ],
   "source": [
    "fake=df1[df1['fraudulent']==1]\n",
    "fake.shape"
   ]
  },
  {
   "cell_type": "code",
   "execution_count": 29,
   "id": "difficult-boost",
   "metadata": {},
   "outputs": [
    {
     "data": {
      "image/png": "[encoded data removed]",
      "text/plain": [
       "<Figure size 432x288 with 1 Axes>"
      ]
     },
     "metadata": {},
     "output_type": "display_data"
    }
   ],
   "source": [
    "labels=['Real','fake']\n",
    "sizes=[df1['fraudulent'].value_counts()[0],df1['fraudulent'].value_counts()[1]]\n",
    "fig1,ax1=plt.subplots()\n",
    "ax1.pie(sizes,labels=labels,autopct='%1.1f%%')\n",
    "ax1.axis('equal')\n",
    "plt.tight_layout()\n",
    "plt.show()"
   ]
  },
  {
   "cell_type": "markdown",
   "id": "expanded-jamaica",
   "metadata": {},
   "source": [
    "This shows imbalancing dataset\n",
    "\n",
    "-oversampling fake dataframe inorder to get balnced dataset"
   ]
  },
  {
   "cell_type": "code",
   "execution_count": 30,
   "id": "unlimited-victorian",
   "metadata": {},
   "outputs": [
    {
     "data": {
      "text/plain": [
       "((1403, 14), (1403, 14))"
      ]
     },
     "execution_count": 30,
     "metadata": {},
     "output_type": "execute_result"
    }
   ],
   "source": [
    "fake=fake.sample(1403,replace=True)\n",
    "fake.shape,real.shape"
   ]
  },
  {
   "cell_type": "code",
   "execution_count": 31,
   "id": "worthy-empire",
   "metadata": {},
   "outputs": [
    {
     "data": {
      "text/plain": [
       "(2806, 14)"
      ]
     },
     "execution_count": 31,
     "metadata": {},
     "output_type": "execute_result"
    }
   ],
   "source": [
    "df1=fake.append(real)\n",
    "df1.reset_index()\n",
    "# df1.head()\n",
    "df1.shape"
   ]
  },
  {
   "cell_type": "markdown",
   "id": "sensitive-second",
   "metadata": {},
   "source": [
    "### Balanced dataset"
   ]
  },
  {
   "cell_type": "code",
   "execution_count": 32,
   "id": "vocational-mailing",
   "metadata": {},
   "outputs": [
    {
     "data": {
      "text/plain": [
       "<AxesSubplot:xlabel='fraudulent', ylabel='count'>"
      ]
     },
     "execution_count": 32,
     "metadata": {},
     "output_type": "execute_result"
    },
    {
     "data": {
      "image/png": "[encoded data removed]",
      "text/plain": [
       "<Figure size 432x288 with 1 Axes>"
      ]
     },
     "metadata": {},
     "output_type": "display_data"
    }
   ],
   "source": [
    "\n",
    "sns.countplot(x='fraudulent',data=df1)"
   ]
  },
  {
   "cell_type": "markdown",
   "id": "naked-invitation",
   "metadata": {},
   "source": [
    "### label encoding\n"
   ]
  },
  {
   "cell_type": "code",
   "execution_count": 33,
   "id": "burning-deposit",
   "metadata": {},
   "outputs": [
    {
     "data": {
      "text/html": [
       "<div>\n",
       "<style scoped>\n",
       "    .dataframe tbody tr th:only-of-type {\n",
       "        vertical-align: middle;\n",
       "    }\n",
       "\n",
       "    .dataframe tbody tr th {\n",
       "        vertical-align: top;\n",
       "    }\n",
       "\n",
       "    .dataframe thead th {\n",
       "        text-align: right;\n",
       "    }\n",
       "</style>\n",
       "<table border=\"1\" class=\"dataframe\">\n",
       "  <thead>\n",
       "    <tr style=\"text-align: right;\">\n",
       "      <th></th>\n",
       "      <th>title</th>\n",
       "      <th>location</th>\n",
       "      <th>company_profile</th>\n",
       "      <th>requirements</th>\n",
       "      <th>telecommuting</th>\n",
       "      <th>has_company_logo</th>\n",
       "      <th>has_questions</th>\n",
       "      <th>employment_type</th>\n",
       "      <th>required_experience</th>\n",
       "      <th>required_education</th>\n",
       "      <th>industry</th>\n",
       "      <th>function</th>\n",
       "      <th>salary_range</th>\n",
       "      <th>fraudulent</th>\n",
       "    </tr>\n",
       "  </thead>\n",
       "  <tbody>\n",
       "    <tr>\n",
       "      <th>845</th>\n",
       "      <td>Service Associate</td>\n",
       "      <td>US, TX, AUSTIN</td>\n",
       "      <td>The Accion  story began more than 100 years ag...</td>\n",
       "      <td>1 year applicable retail/customer service work...</td>\n",
       "      <td>0</td>\n",
       "      <td>1</td>\n",
       "      <td>1</td>\n",
       "      <td>Full-time</td>\n",
       "      <td>Entry level</td>\n",
       "      <td>High School or equivalent</td>\n",
       "      <td>Retail</td>\n",
       "      <td>Customer Service</td>\n",
       "      <td>25000-30000</td>\n",
       "      <td>1</td>\n",
       "    </tr>\n",
       "    <tr>\n",
       "      <th>5808</th>\n",
       "      <td>Employee Relations Specialist</td>\n",
       "      <td>US, TX, Austin</td>\n",
       "      <td>As the industry’s largest supply contracting c...</td>\n",
       "      <td>Minimum of three (3) years of work Novationoff...</td>\n",
       "      <td>0</td>\n",
       "      <td>1</td>\n",
       "      <td>1</td>\n",
       "      <td>Full-time</td>\n",
       "      <td>Entry level</td>\n",
       "      <td>High School or equivalent</td>\n",
       "      <td>Human Resources</td>\n",
       "      <td>Administrative</td>\n",
       "      <td>35000-45000</td>\n",
       "      <td>1</td>\n",
       "    </tr>\n",
       "    <tr>\n",
       "      <th>3609</th>\n",
       "      <td>Customer Service Representative</td>\n",
       "      <td>US, GA, Atlanta</td>\n",
       "      <td>Gary Cartwright established Cartwright Propert...</td>\n",
       "      <td>Home Computer with Internet AccessBasic Comput...</td>\n",
       "      <td>1</td>\n",
       "      <td>1</td>\n",
       "      <td>0</td>\n",
       "      <td>Full-time</td>\n",
       "      <td>Entry level</td>\n",
       "      <td>High School or equivalent</td>\n",
       "      <td>Real Estate</td>\n",
       "      <td>Customer Service</td>\n",
       "      <td>30000-50000</td>\n",
       "      <td>1</td>\n",
       "    </tr>\n",
       "    <tr>\n",
       "      <th>7570</th>\n",
       "      <td>Production Assistant</td>\n",
       "      <td>US, TX, Houston</td>\n",
       "      <td>Founded in 1993, our group has, in a few short...</td>\n",
       "      <td>Flexible ScheduleNo professional knowledge re...</td>\n",
       "      <td>0</td>\n",
       "      <td>1</td>\n",
       "      <td>1</td>\n",
       "      <td>Full-time</td>\n",
       "      <td>Not Applicable</td>\n",
       "      <td>Unspecified</td>\n",
       "      <td>Media Production</td>\n",
       "      <td>Manufacturing</td>\n",
       "      <td>30000-34000</td>\n",
       "      <td>1</td>\n",
       "    </tr>\n",
       "    <tr>\n",
       "      <th>11628</th>\n",
       "      <td>Sales Professional- SMB (Full-Time)</td>\n",
       "      <td>US, MD, Baltimore</td>\n",
       "      <td>Making Mobile Device Management Clear is Clear...</td>\n",
       "      <td>Job Requirements High School Diploma or GEDPas...</td>\n",
       "      <td>0</td>\n",
       "      <td>1</td>\n",
       "      <td>0</td>\n",
       "      <td>Full-time</td>\n",
       "      <td>Entry level</td>\n",
       "      <td>High School or equivalent</td>\n",
       "      <td>Computer &amp; Network Security</td>\n",
       "      <td>Sales</td>\n",
       "      <td>21600-31200</td>\n",
       "      <td>1</td>\n",
       "    </tr>\n",
       "  </tbody>\n",
       "</table>\n",
       "</div>"
      ],
      "text/plain": [
       "                                     title           location  \\\n",
       "845                      Service Associate     US, TX, AUSTIN   \n",
       "5808         Employee Relations Specialist     US, TX, Austin   \n",
       "3609       Customer Service Representative    US, GA, Atlanta   \n",
       "7570                  Production Assistant    US, TX, Houston   \n",
       "11628  Sales Professional- SMB (Full-Time)  US, MD, Baltimore   \n",
       "\n",
       "                                         company_profile  \\\n",
       "845    The Accion  story began more than 100 years ag...   \n",
       "5808   As the industry’s largest supply contracting c...   \n",
       "3609   Gary Cartwright established Cartwright Propert...   \n",
       "7570   Founded in 1993, our group has, in a few short...   \n",
       "11628  Making Mobile Device Management Clear is Clear...   \n",
       "\n",
       "                                            requirements  telecommuting  \\\n",
       "845    1 year applicable retail/customer service work...              0   \n",
       "5808   Minimum of three (3) years of work Novationoff...              0   \n",
       "3609   Home Computer with Internet AccessBasic Comput...              1   \n",
       "7570    Flexible ScheduleNo professional knowledge re...              0   \n",
       "11628  Job Requirements High School Diploma or GEDPas...              0   \n",
       "\n",
       "       has_company_logo  has_questions employment_type required_experience  \\\n",
       "845                   1              1       Full-time         Entry level   \n",
       "5808                  1              1       Full-time         Entry level   \n",
       "3609                  1              0       Full-time         Entry level   \n",
       "7570                  1              1       Full-time      Not Applicable   \n",
       "11628                 1              0       Full-time         Entry level   \n",
       "\n",
       "              required_education                     industry  \\\n",
       "845    High School or equivalent                       Retail   \n",
       "5808   High School or equivalent              Human Resources   \n",
       "3609   High School or equivalent                  Real Estate   \n",
       "7570                 Unspecified             Media Production   \n",
       "11628  High School or equivalent  Computer & Network Security   \n",
       "\n",
       "               function salary_range  fraudulent  \n",
       "845    Customer Service  25000-30000           1  \n",
       "5808     Administrative  35000-45000           1  \n",
       "3609   Customer Service  30000-50000           1  \n",
       "7570      Manufacturing  30000-34000           1  \n",
       "11628             Sales  21600-31200           1  "
      ]
     },
     "execution_count": 33,
     "metadata": {},
     "output_type": "execute_result"
    }
   ],
   "source": [
    "from sklearn.preprocessing import LabelEncoder\n",
    "\n",
    "job=pd.DataFrame(df1)\n",
    "job.head()"
   ]
  },
  {
   "cell_type": "code",
   "execution_count": 34,
   "id": "rational-religion",
   "metadata": {},
   "outputs": [],
   "source": [
    "le = LabelEncoder()\n",
    "job['title'] = le.fit_transform(job['title'])\n",
    "job['location'] = le.fit_transform(job['location'])\n",
    "job['company_profile'] = le.fit_transform(job['company_profile'])\n",
    "job['requirements'] = le.fit_transform(job['requirements'])\n",
    "job['employment_type'] = le.fit_transform(job['employment_type'])\n",
    "job['required_experience'] = le.fit_transform(job['required_experience'])\n",
    "job['required_education'] = le.fit_transform(job['required_education'])\n",
    "job['industry'] = le.fit_transform(job['industry'])\n",
    "job['function'] = le.fit_transform(job['function'])\n",
    "job['salary_range'] = le.fit_transform(job['salary_range'])\n"
   ]
  },
  {
   "cell_type": "code",
   "execution_count": 35,
   "id": "individual-flooring",
   "metadata": {},
   "outputs": [
    {
     "data": {
      "text/html": [
       "<div>\n",
       "<style scoped>\n",
       "    .dataframe tbody tr th:only-of-type {\n",
       "        vertical-align: middle;\n",
       "    }\n",
       "\n",
       "    .dataframe tbody tr th {\n",
       "        vertical-align: top;\n",
       "    }\n",
       "\n",
       "    .dataframe thead th {\n",
       "        text-align: right;\n",
       "    }\n",
       "</style>\n",
       "<table border=\"1\" class=\"dataframe\">\n",
       "  <thead>\n",
       "    <tr style=\"text-align: right;\">\n",
       "      <th></th>\n",
       "      <th>index</th>\n",
       "      <th>title</th>\n",
       "      <th>location</th>\n",
       "      <th>company_profile</th>\n",
       "      <th>requirements</th>\n",
       "      <th>telecommuting</th>\n",
       "      <th>has_company_logo</th>\n",
       "      <th>has_questions</th>\n",
       "      <th>employment_type</th>\n",
       "      <th>required_experience</th>\n",
       "      <th>required_education</th>\n",
       "      <th>industry</th>\n",
       "      <th>function</th>\n",
       "      <th>salary_range</th>\n",
       "      <th>fraudulent</th>\n",
       "    </tr>\n",
       "  </thead>\n",
       "  <tbody>\n",
       "    <tr>\n",
       "      <th>0</th>\n",
       "      <td>845</td>\n",
       "      <td>1015</td>\n",
       "      <td>393</td>\n",
       "      <td>326</td>\n",
       "      <td>30</td>\n",
       "      <td>0</td>\n",
       "      <td>1</td>\n",
       "      <td>1</td>\n",
       "      <td>1</td>\n",
       "      <td>2</td>\n",
       "      <td>4</td>\n",
       "      <td>80</td>\n",
       "      <td>7</td>\n",
       "      <td>222</td>\n",
       "      <td>1</td>\n",
       "    </tr>\n",
       "    <tr>\n",
       "      <th>1</th>\n",
       "      <td>5808</td>\n",
       "      <td>335</td>\n",
       "      <td>395</td>\n",
       "      <td>49</td>\n",
       "      <td>637</td>\n",
       "      <td>0</td>\n",
       "      <td>1</td>\n",
       "      <td>1</td>\n",
       "      <td>1</td>\n",
       "      <td>2</td>\n",
       "      <td>4</td>\n",
       "      <td>41</td>\n",
       "      <td>1</td>\n",
       "      <td>302</td>\n",
       "      <td>1</td>\n",
       "    </tr>\n",
       "    <tr>\n",
       "      <th>2</th>\n",
       "      <td>3609</td>\n",
       "      <td>238</td>\n",
       "      <td>285</td>\n",
       "      <td>161</td>\n",
       "      <td>544</td>\n",
       "      <td>1</td>\n",
       "      <td>1</td>\n",
       "      <td>0</td>\n",
       "      <td>1</td>\n",
       "      <td>2</td>\n",
       "      <td>4</td>\n",
       "      <td>75</td>\n",
       "      <td>7</td>\n",
       "      <td>270</td>\n",
       "      <td>1</td>\n",
       "    </tr>\n",
       "    <tr>\n",
       "      <th>3</th>\n",
       "      <td>7570</td>\n",
       "      <td>801</td>\n",
       "      <td>408</td>\n",
       "      <td>150</td>\n",
       "      <td>1270</td>\n",
       "      <td>0</td>\n",
       "      <td>1</td>\n",
       "      <td>1</td>\n",
       "      <td>1</td>\n",
       "      <td>6</td>\n",
       "      <td>9</td>\n",
       "      <td>58</td>\n",
       "      <td>21</td>\n",
       "      <td>257</td>\n",
       "      <td>1</td>\n",
       "    </tr>\n",
       "    <tr>\n",
       "      <th>4</th>\n",
       "      <td>11628</td>\n",
       "      <td>920</td>\n",
       "      <td>319</td>\n",
       "      <td>224</td>\n",
       "      <td>576</td>\n",
       "      <td>0</td>\n",
       "      <td>1</td>\n",
       "      <td>0</td>\n",
       "      <td>1</td>\n",
       "      <td>2</td>\n",
       "      <td>4</td>\n",
       "      <td>12</td>\n",
       "      <td>31</td>\n",
       "      <td>194</td>\n",
       "      <td>1</td>\n",
       "    </tr>\n",
       "  </tbody>\n",
       "</table>\n",
       "</div>"
      ],
      "text/plain": [
       "   index  title  location  company_profile  requirements  telecommuting  \\\n",
       "0    845   1015       393              326            30              0   \n",
       "1   5808    335       395               49           637              0   \n",
       "2   3609    238       285              161           544              1   \n",
       "3   7570    801       408              150          1270              0   \n",
       "4  11628    920       319              224           576              0   \n",
       "\n",
       "   has_company_logo  has_questions  employment_type  required_experience  \\\n",
       "0                 1              1                1                    2   \n",
       "1                 1              1                1                    2   \n",
       "2                 1              0                1                    2   \n",
       "3                 1              1                1                    6   \n",
       "4                 1              0                1                    2   \n",
       "\n",
       "   required_education  industry  function  salary_range  fraudulent  \n",
       "0                   4        80         7           222           1  \n",
       "1                   4        41         1           302           1  \n",
       "2                   4        75         7           270           1  \n",
       "3                   9        58        21           257           1  \n",
       "4                   4        12        31           194           1  "
      ]
     },
     "execution_count": 35,
     "metadata": {},
     "output_type": "execute_result"
    }
   ],
   "source": [
    "job=job.reset_index()\n",
    "job.head()"
   ]
  },
  {
   "cell_type": "code",
   "execution_count": 36,
   "id": "civil-child",
   "metadata": {},
   "outputs": [],
   "source": [
    "##split dataset into train,test"
   ]
  },
  {
   "cell_type": "code",
   "execution_count": 37,
   "id": "precise-camping",
   "metadata": {},
   "outputs": [],
   "source": [
    "x=job.drop(['fraudulent','index'],axis=1).values\n",
    "y=job['fraudulent'].values\n"
   ]
  },
  {
   "cell_type": "code",
   "execution_count": 38,
   "id": "conventional-charger",
   "metadata": {},
   "outputs": [
    {
     "data": {
      "text/plain": [
       "((2104, 13), (702, 13), (2104,), (702,))"
      ]
     },
     "execution_count": 38,
     "metadata": {},
     "output_type": "execute_result"
    }
   ],
   "source": [
    "xtrain,xtest,ytrain,ytest=train_test_split(x,y,random_state=11)\n",
    "\n",
    "xtrain.shape,xtest.shape,ytrain.shape,ytest.shape"
   ]
  },
  {
   "cell_type": "markdown",
   "id": "oriental-cartoon",
   "metadata": {},
   "source": [
    "Apply 3 different algorithm to ge maximum possible accuracy score\n",
    "\n",
    "1.Logistic Regression\n",
    "\n",
    "2.RandomForest\n",
    "\n",
    "3.KNN\n",
    "\n",
    "4.XGBoost\n"
   ]
  },
  {
   "cell_type": "code",
   "execution_count": 39,
   "id": "disabled-registration",
   "metadata": {},
   "outputs": [],
   "source": [
    "from sklearn.linear_model import LogisticRegression\n",
    "from sklearn.ensemble import RandomForestClassifier\n",
    "from sklearn.neighbors import KNeighborsClassifier\n",
    "import xgboost as xgb\n",
    "from sklearn.metrics import classification_report,confusion_matrix\n",
    "from sklearn.metrics import accuracy_score,precision_score,recall_score"
   ]
  },
  {
   "cell_type": "markdown",
   "id": "usual-october",
   "metadata": {},
   "source": [
    "#### Logistic Regression"
   ]
  },
  {
   "cell_type": "code",
   "execution_count": 40,
   "id": "metropolitan-effectiveness",
   "metadata": {},
   "outputs": [
    {
     "data": {
      "text/plain": [
       "((702,), (702,))"
      ]
     },
     "execution_count": 40,
     "metadata": {},
     "output_type": "execute_result"
    }
   ],
   "source": [
    "log=LogisticRegression()\n",
    "log.fit(xtrain,ytrain)\n",
    "\n",
    "log_pred=log.predict(xtest)\n",
    "\n",
    "ytest.shape,log_pred.shape"
   ]
  },
  {
   "cell_type": "code",
   "execution_count": 41,
   "id": "sonic-scale",
   "metadata": {},
   "outputs": [
    {
     "data": {
      "text/html": [
       "<div>\n",
       "<style scoped>\n",
       "    .dataframe tbody tr th:only-of-type {\n",
       "        vertical-align: middle;\n",
       "    }\n",
       "\n",
       "    .dataframe tbody tr th {\n",
       "        vertical-align: top;\n",
       "    }\n",
       "\n",
       "    .dataframe thead th {\n",
       "        text-align: right;\n",
       "    }\n",
       "</style>\n",
       "<table border=\"1\" class=\"dataframe\">\n",
       "  <thead>\n",
       "    <tr style=\"text-align: right;\">\n",
       "      <th></th>\n",
       "      <th>ytest</th>\n",
       "      <th>predicted</th>\n",
       "    </tr>\n",
       "  </thead>\n",
       "  <tbody>\n",
       "    <tr>\n",
       "      <th>0</th>\n",
       "      <td>0</td>\n",
       "      <td>0</td>\n",
       "    </tr>\n",
       "    <tr>\n",
       "      <th>1</th>\n",
       "      <td>0</td>\n",
       "      <td>0</td>\n",
       "    </tr>\n",
       "    <tr>\n",
       "      <th>2</th>\n",
       "      <td>1</td>\n",
       "      <td>0</td>\n",
       "    </tr>\n",
       "    <tr>\n",
       "      <th>3</th>\n",
       "      <td>1</td>\n",
       "      <td>0</td>\n",
       "    </tr>\n",
       "    <tr>\n",
       "      <th>4</th>\n",
       "      <td>0</td>\n",
       "      <td>1</td>\n",
       "    </tr>\n",
       "  </tbody>\n",
       "</table>\n",
       "</div>"
      ],
      "text/plain": [
       "   ytest  predicted\n",
       "0      0          0\n",
       "1      0          0\n",
       "2      1          0\n",
       "3      1          0\n",
       "4      0          1"
      ]
     },
     "execution_count": 41,
     "metadata": {},
     "output_type": "execute_result"
    }
   ],
   "source": [
    "df_log=pd.DataFrame({'ytest':ytest,'predicted':log_pred})\n",
    "df_log.head()\n",
    "    "
   ]
  },
  {
   "cell_type": "code",
   "execution_count": 42,
   "id": "secure-wheat",
   "metadata": {},
   "outputs": [],
   "source": [
    "def model_report(ytest,ypred):\n",
    "    \n",
    "    print()\n",
    "    print('Accuracy score:',accuracy_score(ytest,ypred))\n",
    "    print('precision score:',precision_score(ytest,ypred))\n",
    "    print('Recall score:',recall_score(ytest,ypred))\n",
    "    print()\n",
    "    print('classification report:\\n',classification_report(ytest,ypred))\n",
    "    print('confusion matrix:\\n',confusion_matrix(ytest,ypred))\n",
    "    pass"
   ]
  },
  {
   "cell_type": "code",
   "execution_count": 43,
   "id": "above-tulsa",
   "metadata": {},
   "outputs": [
    {
     "name": "stdout",
     "output_type": "stream",
     "text": [
      "\n",
      "Accuracy score: 0.594017094017094\n",
      "precision score: 0.5765765765765766\n",
      "Recall score: 0.5714285714285714\n",
      "\n",
      "classification report:\n",
      "               precision    recall  f1-score   support\n",
      "\n",
      "           0       0.61      0.61      0.61       366\n",
      "           1       0.58      0.57      0.57       336\n",
      "\n",
      "    accuracy                           0.59       702\n",
      "   macro avg       0.59      0.59      0.59       702\n",
      "weighted avg       0.59      0.59      0.59       702\n",
      "\n",
      "confusion matrix:\n",
      " [[225 141]\n",
      " [144 192]]\n"
     ]
    }
   ],
   "source": [
    "log_score=model_report(ytest,log_pred)\n",
    "log_score"
   ]
  },
  {
   "cell_type": "markdown",
   "id": "swedish-elephant",
   "metadata": {},
   "source": [
    "## RandomForest classifier"
   ]
  },
  {
   "cell_type": "code",
   "execution_count": 44,
   "id": "homeless-interval",
   "metadata": {},
   "outputs": [
    {
     "data": {
      "text/html": [
       "<div>\n",
       "<style scoped>\n",
       "    .dataframe tbody tr th:only-of-type {\n",
       "        vertical-align: middle;\n",
       "    }\n",
       "\n",
       "    .dataframe tbody tr th {\n",
       "        vertical-align: top;\n",
       "    }\n",
       "\n",
       "    .dataframe thead th {\n",
       "        text-align: right;\n",
       "    }\n",
       "</style>\n",
       "<table border=\"1\" class=\"dataframe\">\n",
       "  <thead>\n",
       "    <tr style=\"text-align: right;\">\n",
       "      <th></th>\n",
       "      <th>ytest</th>\n",
       "      <th>predicted</th>\n",
       "    </tr>\n",
       "  </thead>\n",
       "  <tbody>\n",
       "    <tr>\n",
       "      <th>0</th>\n",
       "      <td>0</td>\n",
       "      <td>0</td>\n",
       "    </tr>\n",
       "    <tr>\n",
       "      <th>1</th>\n",
       "      <td>0</td>\n",
       "      <td>0</td>\n",
       "    </tr>\n",
       "    <tr>\n",
       "      <th>2</th>\n",
       "      <td>1</td>\n",
       "      <td>0</td>\n",
       "    </tr>\n",
       "    <tr>\n",
       "      <th>3</th>\n",
       "      <td>1</td>\n",
       "      <td>0</td>\n",
       "    </tr>\n",
       "    <tr>\n",
       "      <th>4</th>\n",
       "      <td>0</td>\n",
       "      <td>1</td>\n",
       "    </tr>\n",
       "  </tbody>\n",
       "</table>\n",
       "</div>"
      ],
      "text/plain": [
       "   ytest  predicted\n",
       "0      0          0\n",
       "1      0          0\n",
       "2      1          0\n",
       "3      1          0\n",
       "4      0          1"
      ]
     },
     "execution_count": 44,
     "metadata": {},
     "output_type": "execute_result"
    }
   ],
   "source": [
    "rf=RandomForestClassifier().fit(xtrain,ytrain)\n",
    "rf_pred=rf.predict(xtest)\n",
    "\n",
    "df_rf=pd.DataFrame({'ytest':ytest,'predicted':log_pred})\n",
    "df_rf.head()\n",
    "    "
   ]
  },
  {
   "cell_type": "code",
   "execution_count": 45,
   "id": "enclosed-mustang",
   "metadata": {},
   "outputs": [
    {
     "name": "stdout",
     "output_type": "stream",
     "text": [
      "\n",
      "Accuracy score: 0.9985754985754985\n",
      "precision score: 0.9970326409495549\n",
      "Recall score: 1.0\n",
      "\n",
      "classification report:\n",
      "               precision    recall  f1-score   support\n",
      "\n",
      "           0       1.00      1.00      1.00       366\n",
      "           1       1.00      1.00      1.00       336\n",
      "\n",
      "    accuracy                           1.00       702\n",
      "   macro avg       1.00      1.00      1.00       702\n",
      "weighted avg       1.00      1.00      1.00       702\n",
      "\n",
      "confusion matrix:\n",
      " [[365   1]\n",
      " [  0 336]]\n"
     ]
    }
   ],
   "source": [
    "rf_score=model_report(ytest,rf_pred)\n",
    "rf_score"
   ]
  },
  {
   "cell_type": "markdown",
   "id": "lasting-clock",
   "metadata": {},
   "source": [
    "### KNN classifier"
   ]
  },
  {
   "cell_type": "code",
   "execution_count": 46,
   "id": "involved-consolidation",
   "metadata": {},
   "outputs": [
    {
     "data": {
      "text/html": [
       "<div>\n",
       "<style scoped>\n",
       "    .dataframe tbody tr th:only-of-type {\n",
       "        vertical-align: middle;\n",
       "    }\n",
       "\n",
       "    .dataframe tbody tr th {\n",
       "        vertical-align: top;\n",
       "    }\n",
       "\n",
       "    .dataframe thead th {\n",
       "        text-align: right;\n",
       "    }\n",
       "</style>\n",
       "<table border=\"1\" class=\"dataframe\">\n",
       "  <thead>\n",
       "    <tr style=\"text-align: right;\">\n",
       "      <th></th>\n",
       "      <th>ytest</th>\n",
       "      <th>predicted</th>\n",
       "    </tr>\n",
       "  </thead>\n",
       "  <tbody>\n",
       "    <tr>\n",
       "      <th>0</th>\n",
       "      <td>0</td>\n",
       "      <td>0</td>\n",
       "    </tr>\n",
       "    <tr>\n",
       "      <th>1</th>\n",
       "      <td>0</td>\n",
       "      <td>0</td>\n",
       "    </tr>\n",
       "    <tr>\n",
       "      <th>2</th>\n",
       "      <td>1</td>\n",
       "      <td>1</td>\n",
       "    </tr>\n",
       "    <tr>\n",
       "      <th>3</th>\n",
       "      <td>1</td>\n",
       "      <td>1</td>\n",
       "    </tr>\n",
       "    <tr>\n",
       "      <th>4</th>\n",
       "      <td>0</td>\n",
       "      <td>0</td>\n",
       "    </tr>\n",
       "  </tbody>\n",
       "</table>\n",
       "</div>"
      ],
      "text/plain": [
       "   ytest  predicted\n",
       "0      0          0\n",
       "1      0          0\n",
       "2      1          1\n",
       "3      1          1\n",
       "4      0          0"
      ]
     },
     "execution_count": 46,
     "metadata": {},
     "output_type": "execute_result"
    }
   ],
   "source": [
    "knn=KNeighborsClassifier().fit(xtrain,ytrain)\n",
    "knn_pred=knn.predict(xtest)\n",
    "\n",
    "df_knn=pd.DataFrame({'ytest':ytest,'predicted':knn_pred})\n",
    "df_knn.head()"
   ]
  },
  {
   "cell_type": "code",
   "execution_count": 47,
   "id": "hollywood-white",
   "metadata": {},
   "outputs": [
    {
     "name": "stdout",
     "output_type": "stream",
     "text": [
      "\n",
      "Accuracy score: 0.9316239316239316\n",
      "precision score: 0.875\n",
      "Recall score: 1.0\n",
      "\n",
      "classification report:\n",
      "               precision    recall  f1-score   support\n",
      "\n",
      "           0       1.00      0.87      0.93       366\n",
      "           1       0.88      1.00      0.93       336\n",
      "\n",
      "    accuracy                           0.93       702\n",
      "   macro avg       0.94      0.93      0.93       702\n",
      "weighted avg       0.94      0.93      0.93       702\n",
      "\n",
      "confusion matrix:\n",
      " [[318  48]\n",
      " [  0 336]]\n"
     ]
    }
   ],
   "source": [
    "knn_score=model_report(ytest,knn_pred)\n",
    "knn_score"
   ]
  },
  {
   "cell_type": "markdown",
   "id": "broadband-property",
   "metadata": {},
   "source": [
    "### XGBOOST"
   ]
  },
  {
   "cell_type": "code",
   "execution_count": 48,
   "id": "fresh-drama",
   "metadata": {},
   "outputs": [
    {
     "name": "stdout",
     "output_type": "stream",
     "text": [
      "[0]\tvalidation_0-aucpr:0.93635\n",
      "[1]\tvalidation_0-aucpr:0.93678\n",
      "[2]\tvalidation_0-aucpr:0.93732\n",
      "[3]\tvalidation_0-aucpr:0.96213\n",
      "[4]\tvalidation_0-aucpr:0.97814\n",
      "[5]\tvalidation_0-aucpr:0.98661\n",
      "[6]\tvalidation_0-aucpr:0.99340\n",
      "[7]\tvalidation_0-aucpr:0.99382\n",
      "[8]\tvalidation_0-aucpr:0.99766\n",
      "[9]\tvalidation_0-aucpr:0.99799\n",
      "[10]\tvalidation_0-aucpr:0.99910\n",
      "[11]\tvalidation_0-aucpr:0.99934\n",
      "[12]\tvalidation_0-aucpr:0.99917\n",
      "[13]\tvalidation_0-aucpr:0.99916\n",
      "[14]\tvalidation_0-aucpr:0.99949\n",
      "[15]\tvalidation_0-aucpr:0.99954\n",
      "[16]\tvalidation_0-aucpr:0.99957\n",
      "[17]\tvalidation_0-aucpr:0.99948\n",
      "[18]\tvalidation_0-aucpr:0.99960\n",
      "[19]\tvalidation_0-aucpr:0.99973\n",
      "[20]\tvalidation_0-aucpr:0.99978\n",
      "[21]\tvalidation_0-aucpr:0.99983\n",
      "[22]\tvalidation_0-aucpr:0.99982\n",
      "[23]\tvalidation_0-aucpr:0.99982\n",
      "[24]\tvalidation_0-aucpr:0.99977\n",
      "[25]\tvalidation_0-aucpr:0.99983\n",
      "[26]\tvalidation_0-aucpr:0.99988\n",
      "[27]\tvalidation_0-aucpr:0.99999\n",
      "[28]\tvalidation_0-aucpr:0.99999\n",
      "[29]\tvalidation_0-aucpr:0.99994\n",
      "[30]\tvalidation_0-aucpr:0.99994\n",
      "[31]\tvalidation_0-aucpr:0.99999\n",
      "[32]\tvalidation_0-aucpr:1.00000\n",
      "[33]\tvalidation_0-aucpr:1.00000\n",
      "[34]\tvalidation_0-aucpr:1.00000\n",
      "[35]\tvalidation_0-aucpr:0.99999\n",
      "[36]\tvalidation_0-aucpr:0.99999\n",
      "[37]\tvalidation_0-aucpr:0.99999\n",
      "[38]\tvalidation_0-aucpr:1.00000\n",
      "[39]\tvalidation_0-aucpr:1.00000\n",
      "[40]\tvalidation_0-aucpr:1.00000\n",
      "[41]\tvalidation_0-aucpr:1.00000\n",
      "[42]\tvalidation_0-aucpr:1.00000\n"
     ]
    },
    {
     "data": {
      "text/html": [
       "<div>\n",
       "<style scoped>\n",
       "    .dataframe tbody tr th:only-of-type {\n",
       "        vertical-align: middle;\n",
       "    }\n",
       "\n",
       "    .dataframe tbody tr th {\n",
       "        vertical-align: top;\n",
       "    }\n",
       "\n",
       "    .dataframe thead th {\n",
       "        text-align: right;\n",
       "    }\n",
       "</style>\n",
       "<table border=\"1\" class=\"dataframe\">\n",
       "  <thead>\n",
       "    <tr style=\"text-align: right;\">\n",
       "      <th></th>\n",
       "      <th>ytest</th>\n",
       "      <th>predicted</th>\n",
       "    </tr>\n",
       "  </thead>\n",
       "  <tbody>\n",
       "    <tr>\n",
       "      <th>0</th>\n",
       "      <td>0</td>\n",
       "      <td>0</td>\n",
       "    </tr>\n",
       "    <tr>\n",
       "      <th>1</th>\n",
       "      <td>0</td>\n",
       "      <td>0</td>\n",
       "    </tr>\n",
       "    <tr>\n",
       "      <th>2</th>\n",
       "      <td>1</td>\n",
       "      <td>1</td>\n",
       "    </tr>\n",
       "    <tr>\n",
       "      <th>3</th>\n",
       "      <td>1</td>\n",
       "      <td>1</td>\n",
       "    </tr>\n",
       "    <tr>\n",
       "      <th>4</th>\n",
       "      <td>0</td>\n",
       "      <td>0</td>\n",
       "    </tr>\n",
       "  </tbody>\n",
       "</table>\n",
       "</div>"
      ],
      "text/plain": [
       "   ytest  predicted\n",
       "0      0          0\n",
       "1      0          0\n",
       "2      1          1\n",
       "3      1          1\n",
       "4      0          0"
      ]
     },
     "execution_count": 48,
     "metadata": {},
     "output_type": "execute_result"
    }
   ],
   "source": [
    "xgb=xgb.XGBClassifier(objective='binary:logistic',missing=1,seed=42)\n",
    "xgb.fit(xtrain,ytrain,verbose=True,early_stopping_rounds=10,eval_metric='aucpr',eval_set=[(xtest,ytest)])\n",
    "\n",
    "\n",
    "xgb_pred=xgb.predict(xtest)\n",
    "\n",
    "df_xgb=pd.DataFrame({'ytest':ytest,'predicted':xgb_pred})\n",
    "df_xgb.head()"
   ]
  },
  {
   "cell_type": "code",
   "execution_count": null,
   "id": "specific-height",
   "metadata": {},
   "outputs": [],
   "source": []
  },
  {
   "cell_type": "code",
   "execution_count": 49,
   "id": "aboriginal-craps",
   "metadata": {},
   "outputs": [
    {
     "name": "stdout",
     "output_type": "stream",
     "text": [
      "\n",
      "Accuracy score: 0.9886039886039886\n",
      "precision score: 0.9767441860465116\n",
      "Recall score: 1.0\n",
      "\n",
      "classification report:\n",
      "               precision    recall  f1-score   support\n",
      "\n",
      "           0       1.00      0.98      0.99       366\n",
      "           1       0.98      1.00      0.99       336\n",
      "\n",
      "    accuracy                           0.99       702\n",
      "   macro avg       0.99      0.99      0.99       702\n",
      "weighted avg       0.99      0.99      0.99       702\n",
      "\n",
      "confusion matrix:\n",
      " [[358   8]\n",
      " [  0 336]]\n"
     ]
    }
   ],
   "source": [
    "xgb_score=model_report(ytest,xgb_pred)\n",
    "xgb_score"
   ]
  },
  {
   "cell_type": "markdown",
   "id": "liquid-victoria",
   "metadata": {},
   "source": [
    "## check precision score and accuracy score\n"
   ]
  },
  {
   "cell_type": "code",
   "execution_count": 50,
   "id": "given-fruit",
   "metadata": {},
   "outputs": [
    {
     "data": {
      "text/html": [
       "<div>\n",
       "<style scoped>\n",
       "    .dataframe tbody tr th:only-of-type {\n",
       "        vertical-align: middle;\n",
       "    }\n",
       "\n",
       "    .dataframe tbody tr th {\n",
       "        vertical-align: top;\n",
       "    }\n",
       "\n",
       "    .dataframe thead th {\n",
       "        text-align: right;\n",
       "    }\n",
       "</style>\n",
       "<table border=\"1\" class=\"dataframe\">\n",
       "  <thead>\n",
       "    <tr style=\"text-align: right;\">\n",
       "      <th></th>\n",
       "      <th>Models</th>\n",
       "      <th>Precision_score</th>\n",
       "      <th>Accuracy_score</th>\n",
       "    </tr>\n",
       "  </thead>\n",
       "  <tbody>\n",
       "    <tr>\n",
       "      <th>2</th>\n",
       "      <td>RandomForest</td>\n",
       "      <td>0.997033</td>\n",
       "      <td>0.998575</td>\n",
       "    </tr>\n",
       "    <tr>\n",
       "      <th>3</th>\n",
       "      <td>XGBoost</td>\n",
       "      <td>0.976744</td>\n",
       "      <td>0.988604</td>\n",
       "    </tr>\n",
       "    <tr>\n",
       "      <th>1</th>\n",
       "      <td>KNN</td>\n",
       "      <td>0.875000</td>\n",
       "      <td>0.931624</td>\n",
       "    </tr>\n",
       "    <tr>\n",
       "      <th>0</th>\n",
       "      <td>Logistic</td>\n",
       "      <td>0.576577</td>\n",
       "      <td>0.594017</td>\n",
       "    </tr>\n",
       "  </tbody>\n",
       "</table>\n",
       "</div>"
      ],
      "text/plain": [
       "         Models  Precision_score  Accuracy_score\n",
       "2  RandomForest         0.997033        0.998575\n",
       "3       XGBoost         0.976744        0.988604\n",
       "1           KNN         0.875000        0.931624\n",
       "0      Logistic         0.576577        0.594017"
      ]
     },
     "execution_count": 50,
     "metadata": {},
     "output_type": "execute_result"
    }
   ],
   "source": [
    "model_score=pd.DataFrame({'Models':['Logistic','KNN','RandomForest','XGBoost'],\n",
    "                         'Precision_score':[precision_score(ytest,log_pred),precision_score(ytest,knn_pred),\n",
    "                                           precision_score(ytest,rf_pred),precision_score(ytest,xgb_pred)],\n",
    "                         'Accuracy_score':[accuracy_score(ytest,log_pred),accuracy_score(ytest,knn_pred),\n",
    "                                          accuracy_score(ytest,rf_pred),accuracy_score(ytest,xgb_pred)]})\n",
    "                            \n",
    "model_score.sort_values(by='Precision_score',ascending=False)"
   ]
  },
  {
   "cell_type": "code",
   "execution_count": 57,
   "id": "superb-airport",
   "metadata": {},
   "outputs": [
    {
     "name": "stdout",
     "output_type": "stream",
     "text": [
      "RandomForest confusionMatrix\n"
     ]
    },
    {
     "data": {
      "text/plain": [
       "<sklearn.metrics._plot.confusion_matrix.ConfusionMatrixDisplay at 0x7f6294a3a070>"
      ]
     },
     "execution_count": 57,
     "metadata": {},
     "output_type": "execute_result"
    },
    {
     "data": {
      "image/png": "[encoded data removed]",
      "text/plain": [
       "<Figure size 432x288 with 2 Axes>"
      ]
     },
     "metadata": {},
     "output_type": "display_data"
    }
   ],
   "source": [
    "from sklearn.metrics import plot_confusion_matrix\n",
    "\n",
    "print('RandomForest ConfusionMatrix')\n",
    "plot_confusion_matrix(rf,xtest,ytest,values_format='d',display_labels=['Real','Fake'])"
   ]
  },
  {
   "cell_type": "markdown",
   "id": "veterinary-class",
   "metadata": {},
   "source": [
    "### Accuracy score RandomForest classification algorithm: 99.7%"
   ]
  },
  {
   "cell_type": "markdown",
   "id": "alternative-hurricane",
   "metadata": {},
   "source": [
    "As per accuracy score RandomForest Classification Algorithm has highest accuracy score \n",
    "\n",
    "Also as per Precision score RandomForest Classification Algorithm has highest precision score\n",
    "\n",
    "so for given Dataset RandomForest algm is best suitable to use"
   ]
  },
  {
   "cell_type": "code",
   "execution_count": null,
   "id": "regulated-stylus",
   "metadata": {},
   "outputs": [],
   "source": []
  }
 ],
 "metadata": {
  "kernelspec": {
   "display_name": "Python 3",
   "language": "python",
   "name": "python3"
  },
  "language_info": {
   "codemirror_mode": {
    "name": "ipython",
    "version": 3
   },
   "file_extension": ".py",
   "mimetype": "text/x-python",
   "name": "python",
   "nbconvert_exporter": "python",
   "pygments_lexer": "ipython3",
   "version": "3.7.10"
  }
 },
 "nbformat": 4,
 "nbformat_minor": 5
}
