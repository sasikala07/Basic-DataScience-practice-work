{
 "cells": [
  {
   "cell_type": "code",
   "execution_count": 1,
   "id": "mobile-template",
   "metadata": {},
   "outputs": [],
   "source": [
    "import pandas as pd\n",
    "import numpy as np\n",
    "import matplotlib.pyplot as plt\n",
    "from sklearn.linear_model import LogisticRegression\n",
    "\n",
    "import warnings\n",
    "warnings.filterwarnings('ignore')"
   ]
  },
  {
   "cell_type": "code",
   "execution_count": 2,
   "id": "million-condition",
   "metadata": {},
   "outputs": [
    {
     "data": {
      "text/html": [
       "<div>\n",
       "<style scoped>\n",
       "    .dataframe tbody tr th:only-of-type {\n",
       "        vertical-align: middle;\n",
       "    }\n",
       "\n",
       "    .dataframe tbody tr th {\n",
       "        vertical-align: top;\n",
       "    }\n",
       "\n",
       "    .dataframe thead th {\n",
       "        text-align: right;\n",
       "    }\n",
       "</style>\n",
       "<table border=\"1\" class=\"dataframe\">\n",
       "  <thead>\n",
       "    <tr style=\"text-align: right;\">\n",
       "      <th></th>\n",
       "      <th>age</th>\n",
       "      <th>bought_insurance</th>\n",
       "    </tr>\n",
       "  </thead>\n",
       "  <tbody>\n",
       "    <tr>\n",
       "      <th>0</th>\n",
       "      <td>22</td>\n",
       "      <td>0</td>\n",
       "    </tr>\n",
       "    <tr>\n",
       "      <th>1</th>\n",
       "      <td>25</td>\n",
       "      <td>0</td>\n",
       "    </tr>\n",
       "    <tr>\n",
       "      <th>2</th>\n",
       "      <td>47</td>\n",
       "      <td>1</td>\n",
       "    </tr>\n",
       "    <tr>\n",
       "      <th>3</th>\n",
       "      <td>52</td>\n",
       "      <td>0</td>\n",
       "    </tr>\n",
       "    <tr>\n",
       "      <th>4</th>\n",
       "      <td>46</td>\n",
       "      <td>1</td>\n",
       "    </tr>\n",
       "    <tr>\n",
       "      <th>5</th>\n",
       "      <td>56</td>\n",
       "      <td>1</td>\n",
       "    </tr>\n",
       "    <tr>\n",
       "      <th>6</th>\n",
       "      <td>55</td>\n",
       "      <td>0</td>\n",
       "    </tr>\n",
       "    <tr>\n",
       "      <th>7</th>\n",
       "      <td>60</td>\n",
       "      <td>1</td>\n",
       "    </tr>\n",
       "    <tr>\n",
       "      <th>8</th>\n",
       "      <td>62</td>\n",
       "      <td>1</td>\n",
       "    </tr>\n",
       "    <tr>\n",
       "      <th>9</th>\n",
       "      <td>61</td>\n",
       "      <td>1</td>\n",
       "    </tr>\n",
       "    <tr>\n",
       "      <th>10</th>\n",
       "      <td>18</td>\n",
       "      <td>0</td>\n",
       "    </tr>\n",
       "    <tr>\n",
       "      <th>11</th>\n",
       "      <td>28</td>\n",
       "      <td>0</td>\n",
       "    </tr>\n",
       "    <tr>\n",
       "      <th>12</th>\n",
       "      <td>27</td>\n",
       "      <td>0</td>\n",
       "    </tr>\n",
       "    <tr>\n",
       "      <th>13</th>\n",
       "      <td>29</td>\n",
       "      <td>0</td>\n",
       "    </tr>\n",
       "    <tr>\n",
       "      <th>14</th>\n",
       "      <td>49</td>\n",
       "      <td>1</td>\n",
       "    </tr>\n",
       "    <tr>\n",
       "      <th>15</th>\n",
       "      <td>55</td>\n",
       "      <td>1</td>\n",
       "    </tr>\n",
       "    <tr>\n",
       "      <th>16</th>\n",
       "      <td>25</td>\n",
       "      <td>1</td>\n",
       "    </tr>\n",
       "    <tr>\n",
       "      <th>17</th>\n",
       "      <td>58</td>\n",
       "      <td>1</td>\n",
       "    </tr>\n",
       "    <tr>\n",
       "      <th>18</th>\n",
       "      <td>19</td>\n",
       "      <td>0</td>\n",
       "    </tr>\n",
       "    <tr>\n",
       "      <th>19</th>\n",
       "      <td>18</td>\n",
       "      <td>0</td>\n",
       "    </tr>\n",
       "    <tr>\n",
       "      <th>20</th>\n",
       "      <td>21</td>\n",
       "      <td>0</td>\n",
       "    </tr>\n",
       "    <tr>\n",
       "      <th>21</th>\n",
       "      <td>26</td>\n",
       "      <td>0</td>\n",
       "    </tr>\n",
       "    <tr>\n",
       "      <th>22</th>\n",
       "      <td>40</td>\n",
       "      <td>1</td>\n",
       "    </tr>\n",
       "    <tr>\n",
       "      <th>23</th>\n",
       "      <td>45</td>\n",
       "      <td>1</td>\n",
       "    </tr>\n",
       "    <tr>\n",
       "      <th>24</th>\n",
       "      <td>50</td>\n",
       "      <td>1</td>\n",
       "    </tr>\n",
       "    <tr>\n",
       "      <th>25</th>\n",
       "      <td>54</td>\n",
       "      <td>1</td>\n",
       "    </tr>\n",
       "    <tr>\n",
       "      <th>26</th>\n",
       "      <td>23</td>\n",
       "      <td>0</td>\n",
       "    </tr>\n",
       "  </tbody>\n",
       "</table>\n",
       "</div>"
      ],
      "text/plain": [
       "    age  bought_insurance\n",
       "0    22                 0\n",
       "1    25                 0\n",
       "2    47                 1\n",
       "3    52                 0\n",
       "4    46                 1\n",
       "5    56                 1\n",
       "6    55                 0\n",
       "7    60                 1\n",
       "8    62                 1\n",
       "9    61                 1\n",
       "10   18                 0\n",
       "11   28                 0\n",
       "12   27                 0\n",
       "13   29                 0\n",
       "14   49                 1\n",
       "15   55                 1\n",
       "16   25                 1\n",
       "17   58                 1\n",
       "18   19                 0\n",
       "19   18                 0\n",
       "20   21                 0\n",
       "21   26                 0\n",
       "22   40                 1\n",
       "23   45                 1\n",
       "24   50                 1\n",
       "25   54                 1\n",
       "26   23                 0"
      ]
     },
     "execution_count": 2,
     "metadata": {},
     "output_type": "execute_result"
    }
   ],
   "source": [
    "data=pd.read_csv('insurance_data.csv',sep='\\t')\n",
    "data"
   ]
  },
  {
   "cell_type": "markdown",
   "id": "persistent-illustration",
   "metadata": {},
   "source": [
    "checking null values/missing values"
   ]
  },
  {
   "cell_type": "code",
   "execution_count": 3,
   "id": "environmental-activity",
   "metadata": {},
   "outputs": [
    {
     "data": {
      "text/plain": [
       "age                 0\n",
       "bought_insurance    0\n",
       "dtype: int64"
      ]
     },
     "execution_count": 3,
     "metadata": {},
     "output_type": "execute_result"
    }
   ],
   "source": [
    "data.isnull().sum()"
   ]
  },
  {
   "cell_type": "markdown",
   "id": "federal-depression",
   "metadata": {},
   "source": [
    "analysing.."
   ]
  },
  {
   "cell_type": "code",
   "execution_count": 4,
   "id": "practical-postage",
   "metadata": {},
   "outputs": [],
   "source": [
    "x=data[['age']]\n",
    "y=data.drop('age',axis=1)\n"
   ]
  },
  {
   "cell_type": "code",
   "execution_count": 5,
   "id": "divine-airline",
   "metadata": {},
   "outputs": [
    {
     "data": {
      "text/plain": [
       "<matplotlib.collections.PathCollection at 0x7f190248ad90>"
      ]
     },
     "execution_count": 5,
     "metadata": {},
     "output_type": "execute_result"
    },
    {
     "data": {
      "image/png": "[encoded data removed]",
      "text/plain": [
       "<Figure size 432x288 with 1 Axes>"
      ]
     },
     "metadata": {
      "needs_background": "light"
     },
     "output_type": "display_data"
    }
   ],
   "source": [
    "plt.scatter(x,y,color='r',marker='+')\n"
   ]
  },
  {
   "cell_type": "markdown",
   "id": "allied-supply",
   "metadata": {},
   "source": [
    "Above plt shows its a logistic curve ...\n",
    "above 40 ages will be want insurance "
   ]
  },
  {
   "cell_type": "code",
   "execution_count": 6,
   "id": "grand-skiing",
   "metadata": {},
   "outputs": [
    {
     "data": {
      "text/plain": [
       "<AxesSubplot:xlabel='age', ylabel='bought_insurance'>"
      ]
     },
     "execution_count": 6,
     "metadata": {},
     "output_type": "execute_result"
    },
    {
     "data": {
      "image/png": "[encoded data removed]",
      "text/plain": [
       "<Figure size 432x288 with 1 Axes>"
      ]
     },
     "metadata": {
      "needs_background": "light"
     },
     "output_type": "display_data"
    }
   ],
   "source": [
    "import seaborn as sns\n",
    "\n",
    "sns.regplot(x='age',y='bought_insurance',data=data,logistic=True)"
   ]
  },
  {
   "cell_type": "markdown",
   "id": "included-drink",
   "metadata": {},
   "source": [
    "Splitting into train and test data"
   ]
  },
  {
   "cell_type": "code",
   "execution_count": 23,
   "id": "perceived-renewal",
   "metadata": {},
   "outputs": [
    {
     "data": {
      "text/plain": [
       "(21, 1)"
      ]
     },
     "execution_count": 23,
     "metadata": {},
     "output_type": "execute_result"
    }
   ],
   "source": [
    "#splitting\n",
    "from sklearn.model_selection import train_test_split\n",
    "\n",
    "x_train,x_test,y_train,y_test=train_test_split(x,y,test_size=0.2,random_state=42)\n",
    "y_train.shape\n",
    "#x_test"
   ]
  },
  {
   "cell_type": "code",
   "execution_count": 24,
   "id": "unique-london",
   "metadata": {},
   "outputs": [],
   "source": [
    "#y_test ## actual values"
   ]
  },
  {
   "cell_type": "markdown",
   "id": "wanted-fiber",
   "metadata": {},
   "source": [
    "Fitting and predicting"
   ]
  },
  {
   "cell_type": "code",
   "execution_count": 25,
   "id": "hearing-victorian",
   "metadata": {},
   "outputs": [
    {
     "data": {
      "text/plain": [
       "array([1, 0, 1, 0, 0, 0])"
      ]
     },
     "execution_count": 25,
     "metadata": {},
     "output_type": "execute_result"
    }
   ],
   "source": [
    "##fitting and predict\n",
    "lr=LogisticRegression()\n",
    "lr.fit(x_train,y_train)\n",
    "\n",
    "y_pred=lr.predict(x_test)\n",
    "y_pred"
   ]
  },
  {
   "cell_type": "code",
   "execution_count": 26,
   "id": "disabled-teddy",
   "metadata": {},
   "outputs": [
    {
     "data": {
      "text/plain": [
       "array([[0.05428681, 0.94571319],\n",
       "       [0.70555426, 0.29444574],\n",
       "       [0.06039343, 0.93960657],\n",
       "       [0.77085061, 0.22914939],\n",
       "       [0.84096546, 0.15903454],\n",
       "       [0.72848825, 0.27151175]])"
      ]
     },
     "execution_count": 26,
     "metadata": {},
     "output_type": "execute_result"
    }
   ],
   "source": [
    "prob_ypred=lr.predict_proba(x_test)\n",
    "prob_ypred     ## check the predicted probability of 0 and 1 "
   ]
  },
  {
   "cell_type": "code",
   "execution_count": 27,
   "id": "promising-journal",
   "metadata": {},
   "outputs": [
    {
     "data": {
      "text/plain": [
       "array([0])"
      ]
     },
     "execution_count": 27,
     "metadata": {},
     "output_type": "execute_result"
    }
   ],
   "source": [
    "lr.predict([[20]])"
   ]
  },
  {
   "cell_type": "code",
   "execution_count": 28,
   "id": "departmental-clothing",
   "metadata": {},
   "outputs": [
    {
     "data": {
      "text/plain": [
       "array([[0.79021099, 0.20978901],\n",
       "       [0.08276569, 0.91723431],\n",
       "       [0.75026822, 0.24973178],\n",
       "       [0.18231638, 0.81768362],\n",
       "       [0.79021099, 0.20978901],\n",
       "       [0.259528  , 0.740472  ],\n",
       "       [0.1016344 , 0.8983656 ],\n",
       "       [0.23839476, 0.76160524],\n",
       "       [0.11243387, 0.88756613],\n",
       "       [0.40855066, 0.59144934],\n",
       "       [0.15098629, 0.84901371],\n",
       "       [0.12422218, 0.87577782],\n",
       "       [0.28184138, 0.71815862],\n",
       "       [0.88128556, 0.11871444],\n",
       "       [0.82525318, 0.17474682],\n",
       "       [0.85551234, 0.14448766],\n",
       "       [0.06713821, 0.93286179],\n",
       "       [0.8926153 , 0.1073847 ],\n",
       "       [0.19978243, 0.80021757],\n",
       "       [0.8926153 , 0.1073847 ],\n",
       "       [0.11243387, 0.88756613]])"
      ]
     },
     "execution_count": 28,
     "metadata": {},
     "output_type": "execute_result"
    }
   ],
   "source": [
    "prob_xtrn=lr.predict_proba(x_train)\n",
    "prob_xtrn"
   ]
  },
  {
   "cell_type": "code",
   "execution_count": 29,
   "id": "brazilian-requirement",
   "metadata": {},
   "outputs": [],
   "source": [
    "from sklearn.metrics import log_loss\n",
    "#find log_loss"
   ]
  },
  {
   "cell_type": "code",
   "execution_count": 30,
   "id": "palestinian-borough",
   "metadata": {},
   "outputs": [
    {
     "name": "stdout",
     "output_type": "stream",
     "text": [
      "\n",
      "Actual values are:     bought_insurance\n",
      "8                  1\n",
      "13                 0\n",
      "9                  1\n",
      "21                 0\n",
      "0                  0\n",
      "11                 0\n",
      "\n",
      "predicted values are: [1 0 1 0 0 0]\n",
      "\n",
      "probability of predicted values are: [[0.05428681 0.94571319]\n",
      " [0.70555426 0.29444574]\n",
      " [0.06039343 0.93960657]\n",
      " [0.77085061 0.22914939]\n",
      " [0.84096546 0.15903454]\n",
      " [0.72848825 0.27151175]]\n",
      "\n",
      "\n",
      "Coefficeint value: [[0.11307718]]\n",
      "\n",
      "Intercept value: [-4.15312723]\n",
      "\n",
      "Score value: 0.8571428571428571\n",
      "\n",
      "log_loss values: 9.992007221626415e-16\n",
      "\n"
     ]
    }
   ],
   "source": [
    "\n",
    "print()\n",
    "print('Actual values are:',y_test)\n",
    "print()\n",
    "print('predicted values are:',y_pred)\n",
    "print()\n",
    "print('probability of predicted values are:',prob_ypred )\n",
    "print()\n",
    "print()\n",
    "\n",
    "\n",
    "\n",
    "print('Coefficeint value:',lr.coef_ ) ## coefficient \n",
    "print()\n",
    "print('Intercept value:',lr.intercept_ ) ## intercept\n",
    "print()\n",
    "print('Score value:',lr.score(x_train,y_train)) \n",
    "print()\n",
    "print('log_loss values:',log_loss(y_test,y_pred))\n",
    "print()"
   ]
  },
  {
   "cell_type": "code",
   "execution_count": 31,
   "id": "opponent-couple",
   "metadata": {},
   "outputs": [
    {
     "name": "stdout",
     "output_type": "stream",
     "text": [
      "\n",
      "Confusion matrix\n",
      "[[4 0]\n",
      " [0 2]]\n",
      "\n",
      "classification report:\n",
      "               precision    recall  f1-score   support\n",
      "\n",
      "           0       1.00      1.00      1.00         4\n",
      "           1       1.00      1.00      1.00         2\n",
      "\n",
      "    accuracy                           1.00         6\n",
      "   macro avg       1.00      1.00      1.00         6\n",
      "weighted avg       1.00      1.00      1.00         6\n",
      "\n",
      "\n",
      "\n"
     ]
    },
    {
     "data": {
      "image/png": "[encoded data removed]",
      "text/plain": [
       "<Figure size 288x288 with 2 Axes>"
      ]
     },
     "metadata": {
      "needs_background": "light"
     },
     "output_type": "display_data"
    }
   ],
   "source": [
    "##confusion matrix\n",
    "\n",
    "from sklearn.metrics import confusion_matrix,classification_report\n",
    "\n",
    "\n",
    "matrix=confusion_matrix(y_test,y_pred)\n",
    "print()\n",
    "print(\"Confusion matrix\")\n",
    "print(matrix)\n",
    "print()\n",
    "report=classification_report(y_test,y_pred)\n",
    "print('classification report:\\n',report)\n",
    "\n",
    "print()\n",
    "print()\n",
    "\n",
    "plt.matshow(matrix)  ## matshow is to plot data as matrix\n",
    "plt.title('confused matrix')\n",
    "plt.xlabel('predicted')\n",
    "plt.ylabel('actual')\n",
    "plt.colorbar()\n",
    "plt.show()"
   ]
  },
  {
   "cell_type": "markdown",
   "id": "grand-hobby",
   "metadata": {},
   "source": [
    "tp,fn,fp,tn \n",
    "\n",
    "precision and recall is 100% ,\n",
    "no false positive and false negative\n",
    "this is an ideal matrix "
   ]
  },
  {
   "cell_type": "markdown",
   "id": "informative-vector",
   "metadata": {},
   "source": [
    "Manually check "
   ]
  },
  {
   "cell_type": "code",
   "execution_count": 33,
   "id": "honey-doubt",
   "metadata": {},
   "outputs": [],
   "source": [
    "import math\n",
    "def sigmoid(x):\n",
    "    return 1/(1+math.exp(-x))\n"
   ]
  },
  {
   "cell_type": "code",
   "execution_count": 34,
   "id": "cooperative-cargo",
   "metadata": {},
   "outputs": [],
   "source": [
    "def predict_age(age):\n",
    "    z=lr.coef_*age-lr.intercept_\n",
    "    y=sigmoid(z)\n",
    "    return y"
   ]
  },
  {
   "cell_type": "code",
   "execution_count": 35,
   "id": "collect-space",
   "metadata": {},
   "outputs": [
    {
     "data": {
      "text/plain": [
       "0.998365317886323"
      ]
     },
     "execution_count": 35,
     "metadata": {},
     "output_type": "execute_result"
    }
   ],
   "source": [
    "age=20\n",
    "predict_age(age)"
   ]
  },
  {
   "cell_type": "code",
   "execution_count": null,
   "id": "productive-render",
   "metadata": {},
   "outputs": [],
   "source": []
  },
  {
   "cell_type": "code",
   "execution_count": null,
   "id": "nearby-viking",
   "metadata": {},
   "outputs": [],
   "source": []
  }
 ],
 "metadata": {
  "kernelspec": {
   "display_name": "Python 3",
   "language": "python",
   "name": "python3"
  },
  "language_info": {
   "codemirror_mode": {
    "name": "ipython",
    "version": 3
   },
   "file_extension": ".py",
   "mimetype": "text/x-python",
   "name": "python",
   "nbconvert_exporter": "python",
   "pygments_lexer": "ipython3",
   "version": "3.9.2"
  }
 },
 "nbformat": 4,
 "nbformat_minor": 5
}
