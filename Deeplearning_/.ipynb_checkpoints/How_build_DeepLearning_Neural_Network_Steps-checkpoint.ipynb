{
 "cells": [
  {
   "cell_type": "code",
   "execution_count": 1,
   "id": "bf9422de",
   "metadata": {},
   "outputs": [],
   "source": [
    "import numpy as np\n",
    "import h5py\n",
    "import matplotlib.pyplot as plt\n",
    "plt.rcParams['figure.figsize']=(5.0,4.0) #set default size of plot\n",
    "plt.rcParams['image.interpolation']='nearest'\n",
    "plt.rcParams['image.cmap']='gray'\n",
    "np.random.seed(1)"
   ]
  },
  {
   "cell_type": "code",
   "execution_count": 3,
   "id": "2e2fdc29",
   "metadata": {},
   "outputs": [],
   "source": [
    "def sigmoid(Z):\n",
    "    A=1/(1+np.exp(-Z)) #sigmoid eqn\n",
    "    cache=Z\n",
    "    \n",
    "    return A,cache\n",
    "\n",
    "def relu(Z):\n",
    "    A=np.maximum(0,Z)\n",
    "    cache=Z\n",
    "    return A,cache\n",
    "\n",
    "def relu_backward(dA,cache):\n",
    "    Z=cache\n",
    "    dZ=np.array(dA,copy=True) #dA -differntiate of A\n",
    "    dZ[Z<=0]=0\n",
    "    return dZ\n",
    "\n",
    "def sigmoid_backward(dA,cache):\n",
    "    Z=cache\n",
    "    s=1/(1+np.exp(-z))\n",
    "    dZ=dA*s*(1-s) #differntiate of sigmoid\n",
    "    \n",
    "    return dZ"
   ]
  },
  {
   "cell_type": "markdown",
   "id": "2e5d620e",
   "metadata": {},
   "source": [
    "##### Steps for building L layer of Neural Network in Deep Learning\n",
    "\n",
    "- Initialize parameter  (W1,b1,W2,b2)\n",
    "- Forward propogation\n",
    "- Find cost fun\n",
    "- Backward propogation\n",
    "\n",
    "#### 1 .Initialization\n",
    "\n",
    "- The model's Structure is: LINEAR->RELU->LINEAR->SIGMOID\n",
    "- use this random initialization for the weight matrices:np.random.randn(shape)*0.01 with the correct shape\n",
    "- use Zero initialization for the biases:np.zeros(shape)\n"
   ]
  },
  {
   "cell_type": "code",
   "execution_count": null,
   "id": "deb3fe37",
   "metadata": {},
   "outputs": [],
   "source": [
    "def initialize_parameter(n_x,n_h,n_y):\n",
    "    "
   ]
  }
 ],
 "metadata": {
  "kernelspec": {
   "display_name": "Python 3",
   "language": "python",
   "name": "python3"
  },
  "language_info": {
   "codemirror_mode": {
    "name": "ipython",
    "version": 3
   },
   "file_extension": ".py",
   "mimetype": "text/x-python",
   "name": "python",
   "nbconvert_exporter": "python",
   "pygments_lexer": "ipython3",
   "version": "3.7.10"
  }
 },
 "nbformat": 4,
 "nbformat_minor": 5
}
