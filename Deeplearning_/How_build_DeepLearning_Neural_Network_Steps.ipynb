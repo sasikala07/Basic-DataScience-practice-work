{
 "cells": [
  {
   "cell_type": "code",
   "execution_count": 1,
   "id": "e8c17329",
   "metadata": {},
   "outputs": [],
   "source": [
    "import numpy as np\n",
    "import h5py\n",
    "import matplotlib.pyplot as plt\n",
    "plt.rcParams['figure.figsize']=(5.0,4.0) #set default size of plot\n",
    "plt.rcParams['image.interpolation']='nearest'\n",
    "plt.rcParams['image.cmap']='gray'\n",
    "np.random.seed(1)"
   ]
  },
  {
   "cell_type": "code",
   "execution_count": 2,
   "id": "ef6b37c0",
   "metadata": {},
   "outputs": [],
   "source": [
    "def sigmoid(Z):\n",
    "    A=1/(1+np.exp(-Z)) #sigmoid eqn\n",
    "    cache=Z\n",
    "    \n",
    "    return A,cache\n",
    "\n",
    "def relu(Z):\n",
    "    A=np.maximum(0,Z)\n",
    "    cache=Z\n",
    "    return A,cache\n",
    "\n",
    "def relu_backward(dA,cache):\n",
    "    Z=cache\n",
    "    dZ=np.array(dA,copy=True) #dA -differntiate of A\n",
    "    dZ[Z<=0]=0\n",
    "    return dZ\n",
    "\n",
    "def sigmoid_backward(dA,cache):\n",
    "    Z=cache\n",
    "    s=1/(1+np.exp(-z))\n",
    "    dZ=dA*s*(1-s) #differntiate of sigmoid\n",
    "    \n",
    "    return dZ"
   ]
  },
  {
   "cell_type": "markdown",
   "id": "b9ad53bf",
   "metadata": {},
   "source": [
    "##### Steps for building L layer of Neural Network in Deep Learning\n",
    "\n",
    "- Initialize parameter  (W1,b1,W2,b2)\n",
    "- Forward propogation\n",
    "- Find cost fun\n",
    "- Backward propogation\n",
    "\n",
    "#### 1 .Initialization\n",
    "\n",
    "- The model's Structure is: LINEAR->RELU->LINEAR->SIGMOID\n",
    "- use this random initialization for the weight matrices:np.random.randn(shape)*0.01 with the correct shape\n",
    "- use Zero initialization for the biases:np.zeros(shape)\n"
   ]
  },
  {
   "cell_type": "code",
   "execution_count": 3,
   "id": "fb5395ee",
   "metadata": {},
   "outputs": [],
   "source": [
    "def initialize_parameter(n_x,n_h,n_y):\n",
    "    w1=np.random.randn(n_h,n_x)*0.01\n",
    "    b1=np.zeros([n_h,1])\n",
    "    w2=np.random.randn(n_y,n_h)*0.01\n",
    "    b2=np.zeros([n_y,1])\n",
    "    \n",
    "    parameter={'w1':w1,\n",
    "              'b1':b1,\n",
    "              'w2':w2,\n",
    "              'b2':b2}\n",
    "    \n",
    "    return parameter\n",
    "# initialize_parameter(4,2,3)"
   ]
  },
  {
   "cell_type": "code",
   "execution_count": 4,
   "id": "67c255c7",
   "metadata": {},
   "outputs": [
    {
     "name": "stdout",
     "output_type": "stream",
     "text": [
      "w1 =[[ 0.01624345 -0.00611756 -0.00528172]\n",
      " [-0.01072969  0.00865408 -0.02301539]]\n",
      "b1 =[[0.]\n",
      " [0.]]\n",
      "w2 =[[ 0.01744812 -0.00761207]]\n",
      "b2 =[[0.]]\n"
     ]
    }
   ],
   "source": [
    "parameter=initialize_parameter(3,2,1) #fst layer,2nd layer,3rd layer\n",
    "\n",
    "print('w1 ='+str(parameter['w1']))\n",
    "print('b1 ='+str(parameter['b1']))\n",
    "print('w2 ='+str(parameter['w2']))\n",
    "print('b2 ='+str(parameter['b2']))"
   ]
  },
  {
   "cell_type": "markdown",
   "id": "119e425a",
   "metadata": {},
   "source": [
    "##### parameter initialization for L layer neural network"
   ]
  },
  {
   "cell_type": "code",
   "execution_count": 5,
   "id": "cfae3c63",
   "metadata": {},
   "outputs": [],
   "source": [
    "def initilaize_parameter_deep(layer_dims):\n",
    "    \n",
    "    np.random.seed(3)\n",
    "    parameter={}\n",
    "    L=len(layer_dims)\n",
    "    \n",
    "    for i in range(1,L):\n",
    "        parameter['w'+str(i)]=np.random.randn(layer_dims[i],layer_dims[i-1])*0.01\n",
    "        parameter['b'+str(i)]=np.zeros([layer_dims[i],1])\n",
    "        \n",
    "    return parameter"
   ]
  },
  {
   "cell_type": "code",
   "execution_count": 6,
   "id": "d6c2802e",
   "metadata": {},
   "outputs": [
    {
     "name": "stdout",
     "output_type": "stream",
     "text": [
      "w1 =[[ 0.01788628  0.0043651   0.00096497 -0.01863493 -0.00277388]\n",
      " [-0.00354759 -0.00082741 -0.00627001 -0.00043818 -0.00477218]\n",
      " [-0.01313865  0.00884622  0.00881318  0.01709573  0.00050034]\n",
      " [-0.00404677 -0.0054536  -0.01546477  0.00982367 -0.01101068]]\n",
      "b1 =[[0.]\n",
      " [0.]\n",
      " [0.]\n",
      " [0.]]\n",
      "w2 =[[-0.01185047 -0.0020565   0.01486148  0.00236716]\n",
      " [-0.01023785 -0.00712993  0.00625245 -0.00160513]\n",
      " [-0.00768836 -0.00230031  0.00745056  0.01976111]]\n",
      "b2 =[[0.]\n",
      " [0.]\n",
      " [0.]]\n"
     ]
    }
   ],
   "source": [
    "parameter=initilaize_parameter_deep([5,4,3]) #fst layer,2nd layer,3rd layer\n",
    "\n",
    "print('w1 ='+str(parameter['w1']))\n",
    "print('b1 ='+str(parameter['b1']))\n",
    "print('w2 ='+str(parameter['w2']))\n",
    "print('b2 ='+str(parameter['b2']))"
   ]
  },
  {
   "cell_type": "markdown",
   "id": "230a6074",
   "metadata": {},
   "source": [
    "#### 2 Forward propogation\n",
    "\n"
   ]
  },
  {
   "cell_type": "code",
   "execution_count": 7,
   "id": "ff78f7cd",
   "metadata": {},
   "outputs": [],
   "source": [
    "def linear_forward(A,w,b):\n",
    "    Z=np.dot(w,A)+b\n",
    "    cache=(A,w,b)\n",
    "    return Z,cache"
   ]
  },
  {
   "cell_type": "markdown",
   "id": "916ea5a6",
   "metadata": {},
   "source": [
    "- linear action forward"
   ]
  },
  {
   "cell_type": "code",
   "execution_count": 8,
   "id": "cc1e872a",
   "metadata": {},
   "outputs": [],
   "source": [
    "def linear_activation_forward(A_prev,w,b,activation):\n",
    "    if activation=='sigmoid':\n",
    "        Z,linear_cache=linear_forward(A_prev,w,b)\n",
    "        A,activation_cache=sigmoid(Z)\n",
    "        \n",
    "    elif activation=='relu':\n",
    "        Z,linear_cache=linear_forward(A_prev,w,b)\n",
    "        A,activation_cache=relu(Z)\n",
    "        \n",
    "    cache=(linear_cache,activation_cache)\n",
    "    \n",
    "    return A,cache"
   ]
  },
  {
   "cell_type": "code",
   "execution_count": 9,
   "id": "90163f03",
   "metadata": {},
   "outputs": [],
   "source": [
    "def L_model_forward(X,parameter):\n",
    "    caches=[]\n",
    "    A=X\n",
    "    L=len(parameter)//2\n",
    "    \n",
    "    for i in range(1,L):\n",
    "        A_prev=A\n",
    "        \n",
    "        A,cache=linear_activation_forward(A_prev,\n",
    "                                         parameter['w'+str(i)],\n",
    "                                         parameter['b'+str(i)],\n",
    "                                         activation='relu')\n",
    "        \n",
    "        cache.append(cache)\n",
    "        \n",
    "    AL,cache=linear_activation_forward(A,\n",
    "                                      parameter['w'+str(i)],\n",
    "                                      parameter['b'+str(i)],\n",
    "                                      activation='sigmoid')\n",
    "    \n",
    "    cache.append(cache)\n",
    "    \n",
    "    return AL,cache"
   ]
  },
  {
   "cell_type": "markdown",
   "id": "f45a5f51",
   "metadata": {},
   "source": [
    "#### compute the cross-entropy cost ...cost function"
   ]
  },
  {
   "cell_type": "code",
   "execution_count": 10,
   "id": "0c7cd344",
   "metadata": {},
   "outputs": [],
   "source": [
    "def compute_cost(AL,Y):\n",
    "    m=Y.shape[1]\n",
    "    cost=-1/m*np.sum(Y*np.log(AL)+(1-Y)*np.log(1-AL))\n",
    "    cost=np.squeeze(cost)\n",
    "    \n",
    "    return cost\n"
   ]
  },
  {
   "cell_type": "markdown",
   "id": "9cb515d5",
   "metadata": {},
   "source": [
    "### 3.Backward propogation\n",
    "\n",
    "- Z[l]=W[l]A[l-1]+b[l]\n",
    "\n"
   ]
  },
  {
   "cell_type": "code",
   "execution_count": 13,
   "id": "56885f24",
   "metadata": {},
   "outputs": [],
   "source": [
    "def linear_backward(dZ,cache):\n",
    "    A_prev,w,b=cache\n",
    "    m=A_prev.shape[1]\n",
    "    \n",
    "    dw=1/m*np.dot(dZ,A_prev.T)\n",
    "    db=1/m*np.sum(dZ,axis=1,keepdims=True)\n",
    "    dA_prev=np.dot(w.T,dZ)\n",
    "    \n",
    "    return dA_prev,dw,db\n",
    "    "
   ]
  },
  {
   "cell_type": "markdown",
   "id": "96cda1e6",
   "metadata": {},
   "source": [
    "- linear activation backward"
   ]
  },
  {
   "cell_type": "code",
   "execution_count": 14,
   "id": "f3564c34",
   "metadata": {},
   "outputs": [],
   "source": [
    "def linear_activation_backward(dA,cache,activation):\n",
    "    linear_cache,activation_cache=cache\n",
    "    \n",
    "    if activation=='relu':\n",
    "        dZ=relu_backward(dA,activation_cache)\n",
    "        dA_prev,dw,db=linear_backward(dZ,linear_cache)\n",
    "        \n",
    "    elif activation=='sigmoid':\n",
    "        dZ=sigmoid_backward(dA,activation_cache)\n",
    "        dA_prev.dw.db=linear_backward(dZ,linear_cache)\n",
    "        \n",
    "    return dA_prev,dw,db"
   ]
  },
  {
   "cell_type": "markdown",
   "id": "55a4118d",
   "metadata": {},
   "source": [
    "- L model backward"
   ]
  },
  {
   "cell_type": "code",
   "execution_count": 15,
   "id": "61ce215c",
   "metadata": {},
   "outputs": [],
   "source": [
    "def L_model_backward(AL,Y,cache):\n",
    "    '[LINEAR->RELU]*(L-1)->LINEAR->SIGMOID'\n",
    "    \n",
    "    grads={}\n",
    "    L=len(cache) #calculate numb of layers\n",
    "    m=AL.shape[1]\n",
    "    Y=Y.reshape(AL.shape)\n",
    "    \n",
    "    dAL=-(np.divide(Y,AL)-np.divide(1-Y,1-AL))\n",
    "    \n",
    "    current_cache=cache[L-1]\n",
    "    grads['dA'+str(L-1)],grads['dw'+str(L)],grads['db'+str(L)]=\\\n",
    "    linear_backward(sigmoid_backward(dAL,current_cache[1]),current_cache[0])\n",
    "    \n",
    "    for i in reversed(range(L-1)):\n",
    "        current_cache=cache[1]\n",
    "        dA_prev_temp,dw_temp,db_temp=linear_activation_backward(grads['dA'+str(i+1)],current_cache,activation='relu')\n",
    "        \n",
    "        grads['dA'+str(i)]=dA_prev_temp\n",
    "        grads['dw'+str(i+1)]=dw_temp\n",
    "        grads['db'+str(i)]=db_temp\n",
    "        \n",
    "    return grads"
   ]
  },
  {
   "cell_type": "code",
   "execution_count": 16,
   "id": "d4bdedfc",
   "metadata": {},
   "outputs": [
    {
     "name": "stdout",
     "output_type": "stream",
     "text": [
      "4\n",
      "3\n",
      "2\n",
      "1\n",
      "0\n"
     ]
    }
   ],
   "source": [
    "for i in reversed(range(5)):\n",
    "    print(i)"
   ]
  },
  {
   "cell_type": "markdown",
   "id": "b04984d3",
   "metadata": {},
   "source": [
    "#### 4. update parameters"
   ]
  },
  {
   "cell_type": "code",
   "execution_count": 17,
   "id": "bb147627",
   "metadata": {},
   "outputs": [],
   "source": [
    "def update_parameter(params,grads,learning_rate):\n",
    "    parameter=params.copy()\n",
    "    L=len(parameter)//2\n",
    "    \n",
    "    for i in range(L):\n",
    "        parameter['w'+str(i+1)]=parameter['w'+str(i+1)]-learning_rate*grads['dw'+str(i+1)]\n",
    "        parameter['b'+str(i+1)]=parameter['b'+str(i+1)]-learning_rate*grads['db'+str(i+1)]\n",
    "    return parameter"
   ]
  },
  {
   "cell_type": "code",
   "execution_count": null,
   "id": "8dc1ea5e",
   "metadata": {},
   "outputs": [],
   "source": []
  }
 ],
 "metadata": {
  "kernelspec": {
   "display_name": "Python 3",
   "language": "python",
   "name": "python3"
  },
  "language_info": {
   "codemirror_mode": {
    "name": "ipython",
    "version": 3
   },
   "file_extension": ".py",
   "mimetype": "text/x-python",
   "name": "python",
   "nbconvert_exporter": "python",
   "pygments_lexer": "ipython3",
   "version": "3.7.10"
  }
 },
 "nbformat": 4,
 "nbformat_minor": 5
}
