{
 "cells": [
  {
   "cell_type": "code",
   "execution_count": 1,
   "id": "2c576cca",
   "metadata": {},
   "outputs": [],
   "source": [
    "import numpy as np\n",
    "import h5py\n",
    "import matplotlib.pyplot as plt\n",
    "plt.rcParams['figure.figsize']=(5.0,4.0) #set default size of plot\n",
    "plt.rcParams['image.interpolation']='nearest'\n",
    "plt.rcParams['image.cmap']='gray'\n",
    "np.random.seed(1)"
   ]
  },
  {
   "cell_type": "code",
   "execution_count": 3,
   "id": "87369983",
   "metadata": {},
   "outputs": [],
   "source": [
    "def sigmoid(Z):\n",
    "    A=1/(1+np.exp(-Z)) #sigmoid eqn\n",
    "    cache=Z\n",
    "    \n",
    "    return A,cache\n",
    "\n",
    "def relu(Z):\n",
    "    A=np.maximum(0,Z)\n",
    "    cache=Z\n",
    "    return A,cache\n",
    "\n",
    "def relu_backward(dA,cache):\n",
    "    Z=cache\n",
    "    dZ=np.array(dA,copy=True) #dA -differntiate of A\n",
    "    dZ[Z<=0]=0\n",
    "    return dZ\n",
    "\n",
    "def sigmoid_backward(dA,cache):\n",
    "    Z=cache\n",
    "    s=1/(1+np.exp(-z))\n",
    "    dZ=dA*s*(1-s) #differntiate of sigmoid\n",
    "    \n",
    "    return dZ"
   ]
  },
  {
   "cell_type": "markdown",
   "id": "7e8d7eac",
   "metadata": {},
   "source": [
    "##### Steps for building L layer of Neural Network in Deep Learning\n",
    "\n",
    "- Initialize parameter  (W1,b1,W2,b2)\n",
    "- Forward propogation\n",
    "- Find cost fun\n",
    "- Backward propogation\n",
    "\n",
    "#### 1 .Initialization\n",
    "\n",
    "- The model's Structure is: LINEAR->RELU->LINEAR->SIGMOID\n",
    "- use this random initialization for the weight matrices:np.random.randn(shape)*0.01 with the correct shape\n",
    "- use Zero initialization for the biases:np.zeros(shape)\n"
   ]
  },
  {
   "cell_type": "code",
   "execution_count": 8,
   "id": "4638d16d",
   "metadata": {},
   "outputs": [
    {
     "data": {
      "text/plain": [
       "{'w1': array([[-0.00267888,  0.00530355, -0.00691661, -0.00396754],\n",
       "        [-0.00687173, -0.00845206, -0.00671246, -0.00012665]]),\n",
       " 'b1': array([[0.],\n",
       "        [0.]]),\n",
       " 'w2': array([[-0.0111731 ,  0.00234416],\n",
       "        [ 0.01659802,  0.00742044],\n",
       "        [-0.00191836, -0.00887629]]),\n",
       " 'b2': array([[0.],\n",
       "        [0.],\n",
       "        [0.]])}"
      ]
     },
     "execution_count": 8,
     "metadata": {},
     "output_type": "execute_result"
    }
   ],
   "source": [
    "def initialize_parameter(n_x,n_h,n_y):\n",
    "    w1=np.random.randn(n_h,n_x)*0.01\n",
    "    b1=np.zeros([n_h,1])\n",
    "    w2=np.random.randn(n_y,n_h)*0.01\n",
    "    b2=np.zeros([n_y,1])\n",
    "    \n",
    "    parameter={'w1':w1,\n",
    "              'b1':b1,\n",
    "              'w2':w2,\n",
    "              'b2':b2}\n",
    "    \n",
    "    return parameter\n",
    "initialize_parameter(4,2,3)"
   ]
  },
  {
   "cell_type": "code",
   "execution_count": null,
   "id": "29332901",
   "metadata": {},
   "outputs": [],
   "source": []
  }
 ],
 "metadata": {
  "kernelspec": {
   "display_name": "Python 3",
   "language": "python",
   "name": "python3"
  },
  "language_info": {
   "codemirror_mode": {
    "name": "ipython",
    "version": 3
   },
   "file_extension": ".py",
   "mimetype": "text/x-python",
   "name": "python",
   "nbconvert_exporter": "python",
   "pygments_lexer": "ipython3",
   "version": "3.7.10"
  }
 },
 "nbformat": 4,
 "nbformat_minor": 5
}
