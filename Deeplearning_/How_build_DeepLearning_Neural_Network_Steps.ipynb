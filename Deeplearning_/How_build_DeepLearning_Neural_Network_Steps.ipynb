{
 "cells": [
  {
   "cell_type": "code",
   "execution_count": 1,
   "id": "e8c17329",
   "metadata": {},
   "outputs": [],
   "source": [
    "import numpy as np\n",
    "import h5py\n",
    "import matplotlib.pyplot as plt\n",
    "plt.rcParams['figure.figsize']=(5.0,4.0) #set default size of plot\n",
    "plt.rcParams['image.interpolation']='nearest'\n",
    "plt.rcParams['image.cmap']='gray'\n",
    "np.random.seed(1)"
   ]
  },
  {
   "cell_type": "code",
   "execution_count": 2,
   "id": "ef6b37c0",
   "metadata": {},
   "outputs": [],
   "source": [
    "def sigmoid(Z):\n",
    "    A=1/(1+np.exp(-Z)) #sigmoid eqn\n",
    "    cache=Z\n",
    "    \n",
    "    return A,cache\n",
    "\n",
    "def relu(Z):\n",
    "    A=np.maximum(0,Z)\n",
    "    cache=Z\n",
    "    return A,cache\n",
    "\n",
    "def relu_backward(dA,cache):\n",
    "    Z=cache\n",
    "    dZ=np.array(dA,copy=True) #dA -differntiate of A\n",
    "    dZ[Z<=0]=0\n",
    "    return dZ\n",
    "\n",
    "def sigmoid_backward(dA,cache):\n",
    "    Z=cache\n",
    "    s=1/(1+np.exp(-z))\n",
    "    dZ=dA*s*(1-s) #differntiate of sigmoid\n",
    "    \n",
    "    return dZ"
   ]
  },
  {
   "cell_type": "markdown",
   "id": "b9ad53bf",
   "metadata": {},
   "source": [
    "##### Steps for building L layer of Neural Network in Deep Learning\n",
    "\n",
    "- Initialize parameter  (W1,b1,W2,b2)\n",
    "- Forward propogation\n",
    "- Find cost fun\n",
    "- Backward propogation\n",
    "\n",
    "#### 1 .Initialization\n",
    "\n",
    "- The model's Structure is: LINEAR->RELU->LINEAR->SIGMOID\n",
    "- use this random initialization for the weight matrices:np.random.randn(shape)*0.01 with the correct shape\n",
    "- use Zero initialization for the biases:np.zeros(shape)\n"
   ]
  },
  {
   "cell_type": "code",
   "execution_count": 3,
   "id": "fb5395ee",
   "metadata": {},
   "outputs": [],
   "source": [
    "def initialize_parameter(n_x,n_h,n_y):\n",
    "    w1=np.random.randn(n_h,n_x)*0.01\n",
    "    b1=np.zeros([n_h,1])\n",
    "    w2=np.random.randn(n_y,n_h)*0.01\n",
    "    b2=np.zeros([n_y,1])\n",
    "    \n",
    "    parameter={'w1':w1,\n",
    "              'b1':b1,\n",
    "              'w2':w2,\n",
    "              'b2':b2}\n",
    "    \n",
    "    return parameter\n",
    "# initialize_parameter(4,2,3)"
   ]
  },
  {
   "cell_type": "code",
   "execution_count": 6,
   "id": "232858fb",
   "metadata": {},
   "outputs": [
    {
     "name": "stdout",
     "output_type": "stream",
     "text": [
      "w1 =[[ 0.00319039 -0.0024937   0.01462108]\n",
      " [-0.02060141 -0.00322417 -0.00384054]]\n",
      "b1 =[[0.]\n",
      " [0.]]\n",
      "w2 =[[ 0.01133769 -0.01099891]]\n",
      "b2 =[[0.]]\n"
     ]
    }
   ],
   "source": [
    "parameter=initialize_parameter(3,2,1) #fst layer,2nd layer,3rd layer\n",
    "\n",
    "print('w1 ='+str(parameter['w1']))\n",
    "print('b1 ='+str(parameter['b1']))\n",
    "print('w2 ='+str(parameter['w2']))\n",
    "print('b2 ='+str(parameter['b2']))"
   ]
  },
  {
   "cell_type": "markdown",
   "id": "2a240c0e",
   "metadata": {},
   "source": [
    "##### parameter initialization for L layer neural network"
   ]
  },
  {
   "cell_type": "code",
   "execution_count": 10,
   "id": "6584406b",
   "metadata": {},
   "outputs": [],
   "source": [
    "def initilaize_parameter_deep(layer_dims):\n",
    "    \n",
    "    np.random.seed(3)\n",
    "    parameter={}\n",
    "    L=len(layer_dims)\n",
    "    \n",
    "    for i in range(1,L):\n",
    "        parameter['w'+str(i)]=np.random.randn(layer_dims[i],layer_dims[i-1])*0.01\n",
    "        parameter['b'+str(i)]=np.zeros([layer_dims[i],1])\n",
    "        \n",
    "    return parameter"
   ]
  },
  {
   "cell_type": "code",
   "execution_count": 12,
   "id": "38a5dd71",
   "metadata": {},
   "outputs": [
    {
     "name": "stdout",
     "output_type": "stream",
     "text": [
      "w1 =[[ 0.01788628  0.0043651   0.00096497 -0.01863493 -0.00277388]\n",
      " [-0.00354759 -0.00082741 -0.00627001 -0.00043818 -0.00477218]\n",
      " [-0.01313865  0.00884622  0.00881318  0.01709573  0.00050034]\n",
      " [-0.00404677 -0.0054536  -0.01546477  0.00982367 -0.01101068]]\n",
      "b1 =[[0.]\n",
      " [0.]\n",
      " [0.]\n",
      " [0.]]\n",
      "w2 =[[-0.01185047 -0.0020565   0.01486148  0.00236716]\n",
      " [-0.01023785 -0.00712993  0.00625245 -0.00160513]\n",
      " [-0.00768836 -0.00230031  0.00745056  0.01976111]]\n",
      "b2 =[[0.]\n",
      " [0.]\n",
      " [0.]]\n"
     ]
    }
   ],
   "source": [
    "parameter=initilaize_parameter_deep([5,4,3]) #fst layer,2nd layer,3rd layer\n",
    "\n",
    "print('w1 ='+str(parameter['w1']))\n",
    "print('b1 ='+str(parameter['b1']))\n",
    "print('w2 ='+str(parameter['w2']))\n",
    "print('b2 ='+str(parameter['b2']))"
   ]
  },
  {
   "cell_type": "markdown",
   "id": "95f7a852",
   "metadata": {},
   "source": [
    "#### 2 Forward propogation\n",
    "\n"
   ]
  },
  {
   "cell_type": "code",
   "execution_count": 13,
   "id": "d9b36fd0",
   "metadata": {},
   "outputs": [],
   "source": [
    "def linear_forward(A,w,b):\n",
    "    Z=np.dot(w,A)+b\n",
    "    cache=(A,w,b)\n",
    "    return Z,cache"
   ]
  },
  {
   "cell_type": "markdown",
   "id": "b1809924",
   "metadata": {},
   "source": [
    "- linear action forward"
   ]
  },
  {
   "cell_type": "code",
   "execution_count": 14,
   "id": "61f58785",
   "metadata": {},
   "outputs": [],
   "source": [
    "def linear_activation_forward(A_prev,w,b,activation):\n",
    "    if activation=='sigmoid':\n",
    "        Z,linear_cache=linear_forward(A_prev,w,b)\n",
    "        A,activation_cache=sigmoid(Z)\n",
    "        \n",
    "    elif activation=='relu':\n",
    "        Z,linear_cache=linear_forward(A_prev,w,b)\n",
    "        A,activation_cache=relu(Z)\n",
    "        \n",
    "    cache=(linear_cache,activation_cache)\n",
    "    \n",
    "    return A,cache"
   ]
  },
  {
   "cell_type": "code",
   "execution_count": 16,
   "id": "45d8440f",
   "metadata": {},
   "outputs": [],
   "source": [
    "def L_model_forward(X,parameter):\n",
    "    caches=[]\n",
    "    A=X\n",
    "    L=len(parameter)//2\n",
    "    \n",
    "    for i in range(1,L):\n",
    "        A_prev=A\n",
    "        \n",
    "        A,cache=linear_activation_forward(A_prev,\n",
    "                                         parameter['w'+str(i)],\n",
    "                                         parameter['b'+str(i)],\n",
    "                                         activation='relu')\n",
    "        \n",
    "        cache.append(cache)\n",
    "        \n",
    "    AL,cache=linear_activation_forward(A,\n",
    "                                      parameter['w'+str(i)],\n",
    "                                      parameter['b'+str(i)],\n",
    "                                      activation='sigmoid')\n",
    "    \n",
    "    cache.append(cache)\n",
    "    \n",
    "    return AL,cache"
   ]
  },
  {
   "cell_type": "markdown",
   "id": "142de802",
   "metadata": {},
   "source": [
    "#### compute the cross-entropy cost ...cost function"
   ]
  },
  {
   "cell_type": "code",
   "execution_count": 17,
   "id": "9a5f0e71",
   "metadata": {},
   "outputs": [],
   "source": [
    "def compute_cost(AL,Y):\n",
    "    m=Y.shape[1]\n",
    "    cost=-1/m*np.sum(Y*np.log(AL)+(1-Y)*np.log(1-AL))\n",
    "    cost=np.squeeze(cost)\n",
    "    \n",
    "    return cost"
   ]
  },
  {
   "cell_type": "code",
   "execution_count": null,
   "id": "cb9cdd83",
   "metadata": {},
   "outputs": [],
   "source": []
  }
 ],
 "metadata": {
  "kernelspec": {
   "display_name": "Python 3",
   "language": "python",
   "name": "python3"
  },
  "language_info": {
   "codemirror_mode": {
    "name": "ipython",
    "version": 3
   },
   "file_extension": ".py",
   "mimetype": "text/x-python",
   "name": "python",
   "nbconvert_exporter": "python",
   "pygments_lexer": "ipython3",
   "version": "3.7.10"
  }
 },
 "nbformat": 4,
 "nbformat_minor": 5
}
