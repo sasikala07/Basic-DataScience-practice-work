{
 "cells": [
  {
   "cell_type": "code",
   "execution_count": 1,
   "id": "39c7d9bb",
   "metadata": {},
   "outputs": [],
   "source": [
    "import time\n",
    "import numpy as np\n",
    "import h5py\n",
    "import matplotlib.pyplot as plt\n",
    "import scipy\n",
    "from PIL import Image\n",
    "from scipy import ndimage\n",
    "from dnnutils import *\n",
    "\n",
    "plt.rcParams['figure.figsize']=(5.0,4.0)\n",
    "plt.rcParams['image.interpolation']='nearest'\n",
    "plt.rcParams['image.cmap']='gray'\n",
    "np.random.seed(1)"
   ]
  },
  {
   "cell_type": "code",
   "execution_count": 2,
   "id": "656ac5d7",
   "metadata": {},
   "outputs": [],
   "source": [
    "train_x_orig,train_y,test_x_orig,test_y,classes=load_data() "
   ]
  },
  {
   "cell_type": "code",
   "execution_count": 3,
   "id": "7507a05c",
   "metadata": {},
   "outputs": [
    {
     "name": "stdout",
     "output_type": "stream",
     "text": [
      "No of training eg: 209\n",
      "No of testing eg: 50\n",
      "each image size is:(64,64,3)\n",
      "Training_x_orig shape:(209, 64, 64, 3)\n",
      "train_y shape:(1, 209)\n",
      "Test_x_orig shape:(50, 64, 64, 3)\n",
      "Test_y shape:(1, 50)\n"
     ]
    }
   ],
   "source": [
    "m_train=train_x_orig.shape[0]\n",
    "num_px=train_x_orig.shape[1]\n",
    "m_test=test_x_orig.shape[0]\n",
    "\n",
    "print('No of training eg:',m_train)\n",
    "print('No of testing eg:',m_test)\n",
    "print('each image size is:('+str(num_px)+','+str(num_px)+',3)',)\n",
    "print('Training_x_orig shape:'+str(train_x_orig.shape))\n",
    "print('train_y shape:'+str(train_y.shape))\n",
    "print('Test_x_orig shape:'+str(test_x_orig.shape))\n",
    "print('Test_y shape:'+str(test_y.shape))"
   ]
  },
  {
   "cell_type": "code",
   "execution_count": 4,
   "id": "96fd211c",
   "metadata": {},
   "outputs": [
    {
     "name": "stdout",
     "output_type": "stream",
     "text": [
      "train_x reshape:(12288, 209)\n",
      "test_x reshape:(12288, 50)\n"
     ]
    }
   ],
   "source": [
    "train_x_faltten=train_x_orig.reshape(train_x_orig.shape[0],-1).T\n",
    "test_x_flatten=test_x_orig.reshape(test_x_orig.shape[0],-1).T\n",
    "\n",
    "train_x=train_x_faltten/255\n",
    "test_x=test_x_flatten/255\n",
    "\n",
    "print('train_x reshape:'+str(train_x.shape))\n",
    "print('test_x reshape:'+str(test_x.shape))"
   ]
  },
  {
   "cell_type": "markdown",
   "id": "2352fea7",
   "metadata": {},
   "source": [
    "#### L layer deep learning neural network"
   ]
  },
  {
   "cell_type": "code",
   "execution_count": 5,
   "id": "c5d21085",
   "metadata": {},
   "outputs": [],
   "source": [
    "def initialize_parameter_deep(layer_dims):\n",
    "    np.random.seed(3)\n",
    "    parameters={}\n",
    "    L=len(layer_dims)\n",
    "    \n",
    "    for l in range(1,L):\n",
    "        \n",
    "        parameters['W'+str(l)]=np.random.randn(layer_dims[l],layer_dims[l-1])*0.01\n",
    "        parameters['b'+str(l)]=np.zeros([layer_dims[l],1])\n",
    "    return parameters"
   ]
  },
  {
   "cell_type": "code",
   "execution_count": 6,
   "id": "d7a0abdf",
   "metadata": {},
   "outputs": [],
   "source": [
    "layer_dims=[12288,7,5,1] #4 layer NN model"
   ]
  },
  {
   "cell_type": "code",
   "execution_count": 7,
   "id": "c5f248ce",
   "metadata": {},
   "outputs": [],
   "source": [
    "def L_layer_model(X,Y,layer_dims,learning_rate=0.01,num_iterations=3000,print_cost=False):\n",
    "    \n",
    "    np.random.seed(1)\n",
    "    costs=[]\n",
    "    parameters=initialize_parameter_deep(layer_dims)\n",
    "    \n",
    "    \n",
    "    for i in range(0,num_iterations):\n",
    "        AL,caches=L_model_forward(X,parameters)\n",
    "        \n",
    "        cost=compute_cost(AL,Y)\n",
    "        \n",
    "        grads=L_model_backward(AL,Y,caches)\n",
    "        \n",
    "        parameters=update_parameters(parameters,grads,learning_rate)\n",
    "        \n",
    "        if print_cost and i%100==0 or i==num_iterations-1:\n",
    "            print('cost after iterations {}:{}'.format(i,np.squeeze(cost)))\n",
    "            \n",
    "        if i%100==0 or i==0 or i== num_iterations:\n",
    "            costs.append(cost)\n",
    "            \n",
    "    plt.plot(np.squeeze(costs))\n",
    "    plt.ylabel('cost')\n",
    "    plt.xlabel('iterations (per hundreds)')\n",
    "    plt.title('Learning rate='+str(learning_rate))\n",
    "    plt.show()\n",
    "    \n",
    "    return parameters,costs"
   ]
  },
  {
   "cell_type": "code",
   "execution_count": null,
   "id": "f6f5c500",
   "metadata": {},
   "outputs": [
    {
     "name": "stdout",
     "output_type": "stream",
     "text": [
      "cost after iterations 0:0.6931358380812241\n",
      "cost after iterations 100:0.6740838926904343\n",
      "cost after iterations 200:0.6625088917284436\n",
      "cost after iterations 300:0.6554428601058084\n",
      "cost after iterations 400:0.6511047602491876\n",
      "cost after iterations 500:0.6484264231106711\n"
     ]
    }
   ],
   "source": [
    "parameters,costs=L_layer_model(train_x,train_y,layer_dims,num_iterations=2500,print_cost=True)"
   ]
  },
  {
   "cell_type": "code",
   "execution_count": null,
   "id": "32813530",
   "metadata": {},
   "outputs": [],
   "source": [
    "pred_train=predict(train_x,train_y,parameters)"
   ]
  },
  {
   "cell_type": "code",
   "execution_count": null,
   "id": "23ce922a",
   "metadata": {},
   "outputs": [],
   "source": [
    "pred_test=predict(test_x,test_y,parameters)"
   ]
  },
  {
   "cell_type": "code",
   "execution_count": null,
   "id": "cc8a57be",
   "metadata": {},
   "outputs": [],
   "source": []
  }
 ],
 "metadata": {
  "kernelspec": {
   "display_name": "Python 3",
   "language": "python",
   "name": "python3"
  },
  "language_info": {
   "codemirror_mode": {
    "name": "ipython",
    "version": 3
   },
   "file_extension": ".py",
   "mimetype": "text/x-python",
   "name": "python",
   "nbconvert_exporter": "python",
   "pygments_lexer": "ipython3",
   "version": "3.7.10"
  }
 },
 "nbformat": 4,
 "nbformat_minor": 5
}
