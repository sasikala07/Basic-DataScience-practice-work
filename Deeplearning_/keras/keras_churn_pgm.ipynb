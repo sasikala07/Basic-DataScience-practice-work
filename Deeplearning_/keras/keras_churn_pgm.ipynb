{
 "cells": [
  {
   "cell_type": "code",
   "execution_count": 1,
   "id": "9401cd56",
   "metadata": {},
   "outputs": [],
   "source": [
    "import pandas as pd\n",
    "import matplotlib.pyplot as plt\n",
    "import numpy as np"
   ]
  },
  {
   "cell_type": "code",
   "execution_count": 2,
   "id": "3e4e89a9",
   "metadata": {},
   "outputs": [
    {
     "data": {
      "text/html": [
       "<div>\n",
       "<style scoped>\n",
       "    .dataframe tbody tr th:only-of-type {\n",
       "        vertical-align: middle;\n",
       "    }\n",
       "\n",
       "    .dataframe tbody tr th {\n",
       "        vertical-align: top;\n",
       "    }\n",
       "\n",
       "    .dataframe thead th {\n",
       "        text-align: right;\n",
       "    }\n",
       "</style>\n",
       "<table border=\"1\" class=\"dataframe\">\n",
       "  <thead>\n",
       "    <tr style=\"text-align: right;\">\n",
       "      <th></th>\n",
       "      <th>RowNumber</th>\n",
       "      <th>CustomerId</th>\n",
       "      <th>Surname</th>\n",
       "      <th>CreditScore</th>\n",
       "      <th>Geography</th>\n",
       "      <th>Gender</th>\n",
       "      <th>Age</th>\n",
       "      <th>Tenure</th>\n",
       "      <th>Balance</th>\n",
       "      <th>NumOfProducts</th>\n",
       "      <th>HasCrCard</th>\n",
       "      <th>IsActiveMember</th>\n",
       "      <th>EstimatedSalary</th>\n",
       "      <th>Exited</th>\n",
       "    </tr>\n",
       "  </thead>\n",
       "  <tbody>\n",
       "    <tr>\n",
       "      <th>0</th>\n",
       "      <td>1</td>\n",
       "      <td>15634602</td>\n",
       "      <td>Hargrave</td>\n",
       "      <td>619</td>\n",
       "      <td>France</td>\n",
       "      <td>Female</td>\n",
       "      <td>42</td>\n",
       "      <td>2</td>\n",
       "      <td>0.00</td>\n",
       "      <td>1</td>\n",
       "      <td>1</td>\n",
       "      <td>1</td>\n",
       "      <td>101348.88</td>\n",
       "      <td>1</td>\n",
       "    </tr>\n",
       "    <tr>\n",
       "      <th>1</th>\n",
       "      <td>2</td>\n",
       "      <td>15647311</td>\n",
       "      <td>Hill</td>\n",
       "      <td>608</td>\n",
       "      <td>Spain</td>\n",
       "      <td>Female</td>\n",
       "      <td>41</td>\n",
       "      <td>1</td>\n",
       "      <td>83807.86</td>\n",
       "      <td>1</td>\n",
       "      <td>0</td>\n",
       "      <td>1</td>\n",
       "      <td>112542.58</td>\n",
       "      <td>0</td>\n",
       "    </tr>\n",
       "    <tr>\n",
       "      <th>2</th>\n",
       "      <td>3</td>\n",
       "      <td>15619304</td>\n",
       "      <td>Onio</td>\n",
       "      <td>502</td>\n",
       "      <td>France</td>\n",
       "      <td>Female</td>\n",
       "      <td>42</td>\n",
       "      <td>8</td>\n",
       "      <td>159660.80</td>\n",
       "      <td>3</td>\n",
       "      <td>1</td>\n",
       "      <td>0</td>\n",
       "      <td>113931.57</td>\n",
       "      <td>1</td>\n",
       "    </tr>\n",
       "    <tr>\n",
       "      <th>3</th>\n",
       "      <td>4</td>\n",
       "      <td>15701354</td>\n",
       "      <td>Boni</td>\n",
       "      <td>699</td>\n",
       "      <td>France</td>\n",
       "      <td>Female</td>\n",
       "      <td>39</td>\n",
       "      <td>1</td>\n",
       "      <td>0.00</td>\n",
       "      <td>2</td>\n",
       "      <td>0</td>\n",
       "      <td>0</td>\n",
       "      <td>93826.63</td>\n",
       "      <td>0</td>\n",
       "    </tr>\n",
       "    <tr>\n",
       "      <th>4</th>\n",
       "      <td>5</td>\n",
       "      <td>15737888</td>\n",
       "      <td>Mitchell</td>\n",
       "      <td>850</td>\n",
       "      <td>Spain</td>\n",
       "      <td>Female</td>\n",
       "      <td>43</td>\n",
       "      <td>2</td>\n",
       "      <td>125510.82</td>\n",
       "      <td>1</td>\n",
       "      <td>1</td>\n",
       "      <td>1</td>\n",
       "      <td>79084.10</td>\n",
       "      <td>0</td>\n",
       "    </tr>\n",
       "  </tbody>\n",
       "</table>\n",
       "</div>"
      ],
      "text/plain": [
       "   RowNumber  CustomerId   Surname  CreditScore Geography  Gender  Age  \\\n",
       "0          1    15634602  Hargrave          619    France  Female   42   \n",
       "1          2    15647311      Hill          608     Spain  Female   41   \n",
       "2          3    15619304      Onio          502    France  Female   42   \n",
       "3          4    15701354      Boni          699    France  Female   39   \n",
       "4          5    15737888  Mitchell          850     Spain  Female   43   \n",
       "\n",
       "   Tenure    Balance  NumOfProducts  HasCrCard  IsActiveMember  \\\n",
       "0       2       0.00              1          1               1   \n",
       "1       1   83807.86              1          0               1   \n",
       "2       8  159660.80              3          1               0   \n",
       "3       1       0.00              2          0               0   \n",
       "4       2  125510.82              1          1               1   \n",
       "\n",
       "   EstimatedSalary  Exited  \n",
       "0        101348.88       1  \n",
       "1        112542.58       0  \n",
       "2        113931.57       1  \n",
       "3         93826.63       0  \n",
       "4         79084.10       0  "
      ]
     },
     "execution_count": 2,
     "metadata": {},
     "output_type": "execute_result"
    }
   ],
   "source": [
    "df=pd.read_csv('Churn_Modelling.csv')\n",
    "df.head()"
   ]
  },
  {
   "cell_type": "code",
   "execution_count": 3,
   "id": "1c089b69",
   "metadata": {},
   "outputs": [
    {
     "name": "stdout",
     "output_type": "stream",
     "text": [
      "<class 'pandas.core.frame.DataFrame'>\n",
      "RangeIndex: 10000 entries, 0 to 9999\n",
      "Data columns (total 14 columns):\n",
      " #   Column           Non-Null Count  Dtype  \n",
      "---  ------           --------------  -----  \n",
      " 0   RowNumber        10000 non-null  int64  \n",
      " 1   CustomerId       10000 non-null  int64  \n",
      " 2   Surname          10000 non-null  object \n",
      " 3   CreditScore      10000 non-null  int64  \n",
      " 4   Geography        10000 non-null  object \n",
      " 5   Gender           10000 non-null  object \n",
      " 6   Age              10000 non-null  int64  \n",
      " 7   Tenure           10000 non-null  int64  \n",
      " 8   Balance          10000 non-null  float64\n",
      " 9   NumOfProducts    10000 non-null  int64  \n",
      " 10  HasCrCard        10000 non-null  int64  \n",
      " 11  IsActiveMember   10000 non-null  int64  \n",
      " 12  EstimatedSalary  10000 non-null  float64\n",
      " 13  Exited           10000 non-null  int64  \n",
      "dtypes: float64(2), int64(9), object(3)\n",
      "memory usage: 1.1+ MB\n"
     ]
    }
   ],
   "source": [
    "df.info()"
   ]
  },
  {
   "cell_type": "code",
   "execution_count": 4,
   "id": "80a05642",
   "metadata": {},
   "outputs": [
    {
     "data": {
      "text/plain": [
       "(10000, 14)"
      ]
     },
     "execution_count": 4,
     "metadata": {},
     "output_type": "execute_result"
    }
   ],
   "source": [
    "df.shape"
   ]
  },
  {
   "cell_type": "code",
   "execution_count": 5,
   "id": "de0c0651",
   "metadata": {},
   "outputs": [
    {
     "data": {
      "text/plain": [
       "RowNumber          0\n",
       "CustomerId         0\n",
       "Surname            0\n",
       "CreditScore        0\n",
       "Geography          0\n",
       "Gender             0\n",
       "Age                0\n",
       "Tenure             0\n",
       "Balance            0\n",
       "NumOfProducts      0\n",
       "HasCrCard          0\n",
       "IsActiveMember     0\n",
       "EstimatedSalary    0\n",
       "Exited             0\n",
       "dtype: int64"
      ]
     },
     "execution_count": 5,
     "metadata": {},
     "output_type": "execute_result"
    }
   ],
   "source": [
    "df.isnull().sum()"
   ]
  },
  {
   "cell_type": "code",
   "execution_count": 6,
   "id": "48ab83a2",
   "metadata": {},
   "outputs": [
    {
     "data": {
      "text/plain": [
       "Index(['RowNumber', 'CustomerId', 'Surname', 'CreditScore', 'Geography',\n",
       "       'Gender', 'Age', 'Tenure', 'Balance', 'NumOfProducts', 'HasCrCard',\n",
       "       'IsActiveMember', 'EstimatedSalary', 'Exited'],\n",
       "      dtype='object')"
      ]
     },
     "execution_count": 6,
     "metadata": {},
     "output_type": "execute_result"
    }
   ],
   "source": [
    "df.columns"
   ]
  },
  {
   "cell_type": "code",
   "execution_count": 7,
   "id": "74def7c4",
   "metadata": {},
   "outputs": [
    {
     "data": {
      "text/html": [
       "<div>\n",
       "<style scoped>\n",
       "    .dataframe tbody tr th:only-of-type {\n",
       "        vertical-align: middle;\n",
       "    }\n",
       "\n",
       "    .dataframe tbody tr th {\n",
       "        vertical-align: top;\n",
       "    }\n",
       "\n",
       "    .dataframe thead th {\n",
       "        text-align: right;\n",
       "    }\n",
       "</style>\n",
       "<table border=\"1\" class=\"dataframe\">\n",
       "  <thead>\n",
       "    <tr style=\"text-align: right;\">\n",
       "      <th></th>\n",
       "      <th>CreditScore</th>\n",
       "      <th>Geography</th>\n",
       "      <th>Gender</th>\n",
       "      <th>Age</th>\n",
       "      <th>Tenure</th>\n",
       "      <th>Balance</th>\n",
       "      <th>NumOfProducts</th>\n",
       "      <th>HasCrCard</th>\n",
       "      <th>IsActiveMember</th>\n",
       "      <th>EstimatedSalary</th>\n",
       "      <th>Exited</th>\n",
       "    </tr>\n",
       "  </thead>\n",
       "  <tbody>\n",
       "    <tr>\n",
       "      <th>0</th>\n",
       "      <td>619</td>\n",
       "      <td>France</td>\n",
       "      <td>Female</td>\n",
       "      <td>42</td>\n",
       "      <td>2</td>\n",
       "      <td>0.00</td>\n",
       "      <td>1</td>\n",
       "      <td>1</td>\n",
       "      <td>1</td>\n",
       "      <td>101348.88</td>\n",
       "      <td>1</td>\n",
       "    </tr>\n",
       "    <tr>\n",
       "      <th>1</th>\n",
       "      <td>608</td>\n",
       "      <td>Spain</td>\n",
       "      <td>Female</td>\n",
       "      <td>41</td>\n",
       "      <td>1</td>\n",
       "      <td>83807.86</td>\n",
       "      <td>1</td>\n",
       "      <td>0</td>\n",
       "      <td>1</td>\n",
       "      <td>112542.58</td>\n",
       "      <td>0</td>\n",
       "    </tr>\n",
       "    <tr>\n",
       "      <th>2</th>\n",
       "      <td>502</td>\n",
       "      <td>France</td>\n",
       "      <td>Female</td>\n",
       "      <td>42</td>\n",
       "      <td>8</td>\n",
       "      <td>159660.80</td>\n",
       "      <td>3</td>\n",
       "      <td>1</td>\n",
       "      <td>0</td>\n",
       "      <td>113931.57</td>\n",
       "      <td>1</td>\n",
       "    </tr>\n",
       "    <tr>\n",
       "      <th>3</th>\n",
       "      <td>699</td>\n",
       "      <td>France</td>\n",
       "      <td>Female</td>\n",
       "      <td>39</td>\n",
       "      <td>1</td>\n",
       "      <td>0.00</td>\n",
       "      <td>2</td>\n",
       "      <td>0</td>\n",
       "      <td>0</td>\n",
       "      <td>93826.63</td>\n",
       "      <td>0</td>\n",
       "    </tr>\n",
       "    <tr>\n",
       "      <th>4</th>\n",
       "      <td>850</td>\n",
       "      <td>Spain</td>\n",
       "      <td>Female</td>\n",
       "      <td>43</td>\n",
       "      <td>2</td>\n",
       "      <td>125510.82</td>\n",
       "      <td>1</td>\n",
       "      <td>1</td>\n",
       "      <td>1</td>\n",
       "      <td>79084.10</td>\n",
       "      <td>0</td>\n",
       "    </tr>\n",
       "  </tbody>\n",
       "</table>\n",
       "</div>"
      ],
      "text/plain": [
       "   CreditScore Geography  Gender  Age  Tenure    Balance  NumOfProducts  \\\n",
       "0          619    France  Female   42       2       0.00              1   \n",
       "1          608     Spain  Female   41       1   83807.86              1   \n",
       "2          502    France  Female   42       8  159660.80              3   \n",
       "3          699    France  Female   39       1       0.00              2   \n",
       "4          850     Spain  Female   43       2  125510.82              1   \n",
       "\n",
       "   HasCrCard  IsActiveMember  EstimatedSalary  Exited  \n",
       "0          1               1        101348.88       1  \n",
       "1          0               1        112542.58       0  \n",
       "2          1               0        113931.57       1  \n",
       "3          0               0         93826.63       0  \n",
       "4          1               1         79084.10       0  "
      ]
     },
     "execution_count": 7,
     "metadata": {},
     "output_type": "execute_result"
    }
   ],
   "source": [
    "data=pd.read_csv('Churn_Modelling.csv',usecols=['CreditScore','Geography',\n",
    "       'Gender','Age','Tenure','Balance','NumOfProducts','HasCrCard',\n",
    "       'IsActiveMember','EstimatedSalary','Exited'])\n",
    "data.head()"
   ]
  },
  {
   "cell_type": "code",
   "execution_count": 8,
   "id": "57d631df",
   "metadata": {},
   "outputs": [
    {
     "data": {
      "text/plain": [
       "<AxesSubplot:xlabel='Gender', ylabel='count'>"
      ]
     },
     "execution_count": 8,
     "metadata": {},
     "output_type": "execute_result"
    },
    {
     "data": {
      "image/png": "[encoded data removed]",
      "text/plain": [
       "<Figure size 432x288 with 1 Axes>"
      ]
     },
     "metadata": {
      "needs_background": "light"
     },
     "output_type": "display_data"
    }
   ],
   "source": [
    "import seaborn as sns\n",
    "\n",
    "sns.countplot(x='Gender',data=data)"
   ]
  },
  {
   "cell_type": "code",
   "execution_count": 9,
   "id": "f21487db",
   "metadata": {},
   "outputs": [
    {
     "data": {
      "text/plain": [
       "<AxesSubplot:xlabel='Geography', ylabel='count'>"
      ]
     },
     "execution_count": 9,
     "metadata": {},
     "output_type": "execute_result"
    },
    {
     "data": {
      "image/png": "[encoded data removed]",
      "text/plain": [
       "<Figure size 432x288 with 1 Axes>"
      ]
     },
     "metadata": {
      "needs_background": "light"
     },
     "output_type": "display_data"
    }
   ],
   "source": [
    "sns.countplot(hue='Gender',x='Geography',data=data)"
   ]
  },
  {
   "cell_type": "code",
   "execution_count": 10,
   "id": "de8ae99a",
   "metadata": {},
   "outputs": [
    {
     "data": {
      "text/plain": [
       "<AxesSubplot:xlabel='EstimatedSalary', ylabel='count'>"
      ]
     },
     "execution_count": 10,
     "metadata": {},
     "output_type": "execute_result"
    },
    {
     "data": {
      "image/png": "[encoded data removed]",
      "text/plain": [
       "<Figure size 1440x720 with 1 Axes>"
      ]
     },
     "metadata": {
      "needs_background": "light"
     },
     "output_type": "display_data"
    }
   ],
   "source": [
    "plt.figure(figsize=(20,10))\n",
    "sns.countplot(hue='Gender',x='EstimatedSalary',data=data,order=data['EstimatedSalary'].value_counts().index[0:20])\n"
   ]
  },
  {
   "cell_type": "code",
   "execution_count": null,
   "id": "b112d4b0",
   "metadata": {},
   "outputs": [],
   "source": []
  },
  {
   "cell_type": "code",
   "execution_count": 11,
   "id": "c062e1fc",
   "metadata": {},
   "outputs": [
    {
     "data": {
      "text/plain": [
       "((10000, 10), (10000,))"
      ]
     },
     "execution_count": 11,
     "metadata": {},
     "output_type": "execute_result"
    }
   ],
   "source": [
    "x=data.drop(['Exited'],axis=1)\n",
    "y=data['Exited']\n",
    "\n",
    "\n",
    "x.shape,y.shape"
   ]
  },
  {
   "cell_type": "code",
   "execution_count": 12,
   "id": "90dec857",
   "metadata": {},
   "outputs": [
    {
     "data": {
      "text/html": [
       "<div>\n",
       "<style scoped>\n",
       "    .dataframe tbody tr th:only-of-type {\n",
       "        vertical-align: middle;\n",
       "    }\n",
       "\n",
       "    .dataframe tbody tr th {\n",
       "        vertical-align: top;\n",
       "    }\n",
       "\n",
       "    .dataframe thead th {\n",
       "        text-align: right;\n",
       "    }\n",
       "</style>\n",
       "<table border=\"1\" class=\"dataframe\">\n",
       "  <thead>\n",
       "    <tr style=\"text-align: right;\">\n",
       "      <th></th>\n",
       "      <th>Germany</th>\n",
       "      <th>Spain</th>\n",
       "    </tr>\n",
       "  </thead>\n",
       "  <tbody>\n",
       "    <tr>\n",
       "      <th>0</th>\n",
       "      <td>0</td>\n",
       "      <td>0</td>\n",
       "    </tr>\n",
       "    <tr>\n",
       "      <th>1</th>\n",
       "      <td>0</td>\n",
       "      <td>1</td>\n",
       "    </tr>\n",
       "    <tr>\n",
       "      <th>2</th>\n",
       "      <td>0</td>\n",
       "      <td>0</td>\n",
       "    </tr>\n",
       "    <tr>\n",
       "      <th>3</th>\n",
       "      <td>0</td>\n",
       "      <td>0</td>\n",
       "    </tr>\n",
       "    <tr>\n",
       "      <th>4</th>\n",
       "      <td>0</td>\n",
       "      <td>1</td>\n",
       "    </tr>\n",
       "  </tbody>\n",
       "</table>\n",
       "</div>"
      ],
      "text/plain": [
       "   Germany  Spain\n",
       "0        0      0\n",
       "1        0      1\n",
       "2        0      0\n",
       "3        0      0\n",
       "4        0      1"
      ]
     },
     "execution_count": 12,
     "metadata": {},
     "output_type": "execute_result"
    }
   ],
   "source": [
    "geography=pd.get_dummies(x['Geography'],drop_first=True)\n",
    "\n",
    "\n",
    "geography.head()"
   ]
  },
  {
   "cell_type": "code",
   "execution_count": 13,
   "id": "de07f218",
   "metadata": {},
   "outputs": [
    {
     "data": {
      "text/html": [
       "<div>\n",
       "<style scoped>\n",
       "    .dataframe tbody tr th:only-of-type {\n",
       "        vertical-align: middle;\n",
       "    }\n",
       "\n",
       "    .dataframe tbody tr th {\n",
       "        vertical-align: top;\n",
       "    }\n",
       "\n",
       "    .dataframe thead th {\n",
       "        text-align: right;\n",
       "    }\n",
       "</style>\n",
       "<table border=\"1\" class=\"dataframe\">\n",
       "  <thead>\n",
       "    <tr style=\"text-align: right;\">\n",
       "      <th></th>\n",
       "      <th>Male</th>\n",
       "    </tr>\n",
       "  </thead>\n",
       "  <tbody>\n",
       "    <tr>\n",
       "      <th>0</th>\n",
       "      <td>0</td>\n",
       "    </tr>\n",
       "    <tr>\n",
       "      <th>1</th>\n",
       "      <td>0</td>\n",
       "    </tr>\n",
       "    <tr>\n",
       "      <th>2</th>\n",
       "      <td>0</td>\n",
       "    </tr>\n",
       "    <tr>\n",
       "      <th>3</th>\n",
       "      <td>0</td>\n",
       "    </tr>\n",
       "    <tr>\n",
       "      <th>4</th>\n",
       "      <td>0</td>\n",
       "    </tr>\n",
       "  </tbody>\n",
       "</table>\n",
       "</div>"
      ],
      "text/plain": [
       "   Male\n",
       "0     0\n",
       "1     0\n",
       "2     0\n",
       "3     0\n",
       "4     0"
      ]
     },
     "execution_count": 13,
     "metadata": {},
     "output_type": "execute_result"
    }
   ],
   "source": [
    "gender=pd.get_dummies(x['Gender'],drop_first=True)\n",
    "gender.head()"
   ]
  },
  {
   "cell_type": "code",
   "execution_count": 14,
   "id": "68630b31",
   "metadata": {},
   "outputs": [
    {
     "data": {
      "text/html": [
       "<div>\n",
       "<style scoped>\n",
       "    .dataframe tbody tr th:only-of-type {\n",
       "        vertical-align: middle;\n",
       "    }\n",
       "\n",
       "    .dataframe tbody tr th {\n",
       "        vertical-align: top;\n",
       "    }\n",
       "\n",
       "    .dataframe thead th {\n",
       "        text-align: right;\n",
       "    }\n",
       "</style>\n",
       "<table border=\"1\" class=\"dataframe\">\n",
       "  <thead>\n",
       "    <tr style=\"text-align: right;\">\n",
       "      <th></th>\n",
       "      <th>CreditScore</th>\n",
       "      <th>Age</th>\n",
       "      <th>Tenure</th>\n",
       "      <th>Balance</th>\n",
       "      <th>NumOfProducts</th>\n",
       "      <th>HasCrCard</th>\n",
       "      <th>IsActiveMember</th>\n",
       "      <th>EstimatedSalary</th>\n",
       "      <th>Exited</th>\n",
       "      <th>Germany</th>\n",
       "      <th>Spain</th>\n",
       "      <th>Male</th>\n",
       "    </tr>\n",
       "  </thead>\n",
       "  <tbody>\n",
       "    <tr>\n",
       "      <th>0</th>\n",
       "      <td>619</td>\n",
       "      <td>42</td>\n",
       "      <td>2</td>\n",
       "      <td>0.00</td>\n",
       "      <td>1</td>\n",
       "      <td>1</td>\n",
       "      <td>1</td>\n",
       "      <td>101348.88</td>\n",
       "      <td>1</td>\n",
       "      <td>0</td>\n",
       "      <td>0</td>\n",
       "      <td>0</td>\n",
       "    </tr>\n",
       "    <tr>\n",
       "      <th>1</th>\n",
       "      <td>608</td>\n",
       "      <td>41</td>\n",
       "      <td>1</td>\n",
       "      <td>83807.86</td>\n",
       "      <td>1</td>\n",
       "      <td>0</td>\n",
       "      <td>1</td>\n",
       "      <td>112542.58</td>\n",
       "      <td>0</td>\n",
       "      <td>0</td>\n",
       "      <td>1</td>\n",
       "      <td>0</td>\n",
       "    </tr>\n",
       "    <tr>\n",
       "      <th>2</th>\n",
       "      <td>502</td>\n",
       "      <td>42</td>\n",
       "      <td>8</td>\n",
       "      <td>159660.80</td>\n",
       "      <td>3</td>\n",
       "      <td>1</td>\n",
       "      <td>0</td>\n",
       "      <td>113931.57</td>\n",
       "      <td>1</td>\n",
       "      <td>0</td>\n",
       "      <td>0</td>\n",
       "      <td>0</td>\n",
       "    </tr>\n",
       "    <tr>\n",
       "      <th>3</th>\n",
       "      <td>699</td>\n",
       "      <td>39</td>\n",
       "      <td>1</td>\n",
       "      <td>0.00</td>\n",
       "      <td>2</td>\n",
       "      <td>0</td>\n",
       "      <td>0</td>\n",
       "      <td>93826.63</td>\n",
       "      <td>0</td>\n",
       "      <td>0</td>\n",
       "      <td>0</td>\n",
       "      <td>0</td>\n",
       "    </tr>\n",
       "    <tr>\n",
       "      <th>4</th>\n",
       "      <td>850</td>\n",
       "      <td>43</td>\n",
       "      <td>2</td>\n",
       "      <td>125510.82</td>\n",
       "      <td>1</td>\n",
       "      <td>1</td>\n",
       "      <td>1</td>\n",
       "      <td>79084.10</td>\n",
       "      <td>0</td>\n",
       "      <td>0</td>\n",
       "      <td>1</td>\n",
       "      <td>0</td>\n",
       "    </tr>\n",
       "  </tbody>\n",
       "</table>\n",
       "</div>"
      ],
      "text/plain": [
       "   CreditScore  Age  Tenure    Balance  NumOfProducts  HasCrCard  \\\n",
       "0          619   42       2       0.00              1          1   \n",
       "1          608   41       1   83807.86              1          0   \n",
       "2          502   42       8  159660.80              3          1   \n",
       "3          699   39       1       0.00              2          0   \n",
       "4          850   43       2  125510.82              1          1   \n",
       "\n",
       "   IsActiveMember  EstimatedSalary  Exited  Germany  Spain  Male  \n",
       "0               1        101348.88       1        0      0     0  \n",
       "1               1        112542.58       0        0      1     0  \n",
       "2               0        113931.57       1        0      0     0  \n",
       "3               0         93826.63       0        0      0     0  \n",
       "4               1         79084.10       0        0      1     0  "
      ]
     },
     "execution_count": 14,
     "metadata": {},
     "output_type": "execute_result"
    }
   ],
   "source": [
    "x=pd.concat([data,geography,gender],axis=1)\n",
    "x=x.drop(['Geography','Gender'],axis=1)\n",
    "x.head()\n"
   ]
  },
  {
   "cell_type": "code",
   "execution_count": 15,
   "id": "a526bd63",
   "metadata": {},
   "outputs": [
    {
     "data": {
      "text/plain": [
       "array([[-0.32622142,  0.29351742, -1.04175968, ..., -0.57873591,\n",
       "        -0.57380915, -1.09598752],\n",
       "       [-0.44003595,  0.19816383, -1.38753759, ..., -0.57873591,\n",
       "         1.74273971, -1.09598752],\n",
       "       [-1.53679418,  0.29351742,  1.03290776, ..., -0.57873591,\n",
       "        -0.57380915, -1.09598752],\n",
       "       ...,\n",
       "       [ 0.60498839, -0.27860412,  0.68712986, ..., -0.57873591,\n",
       "        -0.57380915, -1.09598752],\n",
       "       [ 1.25683526,  0.29351742, -0.69598177, ...,  1.72790383,\n",
       "        -0.57380915,  0.91241915],\n",
       "       [ 1.46377078, -1.04143285, -0.35020386, ..., -0.57873591,\n",
       "        -0.57380915, -1.09598752]])"
      ]
     },
     "execution_count": 15,
     "metadata": {},
     "output_type": "execute_result"
    }
   ],
   "source": [
    "from sklearn.preprocessing import StandardScaler\n",
    "st=StandardScaler()\n",
    "X=st.fit_transform(x)\n",
    "X"
   ]
  },
  {
   "cell_type": "code",
   "execution_count": 16,
   "id": "4682f4d0",
   "metadata": {},
   "outputs": [
    {
     "data": {
      "text/plain": [
       "((2000, 12), (2000,))"
      ]
     },
     "execution_count": 16,
     "metadata": {},
     "output_type": "execute_result"
    }
   ],
   "source": [
    "from sklearn.model_selection import train_test_split\n",
    "\n",
    "\n",
    "xtrain,xtest,ytrain,ytest=train_test_split(X,y,test_size=0.2,random_state=42)\n",
    "\n",
    "xtest.shape,ytest.shape"
   ]
  },
  {
   "cell_type": "code",
   "execution_count": 17,
   "id": "f32fa5ca",
   "metadata": {},
   "outputs": [],
   "source": [
    "# from sklearn.preprocessing import StandardScaler\n",
    "# st=StandardScaler()\n",
    "# x_train=st.fit_transform(xtrain)\n",
    "# x_test=st.fit_transform(xtest)"
   ]
  },
  {
   "cell_type": "code",
   "execution_count": 18,
   "id": "bbd331eb",
   "metadata": {},
   "outputs": [],
   "source": [
    "# pip install keras"
   ]
  },
  {
   "cell_type": "code",
   "execution_count": 19,
   "id": "2fa87be1",
   "metadata": {},
   "outputs": [],
   "source": [
    "\n",
    "from tensorflow import keras\n",
    "from tensorflow.keras import Sequential\n",
    "from tensorflow.keras.layers import Dense,Dropout"
   ]
  },
  {
   "cell_type": "code",
   "execution_count": 20,
   "id": "611e2710",
   "metadata": {},
   "outputs": [
    {
     "data": {
      "text/plain": [
       "((8000, 12), (8000,))"
      ]
     },
     "execution_count": 20,
     "metadata": {},
     "output_type": "execute_result"
    }
   ],
   "source": [
    "xtrain.shape,ytrain.shape"
   ]
  },
  {
   "cell_type": "code",
   "execution_count": 21,
   "id": "df578e29",
   "metadata": {},
   "outputs": [
    {
     "name": "stdout",
     "output_type": "stream",
     "text": [
      "Epoch 1/100\n",
      "536/536 [==============================] - 1s 2ms/step - loss: 0.5075 - accuracy: 0.7776 - val_loss: 0.2376 - val_accuracy: 0.9576\n",
      "Epoch 2/100\n",
      "536/536 [==============================] - 1s 1ms/step - loss: 0.0942 - accuracy: 0.9903 - val_loss: 0.0245 - val_accuracy: 1.0000\n",
      "Epoch 3/100\n",
      "536/536 [==============================] - 1s 1ms/step - loss: 0.0118 - accuracy: 1.0000 - val_loss: 0.0057 - val_accuracy: 1.0000\n",
      "Epoch 4/100\n",
      "536/536 [==============================] - 1s 1ms/step - loss: 0.0033 - accuracy: 1.0000 - val_loss: 0.0021 - val_accuracy: 1.0000\n",
      "Epoch 5/100\n",
      "536/536 [==============================] - 1s 1ms/step - loss: 0.0014 - accuracy: 1.0000 - val_loss: 9.9849e-04 - val_accuracy: 1.0000\n",
      "Epoch 6/100\n",
      "536/536 [==============================] - 1s 1ms/step - loss: 7.2909e-04 - accuracy: 1.0000 - val_loss: 5.4012e-04 - val_accuracy: 1.0000\n",
      "Epoch 7/100\n",
      "536/536 [==============================] - 1s 1ms/step - loss: 4.0817e-04 - accuracy: 1.0000 - val_loss: 3.1403e-04 - val_accuracy: 1.0000\n",
      "Epoch 8/100\n",
      "536/536 [==============================] - 1s 1ms/step - loss: 2.4103e-04 - accuracy: 1.0000 - val_loss: 1.9037e-04 - val_accuracy: 1.0000\n",
      "Epoch 9/100\n",
      "536/536 [==============================] - 1s 1ms/step - loss: 1.5083e-04 - accuracy: 1.0000 - val_loss: 1.2153e-04 - val_accuracy: 1.0000\n",
      "Epoch 10/100\n",
      "536/536 [==============================] - 1s 1ms/step - loss: 9.7901e-05 - accuracy: 1.0000 - val_loss: 7.9268e-05 - val_accuracy: 1.0000\n",
      "Epoch 11/100\n",
      "536/536 [==============================] - 1s 1ms/step - loss: 6.4402e-05 - accuracy: 1.0000 - val_loss: 5.2366e-05 - val_accuracy: 1.0000\n",
      "Epoch 12/100\n",
      "536/536 [==============================] - 1s 1ms/step - loss: 4.3005e-05 - accuracy: 1.0000 - val_loss: 3.5623e-05 - val_accuracy: 1.0000\n",
      "Epoch 13/100\n",
      "536/536 [==============================] - 1s 1ms/step - loss: 2.9325e-05 - accuracy: 1.0000 - val_loss: 2.4694e-05 - val_accuracy: 1.0000\n",
      "Epoch 14/100\n",
      "536/536 [==============================] - 1s 1ms/step - loss: 2.0390e-05 - accuracy: 1.0000 - val_loss: 1.7393e-05 - val_accuracy: 1.0000\n",
      "Epoch 15/100\n",
      "536/536 [==============================] - 1s 1ms/step - loss: 1.4406e-05 - accuracy: 1.0000 - val_loss: 1.2427e-05 - val_accuracy: 1.0000\n",
      "Epoch 16/100\n",
      "536/536 [==============================] - 1s 1ms/step - loss: 1.0282e-05 - accuracy: 1.0000 - val_loss: 8.8928e-06 - val_accuracy: 1.0000\n",
      "Epoch 17/100\n",
      "536/536 [==============================] - 1s 1ms/step - loss: 7.3990e-06 - accuracy: 1.0000 - val_loss: 6.4293e-06 - val_accuracy: 1.0000\n",
      "Epoch 18/100\n",
      "536/536 [==============================] - 1s 1ms/step - loss: 5.3663e-06 - accuracy: 1.0000 - val_loss: 4.6871e-06 - val_accuracy: 1.0000\n",
      "Epoch 19/100\n",
      "536/536 [==============================] - 1s 1ms/step - loss: 3.9097e-06 - accuracy: 1.0000 - val_loss: 3.4275e-06 - val_accuracy: 1.0000\n",
      "Epoch 20/100\n",
      "536/536 [==============================] - 1s 1ms/step - loss: 2.8605e-06 - accuracy: 1.0000 - val_loss: 2.5151e-06 - val_accuracy: 1.0000\n",
      "Epoch 21/100\n",
      "536/536 [==============================] - 1s 1ms/step - loss: 2.1029e-06 - accuracy: 1.0000 - val_loss: 1.8555e-06 - val_accuracy: 1.0000\n",
      "Epoch 22/100\n",
      "536/536 [==============================] - 1s 1ms/step - loss: 1.5505e-06 - accuracy: 1.0000 - val_loss: 1.3688e-06 - val_accuracy: 1.0000\n",
      "Epoch 23/100\n",
      "536/536 [==============================] - 1s 1ms/step - loss: 1.1455e-06 - accuracy: 1.0000 - val_loss: 1.0125e-06 - val_accuracy: 1.0000\n",
      "Epoch 24/100\n",
      "536/536 [==============================] - 1s 1ms/step - loss: 8.4676e-07 - accuracy: 1.0000 - val_loss: 7.5008e-07 - val_accuracy: 1.0000\n",
      "Epoch 25/100\n",
      "536/536 [==============================] - 1s 2ms/step - loss: 6.2686e-07 - accuracy: 1.0000 - val_loss: 5.5681e-07 - val_accuracy: 1.0000\n",
      "Epoch 26/100\n",
      "536/536 [==============================] - 1s 1ms/step - loss: 4.6486e-07 - accuracy: 1.0000 - val_loss: 4.1354e-07 - val_accuracy: 1.0000\n",
      "Epoch 27/100\n",
      "536/536 [==============================] - 1s 2ms/step - loss: 3.4507e-07 - accuracy: 1.0000 - val_loss: 3.0792e-07 - val_accuracy: 1.0000\n",
      "Epoch 28/100\n",
      "536/536 [==============================] - 1s 2ms/step - loss: 2.5641e-07 - accuracy: 1.0000 - val_loss: 2.2901e-07 - val_accuracy: 1.0000\n",
      "Epoch 29/100\n",
      "536/536 [==============================] - 1s 2ms/step - loss: 1.9064e-07 - accuracy: 1.0000 - val_loss: 1.7085e-07 - val_accuracy: 1.0000\n",
      "Epoch 30/100\n",
      "536/536 [==============================] - 1s 2ms/step - loss: 1.4198e-07 - accuracy: 1.0000 - val_loss: 1.2740e-07 - val_accuracy: 1.0000\n",
      "Epoch 31/100\n",
      "536/536 [==============================] - 1s 1ms/step - loss: 1.0593e-07 - accuracy: 1.0000 - val_loss: 9.5223e-08 - val_accuracy: 1.0000\n",
      "Epoch 32/100\n",
      "536/536 [==============================] - 1s 1ms/step - loss: 7.9140e-08 - accuracy: 1.0000 - val_loss: 7.1337e-08 - val_accuracy: 1.0000\n",
      "Epoch 33/100\n",
      "536/536 [==============================] - 1s 1ms/step - loss: 5.9292e-08 - accuracy: 1.0000 - val_loss: 5.3588e-08 - val_accuracy: 1.0000\n",
      "Epoch 34/100\n",
      "536/536 [==============================] - 1s 1ms/step - loss: 4.4551e-08 - accuracy: 1.0000 - val_loss: 4.0334e-08 - val_accuracy: 1.0000\n",
      "Epoch 35/100\n",
      "536/536 [==============================] - 1s 1ms/step - loss: 3.3541e-08 - accuracy: 1.0000 - val_loss: 3.0402e-08 - val_accuracy: 1.0000\n",
      "Epoch 36/100\n",
      "536/536 [==============================] - 1s 1ms/step - loss: 2.5301e-08 - accuracy: 1.0000 - val_loss: 2.3067e-08 - val_accuracy: 1.0000\n",
      "Epoch 37/100\n",
      "536/536 [==============================] - 1s 1ms/step - loss: 1.9216e-08 - accuracy: 1.0000 - val_loss: 1.7583e-08 - val_accuracy: 1.0000\n",
      "Epoch 38/100\n",
      "536/536 [==============================] - 1s 1ms/step - loss: 1.4678e-08 - accuracy: 1.0000 - val_loss: 1.3482e-08 - val_accuracy: 1.0000\n",
      "Epoch 39/100\n",
      "536/536 [==============================] - 1s 1ms/step - loss: 1.1260e-08 - accuracy: 1.0000 - val_loss: 1.0433e-08 - val_accuracy: 1.0000\n",
      "Epoch 40/100\n",
      "536/536 [==============================] - 1s 1ms/step - loss: 8.7014e-09 - accuracy: 1.0000 - val_loss: 8.0876e-09 - val_accuracy: 1.0000\n",
      "Epoch 41/100\n",
      "536/536 [==============================] - 1s 2ms/step - loss: 6.7487e-09 - accuracy: 1.0000 - val_loss: 6.3275e-09 - val_accuracy: 1.0000\n",
      "Epoch 42/100\n",
      "536/536 [==============================] - 1s 1ms/step - loss: 5.3023e-09 - accuracy: 1.0000 - val_loss: 4.9751e-09 - val_accuracy: 1.0000\n",
      "Epoch 43/100\n",
      "536/536 [==============================] - 1s 2ms/step - loss: 4.1674e-09 - accuracy: 1.0000 - val_loss: 3.9457e-09 - val_accuracy: 1.0000\n",
      "Epoch 44/100\n",
      "536/536 [==============================] - 1s 1ms/step - loss: 3.3087e-09 - accuracy: 1.0000 - val_loss: 3.1963e-09 - val_accuracy: 1.0000\n",
      "Epoch 45/100\n",
      "536/536 [==============================] - 1s 1ms/step - loss: 2.6744e-09 - accuracy: 1.0000 - val_loss: 2.6093e-09 - val_accuracy: 1.0000\n",
      "Epoch 46/100\n",
      "536/536 [==============================] - 1s 1ms/step - loss: 2.2136e-09 - accuracy: 1.0000 - val_loss: 2.1755e-09 - val_accuracy: 1.0000\n",
      "Epoch 47/100\n",
      "536/536 [==============================] - 1s 1ms/step - loss: 1.8413e-09 - accuracy: 1.0000 - val_loss: 1.8408e-09 - val_accuracy: 1.0000\n",
      "Epoch 48/100\n",
      "536/536 [==============================] - 1s 1ms/step - loss: 1.5691e-09 - accuracy: 1.0000 - val_loss: 1.5516e-09 - val_accuracy: 1.0000\n",
      "Epoch 49/100\n",
      "536/536 [==============================] - 1s 1ms/step - loss: 1.3106e-09 - accuracy: 1.0000 - val_loss: 1.3189e-09 - val_accuracy: 1.0000\n",
      "Epoch 50/100\n",
      "536/536 [==============================] - 1s 1ms/step - loss: 1.1465e-09 - accuracy: 1.0000 - val_loss: 1.1326e-09 - val_accuracy: 1.0000\n",
      "Epoch 51/100\n",
      "536/536 [==============================] - 1s 1ms/step - loss: 9.8713e-10 - accuracy: 1.0000 - val_loss: 1.0049e-09 - val_accuracy: 1.0000\n",
      "Epoch 52/100\n",
      "536/536 [==============================] - 1s 1ms/step - loss: 8.8477e-10 - accuracy: 1.0000 - val_loss: 8.9804e-10 - val_accuracy: 1.0000\n",
      "Epoch 53/100\n",
      "536/536 [==============================] - 1s 1ms/step - loss: 7.9180e-10 - accuracy: 1.0000 - val_loss: 8.1054e-10 - val_accuracy: 1.0000\n",
      "Epoch 54/100\n",
      "536/536 [==============================] - 1s 1ms/step - loss: 7.3008e-10 - accuracy: 1.0000 - val_loss: 7.4938e-10 - val_accuracy: 1.0000\n",
      "Epoch 55/100\n"
     ]
    },
    {
     "name": "stdout",
     "output_type": "stream",
     "text": [
      "536/536 [==============================] - 1s 1ms/step - loss: 6.7439e-10 - accuracy: 1.0000 - val_loss: 6.9432e-10 - val_accuracy: 1.0000\n",
      "Epoch 56/100\n",
      "536/536 [==============================] - 1s 1ms/step - loss: 6.2555e-10 - accuracy: 1.0000 - val_loss: 6.4408e-10 - val_accuracy: 1.0000\n",
      "Epoch 57/100\n",
      "536/536 [==============================] - 1s 1ms/step - loss: 5.8466e-10 - accuracy: 1.0000 - val_loss: 6.1109e-10 - val_accuracy: 1.0000\n",
      "Epoch 58/100\n",
      "536/536 [==============================] - 1s 2ms/step - loss: 5.5804e-10 - accuracy: 1.0000 - val_loss: 5.8077e-10 - val_accuracy: 1.0000\n",
      "Epoch 59/100\n",
      "536/536 [==============================] - 1s 2ms/step - loss: 5.2824e-10 - accuracy: 1.0000 - val_loss: 5.5279e-10 - val_accuracy: 1.0000\n",
      "Epoch 60/100\n",
      "536/536 [==============================] - 1s 1ms/step - loss: 5.0806e-10 - accuracy: 1.0000 - val_loss: 5.2665e-10 - val_accuracy: 1.0000\n",
      "Epoch 61/100\n",
      "536/536 [==============================] - 1s 2ms/step - loss: 4.8582e-10 - accuracy: 1.0000 - val_loss: 5.0213e-10 - val_accuracy: 1.0000\n",
      "Epoch 62/100\n",
      "536/536 [==============================] - 1s 2ms/step - loss: 4.7195e-10 - accuracy: 1.0000 - val_loss: 4.9799e-10 - val_accuracy: 1.0000\n",
      "Epoch 63/100\n",
      "536/536 [==============================] - 1s 2ms/step - loss: 4.6639e-10 - accuracy: 1.0000 - val_loss: 4.9494e-10 - val_accuracy: 1.0000\n",
      "Epoch 64/100\n",
      "536/536 [==============================] - 1s 1ms/step - loss: 4.5926e-10 - accuracy: 1.0000 - val_loss: 4.7253e-10 - val_accuracy: 1.0000\n",
      "Epoch 65/100\n",
      "536/536 [==============================] - 1s 1ms/step - loss: 4.4373e-10 - accuracy: 1.0000 - val_loss: 4.7054e-10 - val_accuracy: 1.0000\n",
      "Epoch 66/100\n",
      "536/536 [==============================] - 1s 2ms/step - loss: 4.4045e-10 - accuracy: 1.0000 - val_loss: 4.6915e-10 - val_accuracy: 1.0000\n",
      "Epoch 67/100\n",
      "536/536 [==============================] - 1s 2ms/step - loss: 4.3770e-10 - accuracy: 1.0000 - val_loss: 4.6817e-10 - val_accuracy: 1.0000\n",
      "Epoch 68/100\n",
      "536/536 [==============================] - 1s 1ms/step - loss: 4.3550e-10 - accuracy: 1.0000 - val_loss: 4.6757e-10 - val_accuracy: 1.0000\n",
      "Epoch 69/100\n",
      "536/536 [==============================] - 1s 2ms/step - loss: 4.2983e-10 - accuracy: 1.0000 - val_loss: 4.4650e-10 - val_accuracy: 1.0000\n",
      "Epoch 70/100\n",
      "536/536 [==============================] - 1s 1ms/step - loss: 4.1732e-10 - accuracy: 1.0000 - val_loss: 4.4612e-10 - val_accuracy: 1.0000\n",
      "Epoch 71/100\n",
      "536/536 [==============================] - 1s 2ms/step - loss: 4.1574e-10 - accuracy: 1.0000 - val_loss: 4.4599e-10 - val_accuracy: 1.0000\n",
      "Epoch 72/100\n",
      "536/536 [==============================] - 1s 1ms/step - loss: 4.1458e-10 - accuracy: 1.0000 - val_loss: 4.4604e-10 - val_accuracy: 1.0000\n",
      "Epoch 73/100\n",
      "536/536 [==============================] - 1s 1ms/step - loss: 4.1348e-10 - accuracy: 1.0000 - val_loss: 4.4623e-10 - val_accuracy: 1.0000\n",
      "Epoch 74/100\n",
      "536/536 [==============================] - 1s 2ms/step - loss: 4.1257e-10 - accuracy: 1.0000 - val_loss: 4.4652e-10 - val_accuracy: 1.0000\n",
      "Epoch 75/100\n",
      "536/536 [==============================] - 1s 2ms/step - loss: 4.1181e-10 - accuracy: 1.0000 - val_loss: 4.4694e-10 - val_accuracy: 1.0000\n",
      "Epoch 76/100\n",
      "536/536 [==============================] - 1s 2ms/step - loss: 4.0880e-10 - accuracy: 1.0000 - val_loss: 4.2635e-10 - val_accuracy: 1.0000\n",
      "Epoch 77/100\n",
      "536/536 [==============================] - 1s 2ms/step - loss: 3.9588e-10 - accuracy: 1.0000 - val_loss: 4.2671e-10 - val_accuracy: 1.0000\n",
      "Epoch 78/100\n",
      "536/536 [==============================] - 1s 2ms/step - loss: 3.9547e-10 - accuracy: 1.0000 - val_loss: 4.2715e-10 - val_accuracy: 1.0000\n",
      "Epoch 79/100\n",
      "536/536 [==============================] - 1s 2ms/step - loss: 3.9489e-10 - accuracy: 1.0000 - val_loss: 4.2764e-10 - val_accuracy: 1.0000\n",
      "Epoch 80/100\n",
      "536/536 [==============================] - 1s 1ms/step - loss: 3.9461e-10 - accuracy: 1.0000 - val_loss: 4.2818e-10 - val_accuracy: 1.0000\n",
      "Epoch 81/100\n",
      "536/536 [==============================] - 1s 1ms/step - loss: 3.9420e-10 - accuracy: 1.0000 - val_loss: 4.2877e-10 - val_accuracy: 1.0000\n",
      "Epoch 82/100\n",
      "536/536 [==============================] - 1s 1ms/step - loss: 3.9404e-10 - accuracy: 1.0000 - val_loss: 4.2939e-10 - val_accuracy: 1.0000\n",
      "Epoch 83/100\n",
      "536/536 [==============================] - 1s 1ms/step - loss: 3.9384e-10 - accuracy: 1.0000 - val_loss: 4.3005e-10 - val_accuracy: 1.0000\n",
      "Epoch 84/100\n",
      "536/536 [==============================] - 1s 1ms/step - loss: 3.9370e-10 - accuracy: 1.0000 - val_loss: 4.3074e-10 - val_accuracy: 1.0000\n",
      "Epoch 85/100\n",
      "536/536 [==============================] - 1s 1ms/step - loss: 3.9363e-10 - accuracy: 1.0000 - val_loss: 4.3145e-10 - val_accuracy: 1.0000\n",
      "Epoch 86/100\n",
      "536/536 [==============================] - 1s 1ms/step - loss: 3.9349e-10 - accuracy: 1.0000 - val_loss: 4.3217e-10 - val_accuracy: 1.0000\n",
      "Epoch 87/100\n",
      "536/536 [==============================] - 1s 1ms/step - loss: 3.8693e-10 - accuracy: 1.0000 - val_loss: 4.1138e-10 - val_accuracy: 1.0000\n",
      "Epoch 88/100\n",
      "536/536 [==============================] - 1s 1ms/step - loss: 3.7863e-10 - accuracy: 1.0000 - val_loss: 4.1200e-10 - val_accuracy: 1.0000\n",
      "Epoch 89/100\n",
      "536/536 [==============================] - 1s 1ms/step - loss: 3.7856e-10 - accuracy: 1.0000 - val_loss: 4.1262e-10 - val_accuracy: 1.0000\n",
      "Epoch 90/100\n",
      "536/536 [==============================] - 1s 1ms/step - loss: 3.7854e-10 - accuracy: 1.0000 - val_loss: 4.1327e-10 - val_accuracy: 1.0000\n",
      "Epoch 91/100\n",
      "536/536 [==============================] - 1s 1ms/step - loss: 3.7857e-10 - accuracy: 1.0000 - val_loss: 4.1392e-10 - val_accuracy: 1.0000\n",
      "Epoch 92/100\n",
      "536/536 [==============================] - 1s 1ms/step - loss: 3.7858e-10 - accuracy: 1.0000 - val_loss: 4.1459e-10 - val_accuracy: 1.0000\n",
      "Epoch 93/100\n",
      "536/536 [==============================] - 1s 1ms/step - loss: 3.7859e-10 - accuracy: 1.0000 - val_loss: 4.1527e-10 - val_accuracy: 1.0000\n",
      "Epoch 94/100\n",
      "536/536 [==============================] - 1s 1ms/step - loss: 3.7868e-10 - accuracy: 1.0000 - val_loss: 4.1595e-10 - val_accuracy: 1.0000\n",
      "Epoch 95/100\n",
      "536/536 [==============================] - 1s 1ms/step - loss: 3.7876e-10 - accuracy: 1.0000 - val_loss: 4.1664e-10 - val_accuracy: 1.0000\n",
      "Epoch 96/100\n",
      "536/536 [==============================] - 1s 1ms/step - loss: 3.7876e-10 - accuracy: 1.0000 - val_loss: 4.1733e-10 - val_accuracy: 1.0000\n",
      "Epoch 97/100\n",
      "536/536 [==============================] - 1s 1ms/step - loss: 3.7886e-10 - accuracy: 1.0000 - val_loss: 4.1804e-10 - val_accuracy: 1.0000\n",
      "Epoch 98/100\n",
      "536/536 [==============================] - 1s 1ms/step - loss: 3.7903e-10 - accuracy: 1.0000 - val_loss: 4.1874e-10 - val_accuracy: 1.0000\n",
      "Epoch 99/100\n",
      "536/536 [==============================] - 1s 1ms/step - loss: 3.7916e-10 - accuracy: 1.0000 - val_loss: 4.1944e-10 - val_accuracy: 1.0000\n",
      "Epoch 100/100\n",
      "536/536 [==============================] - 1s 1ms/step - loss: 3.7790e-10 - accuracy: 1.0000 - val_loss: 3.9901e-10 - val_accuracy: 1.0000\n"
     ]
    }
   ],
   "source": [
    "classifier=Sequential()\n",
    "\n",
    "classifier.add(Dense(units=6,kernel_initializer='he_uniform',activation='relu',input_dim=12))\n",
    "classifier.add(Dense(units=6,kernel_initializer='he_uniform',activation='relu'))\n",
    "classifier.add(Dense(units=1,kernel_initializer='glorot_uniform',activation='sigmoid'))\n",
    "\n",
    "classifier.compile(optimizer='adam',loss='binary_crossentropy',metrics=['accuracy'])\n",
    "\n",
    "\n",
    "                   \n",
    "model_history=classifier.fit(xtrain,ytrain,validation_split=0.33,batch_size=10,epochs=100)     \n",
    "\n"
   ]
  },
  {
   "cell_type": "code",
   "execution_count": 22,
   "id": "5bd644f2",
   "metadata": {},
   "outputs": [
    {
     "name": "stdout",
     "output_type": "stream",
     "text": [
      "Model: \"sequential\"\n",
      "_________________________________________________________________\n",
      "Layer (type)                 Output Shape              Param #   \n",
      "=================================================================\n",
      "dense (Dense)                (None, 6)                 78        \n",
      "_________________________________________________________________\n",
      "dense_1 (Dense)              (None, 6)                 42        \n",
      "_________________________________________________________________\n",
      "dense_2 (Dense)              (None, 1)                 7         \n",
      "=================================================================\n",
      "Total params: 127\n",
      "Trainable params: 127\n",
      "Non-trainable params: 0\n",
      "_________________________________________________________________\n"
     ]
    }
   ],
   "source": [
    "classifier.summary()"
   ]
  },
  {
   "cell_type": "code",
   "execution_count": 24,
   "id": "52c9a728",
   "metadata": {},
   "outputs": [
    {
     "name": "stdout",
     "output_type": "stream",
     "text": [
      "[[1607    0]\n",
      " [   0  393]]\n",
      "              precision    recall  f1-score   support\n",
      "\n",
      "           0       1.00      1.00      1.00      1607\n",
      "           1       1.00      1.00      1.00       393\n",
      "\n",
      "    accuracy                           1.00      2000\n",
      "   macro avg       1.00      1.00      1.00      2000\n",
      "weighted avg       1.00      1.00      1.00      2000\n",
      "\n"
     ]
    }
   ],
   "source": [
    "y_pred=classifier.predict(xtest)\n",
    "y_pred=(y_pred>0.5)\n",
    "\n",
    "from sklearn.metrics import confusion_matrix,classification_report\n",
    "\n",
    "cm=confusion_matrix(ytest,y_pred)\n",
    "cls=classification_report(ytest,y_pred)\n",
    "print(cm)\n",
    "print(cls)"
   ]
  },
  {
   "cell_type": "code",
   "execution_count": null,
   "id": "c2204221",
   "metadata": {},
   "outputs": [],
   "source": [
    "from sklearn.metrics import accuracy_score\n",
    "score=accuracy_score(y_pred,ytest)\n",
    "print(score)"
   ]
  },
  {
   "cell_type": "code",
   "execution_count": null,
   "id": "46fd3523",
   "metadata": {},
   "outputs": [],
   "source": [
    "plt.plot(model_history.history['loss'])\n",
    "plt.plot(model_history.history['val_loss'])\n",
    "plt.title('model loss')\n",
    "plt.ylabel('loss')\n",
    "plt.xlabel('epochs')\n",
    "plt.legend(['train','test'],loc='upper right')\n",
    "plt.show()"
   ]
  },
  {
   "cell_type": "code",
   "execution_count": null,
   "id": "e6f28d78",
   "metadata": {},
   "outputs": [],
   "source": []
  }
 ],
 "metadata": {
  "kernelspec": {
   "display_name": "Python 3",
   "language": "python",
   "name": "python3"
  },
  "language_info": {
   "codemirror_mode": {
    "name": "ipython",
    "version": 3
   },
   "file_extension": ".py",
   "mimetype": "text/x-python",
   "name": "python",
   "nbconvert_exporter": "python",
   "pygments_lexer": "ipython3",
   "version": "3.7.10"
  }
 },
 "nbformat": 4,
 "nbformat_minor": 5
}
