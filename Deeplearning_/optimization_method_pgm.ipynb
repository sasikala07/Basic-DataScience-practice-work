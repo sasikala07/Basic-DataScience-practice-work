{
 "cells": [
  {
   "cell_type": "code",
   "execution_count": 1,
   "id": "8f3f7871",
   "metadata": {},
   "outputs": [],
   "source": [
    "import numpy as np\n",
    "import matplotlib.pyplot as plt\n",
    "import sklearn\n",
    "import math\n",
    "import scipy.io\n",
    "import sklearn.datasets\n",
    "from opt_utils_v1a import load_params_and_grads,initialize_parameters,forward_propagation,backward_propagation\n",
    "from opt_utils_v1a import compute_cost,predict,predict_dec,plot_decision_boundary,load_dataset\n",
    "from copy import deepcopy\n",
    "from testCasesopt import *\n",
    "\n",
    "\n",
    "plt.rcParams['figure.figsize']=(7.0,4.0) #set default size of plots\n",
    "plt.rcParams['image.interpolation']='nearest'\n",
    "plt.rcParams['image.cmap']='gray'"
   ]
  },
  {
   "cell_type": "code",
   "execution_count": 2,
   "id": "44865d1a",
   "metadata": {},
   "outputs": [],
   "source": [
    "#update paameter\n",
    "def update_parameters_with_gd(parameters,grads,learning_rate):\n",
    "    \n",
    "    L=len(parameters)//2\n",
    "    for i in range(1,L+1):\n",
    "        parameters['W'+str(i)]=parameters['W'+str(i)]-learning_rate*grads['dW'+str(i)]\n",
    "        parameters['b'+str(i)]=parameters['b'+str(i)]-learning_rate*grads['db'+str(i)]\n",
    "    return parameters"
   ]
  },
  {
   "cell_type": "code",
   "execution_count": 3,
   "id": "caa68788",
   "metadata": {},
   "outputs": [
    {
     "name": "stdout",
     "output_type": "stream",
     "text": [
      "W1=\n",
      "[[ 1.63535156 -0.62320365 -0.53718766]\n",
      " [-1.07799357  0.85639907 -2.29470142]]\n",
      "b1=\n",
      "[[ 1.74604067]\n",
      " [-0.75184921]]\n",
      "W2=\n",
      "[[ 0.32171798 -0.25467393  1.46902454]\n",
      " [-2.05617317 -0.31554548 -0.3756023 ]\n",
      " [ 1.1404819  -1.09976462 -0.1612551 ]]\n",
      "b2=\n",
      "[[-0.88020257]\n",
      " [ 0.02561572]\n",
      " [ 0.57539477]]\n"
     ]
    }
   ],
   "source": [
    "## check if code is working\n",
    "\n",
    "parameters,grads,learning_rate=update_parameters_with_gd_test_case()\n",
    "learning_rate=0.01\n",
    "parameters=update_parameters_with_gd(parameters,grads,learning_rate)\n",
    "\n",
    "print('W1=\\n'+str(parameters['W1']))\n",
    "\n",
    "print('b1=\\n'+str(parameters['b1']))\n",
    "\n",
    "print('W2=\\n'+str(parameters['W2']))\n",
    "\n",
    "print('b2=\\n'+str(parameters['b2']))"
   ]
  },
  {
   "cell_type": "code",
   "execution_count": 4,
   "id": "81881df6",
   "metadata": {},
   "outputs": [],
   "source": [
    "#random mini_batch\n",
    "\n",
    "def random_mini_batches(X,Y,mini_batch_size=64,seed=0):\n",
    "    np.random.seed(seed)\n",
    "    m=X.shape[1]\n",
    "    mini_batches=[]\n",
    "    \n",
    "    #shuffle\n",
    "    permutation=list(np.random.permutation(m))\n",
    "    shuffled_X=X[:,permutation]\n",
    "    shuffled_Y=Y[:,permutation].reshape((1,m))\n",
    "    \n",
    "    inc=mini_batch_size\n",
    "    \n",
    "    \n",
    "    #partitions\n",
    "    num_complete_minibatches=math.floor(m/mini_batch_size)\n",
    "    for k in range(0,num_complete_minibatches):\n",
    "        mini_batch_X=shuffled_X[:,k*mini_batch_size:(k+1)*mini_batch_size]\n",
    "        mini_batch_Y=shuffled_Y[:,k*mini_batch_size:(k+1)*mini_batch_size]\n",
    "        \n",
    "        mini_batch=(mini_batch_X,mini_batch_Y)\n",
    "        mini_batches.append(mini_batch)\n",
    "        \n",
    "    if m%mini_batch_size!=0:\n",
    "        mini_batch_X=shuffled_X[:,int(m/mini_batch_size)*mini_batch_size:]\n",
    "        mini_batch_Y=shuffled_Y[:,int(m/mini_batch_size)*mini_batch_size:]\n",
    "        \n",
    "        mini_batch=(mini_batch_X,mini_batch_Y)\n",
    "        mini_batches.append(mini_batch)\n",
    "        \n",
    "    return mini_batches"
   ]
  },
  {
   "cell_type": "code",
   "execution_count": 6,
   "id": "66601ab9",
   "metadata": {},
   "outputs": [
    {
     "name": "stdout",
     "output_type": "stream",
     "text": [
      "shape of the 1st mini_batch_x:(12288, 64)\n",
      "shape of the 2nd mini_batch_x:(12288, 64)\n",
      "shape of the 3rd mini_batch_x:(12288, 20)\n",
      "shape of the 1st mini_batch_y:(1, 64)\n",
      "shape of the 2nd mini_batch_y:(1, 64)\n",
      "shape of the 3rd mini_batch_y:(1, 20)\n",
      "mini_batch sanity check:[ 0.90085595 -0.7612069   0.2344157 ]\n"
     ]
    }
   ],
   "source": [
    "t_X,t_Y,mini_batch_size=random_mini_batches_test_case()\n",
    "mini_batches=random_mini_batches(t_X,t_Y,mini_batch_size)\n",
    "\n",
    "print('shape of the 1st mini_batch_x:'+str(mini_batches[0][0].shape))\n",
    "print('shape of the 2nd mini_batch_x:'+str(mini_batches[1][0].shape))\n",
    "print('shape of the 3rd mini_batch_x:'+str(mini_batches[2][0].shape))\n",
    "print('shape of the 1st mini_batch_y:'+str(mini_batches[0][1].shape))\n",
    "print('shape of the 2nd mini_batch_y:'+str(mini_batches[1][1].shape))\n",
    "print('shape of the 3rd mini_batch_y:'+str(mini_batches[2][1].shape))\n",
    "print('mini_batch sanity check:'+str(mini_batches[0][0][0][0:3]))"
   ]
  },
  {
   "cell_type": "code",
   "execution_count": null,
   "id": "cae48649",
   "metadata": {},
   "outputs": [],
   "source": []
  }
 ],
 "metadata": {
  "kernelspec": {
   "display_name": "Python 3",
   "language": "python",
   "name": "python3"
  },
  "language_info": {
   "codemirror_mode": {
    "name": "ipython",
    "version": 3
   },
   "file_extension": ".py",
   "mimetype": "text/x-python",
   "name": "python",
   "nbconvert_exporter": "python",
   "pygments_lexer": "ipython3",
   "version": "3.7.10"
  }
 },
 "nbformat": 4,
 "nbformat_minor": 5
}
