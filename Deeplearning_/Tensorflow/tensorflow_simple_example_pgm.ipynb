{
 "cells": [
  {
   "cell_type": "code",
   "execution_count": 1,
   "id": "4f21d9d9",
   "metadata": {},
   "outputs": [],
   "source": [
    "# pip install tensorflow==2.2.0"
   ]
  },
  {
   "cell_type": "code",
   "execution_count": 15,
   "id": "edb0971d",
   "metadata": {},
   "outputs": [],
   "source": [
    "import numpy as np\n",
    "import tensorflow as tf"
   ]
  },
  {
   "cell_type": "code",
   "execution_count": 16,
   "id": "1a54c29b",
   "metadata": {},
   "outputs": [
    {
     "data": {
      "text/plain": [
       "'2.2.0'"
      ]
     },
     "execution_count": 16,
     "metadata": {},
     "output_type": "execute_result"
    }
   ],
   "source": [
    "tf.__version__"
   ]
  },
  {
   "cell_type": "code",
   "execution_count": 17,
   "id": "29417a0f",
   "metadata": {},
   "outputs": [],
   "source": [
    "w=tf.Variable(0,dtype=tf.float32)\n",
    "w\n",
    "\n",
    "optimizer=tf.keras.optimizers.Adam(0.1)  #0.1 is leraning rate"
   ]
  },
  {
   "cell_type": "code",
   "execution_count": 18,
   "id": "9192210a",
   "metadata": {},
   "outputs": [
    {
     "name": "stdout",
     "output_type": "stream",
     "text": [
      "<tf.Variable 'Variable:0' shape=() dtype=float32, numpy=0.0>\n"
     ]
    }
   ],
   "source": [
    "def train_step():\n",
    "    with tf.GradientTape() as tape:\n",
    "        cost=w**2-10*w+25\n",
    "        trainable_variables=[w]\n",
    "        \n",
    "        #grads is back propagation\n",
    "        grads=tape.gradient(cost,trainable_variables)\n",
    "        \n",
    "        #update back propag by using Adam optimizer\n",
    "        optimizer.apply_gradients(zip(grads,trainable_variables))\n",
    "        \n",
    "print(w)"
   ]
  },
  {
   "cell_type": "code",
   "execution_count": 19,
   "id": "da9464ea",
   "metadata": {},
   "outputs": [
    {
     "name": "stdout",
     "output_type": "stream",
     "text": [
      "<tf.Variable 'Variable:0' shape=() dtype=float32, numpy=0.09999997>\n",
      "<tf.Variable 'Variable:0' shape=() dtype=float32, numpy=5.000001>\n"
     ]
    }
   ],
   "source": [
    "train_step()\n",
    "print(w)\n",
    "for i in range(1000):\n",
    "    train_step()\n",
    "print(w)"
   ]
  },
  {
   "cell_type": "code",
   "execution_count": 20,
   "id": "e1d50263",
   "metadata": {},
   "outputs": [
    {
     "name": "stdout",
     "output_type": "stream",
     "text": [
      "<tf.Variable 'Variable:0' shape=() dtype=float32, numpy=0.0>\n",
      "<tf.Variable 'Variable:0' shape=() dtype=float32, numpy=0.09999997>\n"
     ]
    }
   ],
   "source": [
    "w=tf.Variable(0,dtype=tf.float32)\n",
    "x= np.array([1.0,-10.0,25.0],dtype=np.float32)\n",
    "\n",
    "optimizer=tf.keras.optimizers.Adam(0.1)\n",
    "\n",
    "def cost_fn():\n",
    "    return x[0]*w**2+x[1]*w+x[2]\n",
    "\n",
    "print(w)\n",
    "optimizer.minimize(cost_fn,[w])\n",
    "print(w)"
   ]
  },
  {
   "cell_type": "code",
   "execution_count": 21,
   "id": "add6201b",
   "metadata": {},
   "outputs": [
    {
     "name": "stdout",
     "output_type": "stream",
     "text": [
      "<tf.Variable 'Variable:0' shape=() dtype=float32, numpy=5.000001>\n"
     ]
    }
   ],
   "source": [
    "w=tf.Variable(0,dtype=tf.float32)\n",
    "x= np.array([1.0,-10.0,25.0],dtype=np.float32)\n",
    "\n",
    "optimizer=tf.keras.optimizers.Adam(0.1)\n",
    "\n",
    "def training(x,w,optimizer):\n",
    "    \n",
    "    #forward propagation\n",
    "    def cost_fn():\n",
    "        return x[0]*w**2+x[1]*w+x[2]\n",
    "    for i in range(1000):\n",
    "        optimizer.minimize(cost_fn,[w])\n",
    "    return w\n",
    "\n",
    "w=training(x,w,optimizer)\n",
    "\n",
    "print(w)\n",
    "\n",
    "#tensorflow ...only implement forward propagation ...backward propagation implement automatically calculate"
   ]
  },
  {
   "cell_type": "code",
   "execution_count": null,
   "id": "9274f547",
   "metadata": {},
   "outputs": [],
   "source": []
  }
 ],
 "metadata": {
  "kernelspec": {
   "display_name": "Python 3",
   "language": "python",
   "name": "python3"
  },
  "language_info": {
   "codemirror_mode": {
    "name": "ipython",
    "version": 3
   },
   "file_extension": ".py",
   "mimetype": "text/x-python",
   "name": "python",
   "nbconvert_exporter": "python",
   "pygments_lexer": "ipython3",
   "version": "3.7.10"
  }
 },
 "nbformat": 4,
 "nbformat_minor": 5
}
