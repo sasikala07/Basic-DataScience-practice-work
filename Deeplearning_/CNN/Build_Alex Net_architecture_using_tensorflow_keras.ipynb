{
 "cells": [
  {
   "cell_type": "code",
   "execution_count": 1,
   "id": "7967b6b5",
   "metadata": {},
   "outputs": [],
   "source": [
    "import tensorflow.keras\n",
    "from tensorflow.keras.models import Sequential\n",
    "from tensorflow.keras.layers import Dense,Activation,Dropout,Flatten,Conv2D,MaxPool2D,BatchNormalization"
   ]
  },
  {
   "cell_type": "code",
   "execution_count": null,
   "id": "0033010c",
   "metadata": {},
   "outputs": [],
   "source": [
    "#create seuential model\n",
    "\n",
    "model=Sequential()\n",
    "\n",
    "#1st layer\n",
    "model.add(Conv2D(filters=96,input_shape=(227,227,3),kernel_size=(11,11),\n",
    "                strides=(4,4),padding='valid'))\n",
    "model.add(Activation('relu'))\n",
    "\n",
    "model.add(MaxPool2D(pool_size=(2,2),strides=(2,2),padding='valid'))\n",
    "model.add(BatchNormalization())\n",
    "\n",
    "#2nd layer\n",
    "model.add(Conv2D(filters=256,kernel_size=(11,11),\n",
    "                strides=(1,1),padding='valid'))\n",
    "model.add(Activation('relu'))\n",
    "\n",
    "model.add(MaxPool2D(pool_size=(2,2),strides=(2,2),padding='valid'))\n",
    "model.add(BatchNormalization())"
   ]
  }
 ],
 "metadata": {
  "kernelspec": {
   "display_name": "Python 3",
   "language": "python",
   "name": "python3"
  },
  "language_info": {
   "codemirror_mode": {
    "name": "ipython",
    "version": 3
   },
   "file_extension": ".py",
   "mimetype": "text/x-python",
   "name": "python",
   "nbconvert_exporter": "python",
   "pygments_lexer": "ipython3",
   "version": "3.7.10"
  }
 },
 "nbformat": 4,
 "nbformat_minor": 5
}
