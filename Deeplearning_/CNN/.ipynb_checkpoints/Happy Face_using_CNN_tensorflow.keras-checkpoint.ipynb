{
 "cells": [
  {
   "cell_type": "code",
   "execution_count": 1,
   "id": "2b3be6de",
   "metadata": {},
   "outputs": [],
   "source": [
    "import math\n",
    "import numpy as np\n",
    "import matplotlib.pyplot as plt\n",
    "import h5py\n",
    "from matplotlib.pyplot import imread\n",
    "import scipy\n",
    "from PIL import Image\n",
    "import pandas as pd\n",
    "import tensorflow as tf\n",
    "import tensorflow.keras.layers as tfl\n",
    "from tensorflow.python.framework import ops\n",
    "from cnn_utils import *\n",
    "from test_utils import summary, comparator\n",
    "\n",
    "\n",
    "%matplotlib inline\n",
    "np.random.seed(1)"
   ]
  },
  {
   "cell_type": "code",
   "execution_count": 2,
   "id": "045136e0",
   "metadata": {
    "scrolled": true
   },
   "outputs": [
    {
     "name": "stdout",
     "output_type": "stream",
     "text": [
      "no of training egs=600\n",
      "no of testing egs=150\n",
      "X_train shape:(600, 64, 64, 3)\n",
      "Y_train shape:(600, 1)\n",
      "X_test shape:(150, 64, 64, 3)\n",
      "Y_test shape:(150, 1)\n"
     ]
    }
   ],
   "source": [
    "X_train_orig,Y_train_orig,X_test_orig,Y_test_orig,classes=load_happy_dataset() #dataset load in cnn_utils\n",
    "\n",
    "X_train=X_train_orig/255.\n",
    "X_test=X_test_orig/255.\n",
    "\n",
    "Y_train=Y_train_orig.T\n",
    "Y_test=Y_test_orig.T\n",
    "\n",
    "print('no of training egs=' +str(X_train.shape[0]))\n",
    "print('no of testing egs=' +str(X_test.shape[0]))\n",
    "print('X_train shape:'+str(X_train.shape))\n",
    "print('Y_train shape:'+str(Y_train.shape))\n",
    "print('X_test shape:'+str(X_test.shape))\n",
    "print('Y_test shape:'+str(Y_test.shape))\n"
   ]
  },
  {
   "cell_type": "code",
   "execution_count": 10,
   "id": "925287ac",
   "metadata": {},
   "outputs": [
    {
     "data": {
      "image/png": "[encoded data removed]",
      "text/plain": [
       "<Figure size 432x288 with 1 Axes>"
      ]
     },
     "metadata": {
      "needs_background": "light"
     },
     "output_type": "display_data"
    }
   ],
   "source": [
    "index=120\n",
    "plt.imshow(X_train_orig[index])\n",
    "plt.show()"
   ]
  },
  {
   "cell_type": "markdown",
   "id": "e17e1ab6",
   "metadata": {},
   "source": [
    "STEPS\n",
    "\n",
    "ZEROPAD2D -> CONV2D -> BATCH NORM -> RELU -> MAXPOOL -> FLATTEN -> DENSE"
   ]
  },
  {
   "cell_type": "markdown",
   "id": "6eaf2832",
   "metadata": {},
   "source": [
    "- #### Zeropadding2D with padding 3, input size of 64x64x3\n",
    "- #### conv2D with 32 7x7 filter and strie of 1\n",
    "- #### Batchnormalization for axis 3\n",
    "- #### ReLU\n",
    "- #### MAx pooling 2D with default parameters f=2,s=2\n",
    "- #### Flatten layer\n",
    "- #### Dense layer with 1 unit for output and sigmoid activation"
   ]
  },
  {
   "cell_type": "markdown",
   "id": "9febe2cc",
   "metadata": {},
   "source": []
  },
  {
   "cell_type": "code",
   "execution_count": 4,
   "id": "74352dac",
   "metadata": {},
   "outputs": [],
   "source": [
    "#define function that makes sequential model\n",
    "\n",
    "def happyModel():\n",
    "    model=tf.keras.Sequential([\n",
    "        \n",
    "        #zeropadding for 2D img\n",
    "        tfl.ZeroPadding2D(padding=3,input_shape=(64,64,3)),\n",
    "        \n",
    "        #convolving 7x7 filter\n",
    "        tfl.Conv2D(32,(7,7),strides=(1,1),name='conv0'),\n",
    "        \n",
    "        tfl.BatchNormalization(axis=3,name='bn0'),\n",
    "        \n",
    "        tfl.ReLU(),\n",
    "        \n",
    "        tfl.MaxPool2D(pool_size=(2,2),name='max_pool_0'),\n",
    "        \n",
    "        tfl.Flatten(),\n",
    "        \n",
    "        tfl.Dense(1,activation='sigmoid',name='fc3')\n",
    "    ])\n",
    "    \n",
    "    return model"
   ]
  },
  {
   "cell_type": "code",
   "execution_count": 5,
   "id": "39d08f34",
   "metadata": {},
   "outputs": [],
   "source": [
    "#compile model\n",
    "happy_model = happyModel()\n",
    "happy_model.compile(optimizer='adam',loss='binary_crossentropy',metrics=['accuracy'])"
   ]
  },
  {
   "cell_type": "code",
   "execution_count": 6,
   "id": "639457e1",
   "metadata": {},
   "outputs": [
    {
     "name": "stdout",
     "output_type": "stream",
     "text": [
      "Model: \"sequential\"\n",
      "_________________________________________________________________\n",
      "Layer (type)                 Output Shape              Param #   \n",
      "=================================================================\n",
      "zero_padding2d (ZeroPadding2 (None, 70, 70, 3)         0         \n",
      "_________________________________________________________________\n",
      "conv0 (Conv2D)               (None, 64, 64, 32)        4736      \n",
      "_________________________________________________________________\n",
      "bn0 (BatchNormalization)     (None, 64, 64, 32)        128       \n",
      "_________________________________________________________________\n",
      "re_lu (ReLU)                 (None, 64, 64, 32)        0         \n",
      "_________________________________________________________________\n",
      "max_pool_0 (MaxPooling2D)    (None, 32, 32, 32)        0         \n",
      "_________________________________________________________________\n",
      "flatten (Flatten)            (None, 32768)             0         \n",
      "_________________________________________________________________\n",
      "fc3 (Dense)                  (None, 1)                 32769     \n",
      "=================================================================\n",
      "Total params: 37,633\n",
      "Trainable params: 37,569\n",
      "Non-trainable params: 64\n",
      "_________________________________________________________________\n"
     ]
    }
   ],
   "source": [
    "happy_model.summary()"
   ]
  },
  {
   "cell_type": "code",
   "execution_count": 7,
   "id": "a76d2c78",
   "metadata": {},
   "outputs": [
    {
     "name": "stdout",
     "output_type": "stream",
     "text": [
      "Epoch 1/10\n",
      "38/38 [==============================] - 3s 72ms/step - loss: 1.1479 - accuracy: 0.7083\n",
      "Epoch 2/10\n",
      "38/38 [==============================] - 3s 70ms/step - loss: 0.3133 - accuracy: 0.8750\n",
      "Epoch 3/10\n",
      "38/38 [==============================] - 3s 80ms/step - loss: 0.2446 - accuracy: 0.9100\n",
      "Epoch 4/10\n",
      "38/38 [==============================] - 3s 70ms/step - loss: 0.1016 - accuracy: 0.9617\n",
      "Epoch 5/10\n",
      "38/38 [==============================] - 3s 66ms/step - loss: 0.0849 - accuracy: 0.9683\n",
      "Epoch 6/10\n",
      "38/38 [==============================] - 3s 73ms/step - loss: 0.0981 - accuracy: 0.9683\n",
      "Epoch 7/10\n",
      "38/38 [==============================] - 3s 72ms/step - loss: 0.0613 - accuracy: 0.9783\n",
      "Epoch 8/10\n",
      "38/38 [==============================] - 3s 76ms/step - loss: 0.0611 - accuracy: 0.9817\n",
      "Epoch 9/10\n",
      "38/38 [==============================] - 3s 68ms/step - loss: 0.1030 - accuracy: 0.9600\n",
      "Epoch 10/10\n",
      "38/38 [==============================] - 3s 67ms/step - loss: 0.1048 - accuracy: 0.9650\n"
     ]
    },
    {
     "data": {
      "text/plain": [
       "<tensorflow.python.keras.callbacks.History at 0x7f83b222b610>"
      ]
     },
     "execution_count": 7,
     "metadata": {},
     "output_type": "execute_result"
    }
   ],
   "source": [
    "happy_model.fit(X_train,Y_train,epochs=10,batch_size=16)"
   ]
  },
  {
   "cell_type": "code",
   "execution_count": 8,
   "id": "c617b6fd",
   "metadata": {},
   "outputs": [
    {
     "name": "stdout",
     "output_type": "stream",
     "text": [
      "5/5 [==============================] - 0s 37ms/step - loss: 0.4201 - accuracy: 0.8067\n"
     ]
    },
    {
     "data": {
      "text/plain": [
       "[0.4201175272464752, 0.8066666722297668]"
      ]
     },
     "execution_count": 8,
     "metadata": {},
     "output_type": "execute_result"
    }
   ],
   "source": [
    "happy_model.evaluate(X_test,Y_test)"
   ]
  }
 ],
 "metadata": {
  "kernelspec": {
   "display_name": "Python 3",
   "language": "python",
   "name": "python3"
  },
  "language_info": {
   "codemirror_mode": {
    "name": "ipython",
    "version": 3
   },
   "file_extension": ".py",
   "mimetype": "text/x-python",
   "name": "python",
   "nbconvert_exporter": "python",
   "pygments_lexer": "ipython3",
   "version": "3.7.10"
  }
 },
 "nbformat": 4,
 "nbformat_minor": 5
}
