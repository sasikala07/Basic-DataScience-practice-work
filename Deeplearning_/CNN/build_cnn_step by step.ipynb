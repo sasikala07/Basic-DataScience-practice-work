{
 "cells": [
  {
   "cell_type": "code",
   "execution_count": 2,
   "id": "28a497ad",
   "metadata": {},
   "outputs": [],
   "source": [
    "import numpy as np\n",
    "import matplotlib.pyplot as plt\n",
    "import h5py\n",
    "from public_tests import *\n",
    "\n",
    "plt.rcParams['figure.figsize']=(5.0,4.0)\n",
    "plt.rcParams['image.interpolation']='nearest'\n",
    "plt.rcParams['image.cmap']='gray'\n",
    "np.random.seed(1)"
   ]
  },
  {
   "cell_type": "markdown",
   "id": "ae3660c4",
   "metadata": {},
   "source": [
    "> ### Notations \n",
    "- Superscript [l] denotes an object of the lth layer\n",
    "   - eg: a[4] is the 4th layer activation ..W[5] and b[5] are the 5th layer parameters.\n",
    "\n",
    "- superscript(i) denotes an object from the ith eg.\n",
    "   - eg: x(i) is the ith training eg input\n",
    "   \n",
    "- subscript i denote the ith entry of a vector.\n",
    "    - eg: ai[l] denotes the ith entry of the activation in layer l, assuming this is a fully connected layer\n",
    "   \n",
    "\n",
    "> ### steps of cnn\n",
    "\n",
    "- convolution functions, including:\n",
    "    - zero padding\n",
    "    - convolve window\n",
    "    - convolution forward\n",
    "    - convolution bacward\n",
    "\n",
    "- pooling functions:\n",
    "    - pooling forward\n",
    "    - create mask\n",
    "    - Distribute mask\n",
    "    - pooling backward\n",
    "    "
   ]
  },
  {
   "cell_type": "code",
   "execution_count": 3,
   "id": "790e8bb8",
   "metadata": {},
   "outputs": [],
   "source": [
    "#define padding ..zero padding\n",
    "\n",
    "def zero_pad(X,pad):\n",
    "    X_pad=np.pad(X,((0,0),(pad,pad),(pad,pad),(0,0)),mode='constant',constant_values=(0,0))\n",
    "    \n",
    "    return X_pad"
   ]
  },
  {
   "cell_type": "code",
   "execution_count": 11,
   "id": "b63918a4",
   "metadata": {},
   "outputs": [],
   "source": [
    "# #checking \n",
    "# np.random.seed(1)\n",
    "# x=np.random.randn(4,3,3,2)\n",
    "# x_pad=zero_pad(x,2)\n",
    "# print('x.shape=\\n',x_pad.shape)\n",
    "# print('x[1,1]=\\n',x[1,1])\n",
    "# print('x_pad[1,1]=\\n',x_pad[1,1])\n",
    "\n",
    "\n",
    "# fig,axarr=plt.subplot(1, 2)\n",
    "# axarr[0].set_title('x')\n",
    "# axarr[0].imshow(x[0, :, :, 0])\n",
    "# axarr[1].set_title('x_pad')\n",
    "# axarr[1].imshow(x_pad[0, :, :, 0])\n",
    "# zero_pad_test(zero_pad)"
   ]
  },
  {
   "cell_type": "code",
   "execution_count": 6,
   "id": "ed368033",
   "metadata": {},
   "outputs": [],
   "source": [
    "def conv_single_step(a_slice_prev,W,b):\n",
    "    \n",
    "    s=np.multiply(a_slice_prev,W)\n",
    "    Z=np.sum(s)\n",
    "    Z=Z+float(b)\n",
    "    return Z"
   ]
  },
  {
   "cell_type": "code",
   "execution_count": null,
   "id": "f2dcd719",
   "metadata": {},
   "outputs": [],
   "source": []
  }
 ],
 "metadata": {
  "kernelspec": {
   "display_name": "Python 3",
   "language": "python",
   "name": "python3"
  },
  "language_info": {
   "codemirror_mode": {
    "name": "ipython",
    "version": 3
   },
   "file_extension": ".py",
   "mimetype": "text/x-python",
   "name": "python",
   "nbconvert_exporter": "python",
   "pygments_lexer": "ipython3",
   "version": "3.7.10"
  }
 },
 "nbformat": 4,
 "nbformat_minor": 5
}
