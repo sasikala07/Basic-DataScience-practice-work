{
 "cells": [
  {
   "cell_type": "code",
   "execution_count": 1,
   "id": "0c4ca72a",
   "metadata": {},
   "outputs": [],
   "source": [
    "import time\n",
    "import numpy as np\n",
    "import h5py\n",
    "import matplotlib.pyplot as plt\n",
    "import scipy\n",
    "from PIL import Image\n",
    "from scipy import ndimage\n",
    "from dnnutils import *\n",
    "\n",
    "plt.rcParams['figure.figsize']=(5.0,4.0)\n",
    "plt.rcParams['image.interpolation']='nearest'\n",
    "plt.rcParams['image.cmap']='gray'\n",
    "np.random.seed(1)"
   ]
  },
  {
   "cell_type": "code",
   "execution_count": 2,
   "id": "3f428ff2",
   "metadata": {},
   "outputs": [],
   "source": [
    "##data load in dnnutils file \n",
    "train_x_orig,train_y,test_x_orig,test_y,classes=load_data()  "
   ]
  },
  {
   "cell_type": "code",
   "execution_count": 3,
   "id": "02d5cccb",
   "metadata": {},
   "outputs": [
    {
     "data": {
      "text/plain": [
       "<matplotlib.image.AxesImage at 0x7fd4a6f8c710>"
      ]
     },
     "execution_count": 3,
     "metadata": {},
     "output_type": "execute_result"
    },
    {
     "data": {
      "image/png": "[encoded data removed]",
      "text/plain": [
       "<Figure size 360x288 with 1 Axes>"
      ]
     },
     "metadata": {
      "needs_background": "light"
     },
     "output_type": "display_data"
    }
   ],
   "source": [
    "index=19\n",
    "plt.imshow(train_x_orig[index])"
   ]
  },
  {
   "cell_type": "code",
   "execution_count": 4,
   "id": "9df78b29",
   "metadata": {},
   "outputs": [
    {
     "name": "stdout",
     "output_type": "stream",
     "text": [
      "No of training eg: 209\n",
      "No of testing eg: 50\n",
      "each image size is:(64,64,3)\n",
      "Training_x_orig shape:(209, 64, 64, 3)\n",
      "train_y shape:(1, 209)\n",
      "Test_x_orig shape:(50, 64, 64, 3)\n",
      "Test_y shape:(1, 50)\n"
     ]
    }
   ],
   "source": [
    "m_train=train_x_orig.shape[0]\n",
    "num_px=train_x_orig.shape[1]\n",
    "m_test=test_x_orig.shape[0]\n",
    "\n",
    "print('No of training eg:',m_train)\n",
    "print('No of testing eg:',m_test)\n",
    "print('each image size is:('+str(num_px)+','+str(num_px)+',3)',)\n",
    "print('Training_x_orig shape:'+str(train_x_orig.shape))\n",
    "print('train_y shape:'+str(train_y.shape))\n",
    "print('Test_x_orig shape:'+str(test_x_orig.shape))\n",
    "print('Test_y shape:'+str(test_y.shape))"
   ]
  },
  {
   "cell_type": "code",
   "execution_count": 5,
   "id": "bcfeaf98",
   "metadata": {},
   "outputs": [
    {
     "name": "stdout",
     "output_type": "stream",
     "text": [
      "train_x reshape:(12288, 209)\n",
      "test_x reshape:(12288, 50)\n"
     ]
    }
   ],
   "source": [
    "## trainig set in 4D ..so we need to reshape dim \n",
    "\n",
    "train_x_faltten=train_x_orig.reshape(train_x_orig.shape[0],-1).T\n",
    "test_x_flatten=test_x_orig.reshape(test_x_orig.shape[0],-1).T\n",
    "\n",
    "train_x=train_x_faltten/255\n",
    "test_x=test_x_flatten/255\n",
    "\n",
    "print('train_x reshape:'+str(train_x.shape))\n",
    "print('test_x reshape:'+str(test_x.shape))"
   ]
  },
  {
   "cell_type": "code",
   "execution_count": 6,
   "id": "89729c4c",
   "metadata": {},
   "outputs": [],
   "source": [
    "n_x=12288  #input layer\n",
    "n_h=7      # hidden layer\n",
    "n_y=1      # op layer\n",
    "\n",
    "layer_dim=(n_x,n_h,n_y)\n",
    "learning_rate=0.0075"
   ]
  },
  {
   "cell_type": "code",
   "execution_count": 7,
   "id": "69bb5889",
   "metadata": {},
   "outputs": [],
   "source": [
    "## initialize parameter\n",
    "\n",
    "def initialize_parameter(n_x,n_h,n_y):\n",
    "    np.random.seed(1)\n",
    "    \n",
    "    W1=np.random.randn(n_h,n_x)*0.01\n",
    "    b1=np.zeros([n_h,1])\n",
    "    W2=np.random.randn(n_y,n_h)*0.01\n",
    "    b2=np.zeros([n_y,1])\n",
    "    \n",
    "    parameter={'W1':W1,'b1':b1,'W2':W2,'b2':b2}\n",
    "    \n",
    "    \n",
    "    return parameter\n",
    "\n"
   ]
  },
  {
   "cell_type": "code",
   "execution_count": 12,
   "id": "9574535a",
   "metadata": {},
   "outputs": [],
   "source": [
    "def two_layer_model(X,Y,layer_dim,learning_rate=0.0075,num_iterations=3000,print_cost=False):\n",
    "    \n",
    "    np.random.seed(1)\n",
    "    grads={}\n",
    "    costs=[]\n",
    "    m=X.shape[1]\n",
    "    (n_x,n_h,n_y)=layer_dim\n",
    "    \n",
    "    parameter=initialize_parameter(n_x,n_h,n_y)\n",
    "    \n",
    "    \n",
    "    W1=parameter['W1']\n",
    "    b1=parameter['b1']\n",
    "    W2=parameter['W2']\n",
    "    b2=parameter['b2']\n",
    "    \n",
    "    for i in range(0,num_iterations):\n",
    "        A1,cache1=linear_activation_forward(X,W1,b1,activation='relu')\n",
    "        A2,cache2=linear_activation_forward(A1,W2,b2,activation='sigmoid')\n",
    "        \n",
    "        cost=compute_cost(A2,Y)\n",
    "        \n",
    "        \n",
    "        \n",
    "        dA2= -(np.divide(Y,A2)-np.divide(1-Y,1-A2))\n",
    "               \n",
    "        dA1,dW2,db2=linear_activation_backward(dA2,cache2,activation='sigmoid')\n",
    "        dA0,dW1,db1=linear_activation_backward(dA1,cache1,activation='relu')\n",
    "        \n",
    "        grads['dW1']=dW1\n",
    "        grads['db1']=db1\n",
    "        grads['dW2']=dW2\n",
    "        grads['db2']=db2\n",
    "        \n",
    "        \n",
    "        parameter=update_parameters(parameter,grads,learning_rate)\n",
    "        \n",
    "        W1=parameter['W1']\n",
    "        b1=parameter['b1']\n",
    "        W2=parameter['W2']\n",
    "        b2=parameter['b2']\n",
    "        \n",
    "        if print_cost and i%100==0 or i==num_iterations-1:\n",
    "            print('cost after iteration {}:{}'.format(i,np.squeeze(cost)))\n",
    "        if i%100==0 or i==num_iterations:\n",
    "            costs.append(cost)\n",
    "            \n",
    "    plt.plot(np.squeeze(costs))\n",
    "    plt.ylabel('cost')\n",
    "    plt.xlabel('iteration per(100s)')\n",
    "    plt.title('Learning rate='+str(learning_rate))\n",
    "    plt.show()\n",
    "    \n",
    "    \n",
    "    return parameter,costs\n",
    "              \n",
    "    "
   ]
  },
  {
   "cell_type": "code",
   "execution_count": 14,
   "id": "eeae694f",
   "metadata": {},
   "outputs": [
    {
     "name": "stdout",
     "output_type": "stream",
     "text": [
      "cost after iteration 2999:0.02809573975430016\n"
     ]
    },
    {
     "data": {
      "image/png": "[encoded data removed]",
      "text/plain": [
       "<Figure size 360x288 with 1 Axes>"
      ]
     },
     "metadata": {
      "needs_background": "light"
     },
     "output_type": "display_data"
    },
    {
     "name": "stdout",
     "output_type": "stream",
     "text": [
      "cost after first iteration:0.693049735659989\n"
     ]
    }
   ],
   "source": [
    "parameter,costs=two_layer_model(train_x,train_y,layer_dim=(n_x,n_h,n_y),num_iterations=3000,print_cost=False)\n",
    "print('cost after first iteration:'+str(costs[0]))"
   ]
  },
  {
   "cell_type": "code",
   "execution_count": 15,
   "id": "05939da9",
   "metadata": {},
   "outputs": [
    {
     "name": "stdout",
     "output_type": "stream",
     "text": [
      "Accuracy: 0.9999999999999998\n"
     ]
    }
   ],
   "source": [
    "pred_train=predict(train_x,train_y,parameter)"
   ]
  },
  {
   "cell_type": "code",
   "execution_count": 16,
   "id": "ef2bc85f",
   "metadata": {},
   "outputs": [
    {
     "name": "stdout",
     "output_type": "stream",
     "text": [
      "Accuracy: 0.72\n"
     ]
    }
   ],
   "source": [
    "pred_test=predict(test_x,test_y,parameter)"
   ]
  },
  {
   "cell_type": "code",
   "execution_count": null,
   "id": "b7fe40b2",
   "metadata": {},
   "outputs": [],
   "source": []
  }
 ],
 "metadata": {
  "kernelspec": {
   "display_name": "Python 3",
   "language": "python",
   "name": "python3"
  },
  "language_info": {
   "codemirror_mode": {
    "name": "ipython",
    "version": 3
   },
   "file_extension": ".py",
   "mimetype": "text/x-python",
   "name": "python",
   "nbconvert_exporter": "python",
   "pygments_lexer": "ipython3",
   "version": "3.7.10"
  }
 },
 "nbformat": 4,
 "nbformat_minor": 5
}
