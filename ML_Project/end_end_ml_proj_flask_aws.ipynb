{
 "cells": [
  {
   "cell_type": "markdown",
   "id": "67c54f8c",
   "metadata": {},
   "source": [
    "PART - 1 : Model Building and hosting local API\n",
    "1. Data Preparation\n",
    "2. Machine Learning Modelling\n",
    "3. Model Evaluation\n",
    "4. Export Trained Model\n",
    "5. LOCAL REST API with Flask web-server \n",
    "6. Create a website for predicing marriage age calling REST API\n",
    "\n",
    "PART - 2 : Deploying Public API to AWS EC2 server and launch website service \n",
    "1. Spin up an EC2 server\n",
    "2. Configure EC2 with security group and private key\n",
    "3. Install libraries and dependencies on the EC2 server\n",
    "4. Move trained model and app.py flask files to EC2 (winscp)\n",
    "5. Configure flaskapp.wsgi file and Apache vhost file\n",
    "6. Restart apache webserver and Check API status\n",
    "7. Launch a website with domain name and host webpage. "
   ]
  },
  {
   "cell_type": "code",
   "execution_count": 1,
   "id": "5c3eefd0",
   "metadata": {},
   "outputs": [],
   "source": [
    "import pandas as pd\n",
    "import numpy as np\n",
    "import matplotlib.pyplot as plt\n"
   ]
  },
  {
   "cell_type": "code",
   "execution_count": 2,
   "id": "c23bae9f",
   "metadata": {},
   "outputs": [
    {
     "name": "stdout",
     "output_type": "stream",
     "text": [
      "(2567, 10)\n"
     ]
    },
    {
     "data": {
      "text/html": [
       "<div>\n",
       "<style scoped>\n",
       "    .dataframe tbody tr th:only-of-type {\n",
       "        vertical-align: middle;\n",
       "    }\n",
       "\n",
       "    .dataframe tbody tr th {\n",
       "        vertical-align: top;\n",
       "    }\n",
       "\n",
       "    .dataframe thead th {\n",
       "        text-align: right;\n",
       "    }\n",
       "</style>\n",
       "<table border=\"1\" class=\"dataframe\">\n",
       "  <thead>\n",
       "    <tr style=\"text-align: right;\">\n",
       "      <th></th>\n",
       "      <th>id</th>\n",
       "      <th>gender</th>\n",
       "      <th>height</th>\n",
       "      <th>religion</th>\n",
       "      <th>caste</th>\n",
       "      <th>mother_tongue</th>\n",
       "      <th>profession</th>\n",
       "      <th>location</th>\n",
       "      <th>country</th>\n",
       "      <th>age_of_marriage</th>\n",
       "    </tr>\n",
       "  </thead>\n",
       "  <tbody>\n",
       "    <tr>\n",
       "      <th>0</th>\n",
       "      <td>1</td>\n",
       "      <td>female</td>\n",
       "      <td>5'4\"</td>\n",
       "      <td>NaN</td>\n",
       "      <td>others</td>\n",
       "      <td>Telugu</td>\n",
       "      <td>NaN</td>\n",
       "      <td>London</td>\n",
       "      <td>United Kingdom</td>\n",
       "      <td>21.0</td>\n",
       "    </tr>\n",
       "    <tr>\n",
       "      <th>1</th>\n",
       "      <td>2</td>\n",
       "      <td>male</td>\n",
       "      <td>5'7\"</td>\n",
       "      <td>Jain</td>\n",
       "      <td>Shwetamber</td>\n",
       "      <td>Gujarati</td>\n",
       "      <td>Doctor / Healthcare Professional</td>\n",
       "      <td>Fairfax- VA</td>\n",
       "      <td>USA</td>\n",
       "      <td>32.0</td>\n",
       "    </tr>\n",
       "    <tr>\n",
       "      <th>2</th>\n",
       "      <td>3</td>\n",
       "      <td>male</td>\n",
       "      <td>5'7\"</td>\n",
       "      <td>Hindu</td>\n",
       "      <td>Brahmin</td>\n",
       "      <td>Hindi</td>\n",
       "      <td>Entrepreneurs / Business</td>\n",
       "      <td>Begusarai</td>\n",
       "      <td>India</td>\n",
       "      <td>32.0</td>\n",
       "    </tr>\n",
       "    <tr>\n",
       "      <th>3</th>\n",
       "      <td>4</td>\n",
       "      <td>female</td>\n",
       "      <td>5'0\"</td>\n",
       "      <td>Hindu</td>\n",
       "      <td>Thakur</td>\n",
       "      <td>Hindi</td>\n",
       "      <td>Architect</td>\n",
       "      <td>Mumbai</td>\n",
       "      <td>India</td>\n",
       "      <td>30.0</td>\n",
       "    </tr>\n",
       "    <tr>\n",
       "      <th>4</th>\n",
       "      <td>5</td>\n",
       "      <td>male</td>\n",
       "      <td>5'5\"</td>\n",
       "      <td>Christian</td>\n",
       "      <td>Born Again</td>\n",
       "      <td>Malayalam</td>\n",
       "      <td>Sales Professional / Marketing</td>\n",
       "      <td>Sulthan Bathery</td>\n",
       "      <td>India</td>\n",
       "      <td>30.0</td>\n",
       "    </tr>\n",
       "  </tbody>\n",
       "</table>\n",
       "</div>"
      ],
      "text/plain": [
       "   id  gender height   religion        caste mother_tongue  \\\n",
       "0   1  female   5'4\"        NaN       others        Telugu   \n",
       "1   2    male   5'7\"       Jain   Shwetamber      Gujarati   \n",
       "2   3    male   5'7\"      Hindu      Brahmin         Hindi   \n",
       "3   4  female   5'0\"      Hindu       Thakur         Hindi   \n",
       "4   5    male   5'5\"  Christian   Born Again     Malayalam   \n",
       "\n",
       "                         profession         location          country  \\\n",
       "0                               NaN           London   United Kingdom   \n",
       "1  Doctor / Healthcare Professional      Fairfax- VA              USA   \n",
       "2         Entrepreneurs / Business         Begusarai            India   \n",
       "3                         Architect           Mumbai            India   \n",
       "4    Sales Professional / Marketing  Sulthan Bathery            India   \n",
       "\n",
       "   age_of_marriage  \n",
       "0             21.0  \n",
       "1             32.0  \n",
       "2             32.0  \n",
       "3             30.0  \n",
       "4             30.0  "
      ]
     },
     "execution_count": 2,
     "metadata": {},
     "output_type": "execute_result"
    }
   ],
   "source": [
    "df=pd.read_csv('age_of_marriage_data.csv')\n",
    "\n",
    "print(df.shape)\n",
    "df.head()"
   ]
  },
  {
   "cell_type": "code",
   "execution_count": 3,
   "id": "a56c2c9a",
   "metadata": {},
   "outputs": [
    {
     "data": {
      "text/plain": [
       "Index(['id', 'gender', 'height', 'religion', 'caste', 'mother_tongue',\n",
       "       'profession', 'location', 'country', 'age_of_marriage'],\n",
       "      dtype='object')"
      ]
     },
     "execution_count": 3,
     "metadata": {},
     "output_type": "execute_result"
    }
   ],
   "source": [
    "df.columns"
   ]
  },
  {
   "cell_type": "code",
   "execution_count": 4,
   "id": "ea736459",
   "metadata": {},
   "outputs": [
    {
     "data": {
      "text/plain": [
       "id                   0\n",
       "gender              29\n",
       "height             118\n",
       "religion           635\n",
       "caste              142\n",
       "mother_tongue      164\n",
       "profession         330\n",
       "location           155\n",
       "country             16\n",
       "age_of_marriage     19\n",
       "dtype: int64"
      ]
     },
     "execution_count": 4,
     "metadata": {},
     "output_type": "execute_result"
    }
   ],
   "source": [
    "df.isnull().sum()"
   ]
  },
  {
   "cell_type": "code",
   "execution_count": 5,
   "id": "c283b5c4",
   "metadata": {},
   "outputs": [
    {
     "data": {
      "text/plain": [
       "id                 0\n",
       "gender             0\n",
       "height             0\n",
       "religion           0\n",
       "caste              0\n",
       "mother_tongue      0\n",
       "profession         0\n",
       "location           0\n",
       "country            0\n",
       "age_of_marriage    0\n",
       "dtype: int64"
      ]
     },
     "execution_count": 5,
     "metadata": {},
     "output_type": "execute_result"
    }
   ],
   "source": [
    "# df.fillna(df.mean(),inplace=True)\n",
    "\n",
    "df.dropna(inplace=True)\n",
    "df.isnull().sum()"
   ]
  },
  {
   "cell_type": "code",
   "execution_count": 6,
   "id": "0fdda592",
   "metadata": {},
   "outputs": [],
   "source": [
    "x=df.loc[:,['gender','religion','caste','mother_tongue',\n",
    "       'country','height']]\n",
    "y=df['age_of_marriage']"
   ]
  },
  {
   "cell_type": "code",
   "execution_count": 7,
   "id": "d7c16ccb",
   "metadata": {},
   "outputs": [
    {
     "data": {
      "text/html": [
       "<div>\n",
       "<style scoped>\n",
       "    .dataframe tbody tr th:only-of-type {\n",
       "        vertical-align: middle;\n",
       "    }\n",
       "\n",
       "    .dataframe tbody tr th {\n",
       "        vertical-align: top;\n",
       "    }\n",
       "\n",
       "    .dataframe thead th {\n",
       "        text-align: right;\n",
       "    }\n",
       "</style>\n",
       "<table border=\"1\" class=\"dataframe\">\n",
       "  <thead>\n",
       "    <tr style=\"text-align: right;\">\n",
       "      <th></th>\n",
       "      <th>gender</th>\n",
       "      <th>religion</th>\n",
       "      <th>caste</th>\n",
       "      <th>mother_tongue</th>\n",
       "      <th>country</th>\n",
       "      <th>height</th>\n",
       "    </tr>\n",
       "  </thead>\n",
       "  <tbody>\n",
       "    <tr>\n",
       "      <th>1</th>\n",
       "      <td>male</td>\n",
       "      <td>Jain</td>\n",
       "      <td>Shwetamber</td>\n",
       "      <td>Gujarati</td>\n",
       "      <td>USA</td>\n",
       "      <td>5'7\"</td>\n",
       "    </tr>\n",
       "    <tr>\n",
       "      <th>2</th>\n",
       "      <td>male</td>\n",
       "      <td>Hindu</td>\n",
       "      <td>Brahmin</td>\n",
       "      <td>Hindi</td>\n",
       "      <td>India</td>\n",
       "      <td>5'7\"</td>\n",
       "    </tr>\n",
       "    <tr>\n",
       "      <th>3</th>\n",
       "      <td>female</td>\n",
       "      <td>Hindu</td>\n",
       "      <td>Thakur</td>\n",
       "      <td>Hindi</td>\n",
       "      <td>India</td>\n",
       "      <td>5'0\"</td>\n",
       "    </tr>\n",
       "    <tr>\n",
       "      <th>4</th>\n",
       "      <td>male</td>\n",
       "      <td>Christian</td>\n",
       "      <td>Born Again</td>\n",
       "      <td>Malayalam</td>\n",
       "      <td>India</td>\n",
       "      <td>5'5\"</td>\n",
       "    </tr>\n",
       "    <tr>\n",
       "      <th>5</th>\n",
       "      <td>male</td>\n",
       "      <td>Hindu</td>\n",
       "      <td>Valmiki</td>\n",
       "      <td>Hindi</td>\n",
       "      <td>India</td>\n",
       "      <td>5'5\"</td>\n",
       "    </tr>\n",
       "  </tbody>\n",
       "</table>\n",
       "</div>"
      ],
      "text/plain": [
       "   gender   religion        caste mother_tongue country height\n",
       "1    male       Jain   Shwetamber      Gujarati     USA   5'7\"\n",
       "2    male      Hindu      Brahmin         Hindi   India   5'7\"\n",
       "3  female      Hindu       Thakur         Hindi   India   5'0\"\n",
       "4    male  Christian   Born Again     Malayalam   India   5'5\"\n",
       "5    male      Hindu      Valmiki         Hindi   India   5'5\""
      ]
     },
     "execution_count": 7,
     "metadata": {},
     "output_type": "execute_result"
    }
   ],
   "source": [
    "x.head()"
   ]
  },
  {
   "cell_type": "code",
   "execution_count": 8,
   "id": "cf502d34",
   "metadata": {},
   "outputs": [],
   "source": [
    "#dummies \n",
    "\n",
    "# Gender=pd.get_dummies(x['gender'],drop_first=True)\n",
    "# Religion=pd.get_dummies(x['religion'],drop_first=True)\n",
    "# Cast=pd.get_dummies(x['caste'],drop_first=True)\n",
    "# Mother_tounge=pd.get_dummies(x['mother_tongue'],drop_first=True)\n",
    "# # Profession=pd.get_dummies(x['profession'],drop_first=True)\n",
    "# # Location=pd.get_dummies(x['location'],drop_first=True)\n",
    "# Country=pd.get_dummies(x['country'],drop_first=True)\n",
    "# Height=pd.get_dummies(x['height'],drop_first=True)\n"
   ]
  },
  {
   "cell_type": "code",
   "execution_count": 9,
   "id": "d519c20a",
   "metadata": {},
   "outputs": [],
   "source": [
    "from sklearn.preprocessing import LabelEncoder\n",
    "\n",
    "enc=LabelEncoder()\n",
    "x.loc[:,['gender','religion','caste','mother_tongue','country']]=\\\n",
    "x.loc[:,['gender','religion','caste','mother_tongue','country']].apply(enc.fit_transform)"
   ]
  },
  {
   "cell_type": "code",
   "execution_count": 10,
   "id": "109e3a31",
   "metadata": {},
   "outputs": [
    {
     "data": {
      "text/plain": [
       "{' Australia': 0,\n",
       " ' Bahrain': 1,\n",
       " ' Bangladesh': 2,\n",
       " ' Canada': 3,\n",
       " ' Germany': 4,\n",
       " ' India': 5,\n",
       " ' Ireland': 6,\n",
       " ' Kuwait': 7,\n",
       " ' Malaysia': 8,\n",
       " ' Myanmar': 9,\n",
       " ' Netherlands': 10,\n",
       " ' New Zealand': 11,\n",
       " ' Norway': 12,\n",
       " ' Oman': 13,\n",
       " ' Pakistan': 14,\n",
       " ' Philippines': 15,\n",
       " ' Qatar': 16,\n",
       " ' Singapore': 17,\n",
       " ' South Africa': 18,\n",
       " ' USA': 19,\n",
       " ' United Arab Emirates': 20,\n",
       " ' United Kingdom': 21}"
      ]
     },
     "execution_count": 10,
     "metadata": {},
     "output_type": "execute_result"
    }
   ],
   "source": [
    "map={l: i for i,l in enumerate(enc.classes_)}\n",
    "map"
   ]
  },
  {
   "cell_type": "code",
   "execution_count": 11,
   "id": "d786b253",
   "metadata": {},
   "outputs": [
    {
     "data": {
      "text/plain": [
       "1        5'7\"\n",
       "2        5'7\"\n",
       "3        5'0\"\n",
       "4        5'5\"\n",
       "5        5'5\"\n",
       "        ...  \n",
       "2561    5'11\"\n",
       "2562     5'3\"\n",
       "2563    5'11\"\n",
       "2564     5'3\"\n",
       "2566     5'2\"\n",
       "Name: height, Length: 1932, dtype: object"
      ]
     },
     "execution_count": 11,
     "metadata": {},
     "output_type": "execute_result"
    }
   ],
   "source": [
    "x.height"
   ]
  },
  {
   "cell_type": "code",
   "execution_count": 12,
   "id": "065cb359",
   "metadata": {},
   "outputs": [
    {
     "name": "stdout",
     "output_type": "stream",
     "text": [
      "feet : 152.4\n",
      "inches: 17.78\n"
     ]
    }
   ],
   "source": [
    "#### convert height into cm\n",
    "\n",
    "\n",
    "h_feet=int(x.loc[1,'height'].split(\"'\")[0])*30.48\n",
    "h_inch=int(x.loc[1,'height'].split(\"'\")[1].split(\"\\\"\")[0])*2.54\n",
    "\n",
    "print(\"feet :\",h_feet)\n",
    "print(\"inches:\",h_inch)"
   ]
  },
  {
   "cell_type": "code",
   "execution_count": 13,
   "id": "430ac3af",
   "metadata": {},
   "outputs": [],
   "source": [
    "## define function to convert hgt into cms\n",
    "def h_cm(h):\n",
    "    return int(h.split(\"'\")[0])*30.48+\\\n",
    "           int(h.split(\"'\")[1].split(\"\\\"\")[0])*2.54\n",
    "\n",
    "x['height_cm']=x.height.apply(h_cm)"
   ]
  },
  {
   "cell_type": "code",
   "execution_count": 20,
   "id": "a6af977f",
   "metadata": {},
   "outputs": [
    {
     "data": {
      "text/html": [
       "<div>\n",
       "<style scoped>\n",
       "    .dataframe tbody tr th:only-of-type {\n",
       "        vertical-align: middle;\n",
       "    }\n",
       "\n",
       "    .dataframe tbody tr th {\n",
       "        vertical-align: top;\n",
       "    }\n",
       "\n",
       "    .dataframe thead th {\n",
       "        text-align: right;\n",
       "    }\n",
       "</style>\n",
       "<table border=\"1\" class=\"dataframe\">\n",
       "  <thead>\n",
       "    <tr style=\"text-align: right;\">\n",
       "      <th></th>\n",
       "      <th>gender</th>\n",
       "      <th>religion</th>\n",
       "      <th>caste</th>\n",
       "      <th>mother_tongue</th>\n",
       "      <th>country</th>\n",
       "      <th>height_cm</th>\n",
       "    </tr>\n",
       "  </thead>\n",
       "  <tbody>\n",
       "    <tr>\n",
       "      <th>1</th>\n",
       "      <td>1</td>\n",
       "      <td>2</td>\n",
       "      <td>34</td>\n",
       "      <td>6</td>\n",
       "      <td>19</td>\n",
       "      <td>170.18</td>\n",
       "    </tr>\n",
       "    <tr>\n",
       "      <th>2</th>\n",
       "      <td>1</td>\n",
       "      <td>1</td>\n",
       "      <td>14</td>\n",
       "      <td>8</td>\n",
       "      <td>5</td>\n",
       "      <td>170.18</td>\n",
       "    </tr>\n",
       "    <tr>\n",
       "      <th>3</th>\n",
       "      <td>0</td>\n",
       "      <td>1</td>\n",
       "      <td>36</td>\n",
       "      <td>8</td>\n",
       "      <td>5</td>\n",
       "      <td>152.40</td>\n",
       "    </tr>\n",
       "    <tr>\n",
       "      <th>4</th>\n",
       "      <td>1</td>\n",
       "      <td>0</td>\n",
       "      <td>13</td>\n",
       "      <td>13</td>\n",
       "      <td>5</td>\n",
       "      <td>165.10</td>\n",
       "    </tr>\n",
       "    <tr>\n",
       "      <th>5</th>\n",
       "      <td>1</td>\n",
       "      <td>1</td>\n",
       "      <td>38</td>\n",
       "      <td>8</td>\n",
       "      <td>5</td>\n",
       "      <td>165.10</td>\n",
       "    </tr>\n",
       "  </tbody>\n",
       "</table>\n",
       "</div>"
      ],
      "text/plain": [
       "  gender religion caste mother_tongue country  height_cm\n",
       "1      1        2    34             6      19     170.18\n",
       "2      1        1    14             8       5     170.18\n",
       "3      0        1    36             8       5     152.40\n",
       "4      1        0    13            13       5     165.10\n",
       "5      1        1    38             8       5     165.10"
      ]
     },
     "execution_count": 20,
     "metadata": {},
     "output_type": "execute_result"
    }
   ],
   "source": [
    "x=x.drop(['height'],axis=1)\n",
    "x.head()"
   ]
  },
  {
   "cell_type": "code",
   "execution_count": 15,
   "id": "21ac276b",
   "metadata": {},
   "outputs": [
    {
     "data": {
      "text/plain": [
       "1    32.0\n",
       "2    32.0\n",
       "3    30.0\n",
       "4    30.0\n",
       "5    29.0\n",
       "Name: age_of_marriage, dtype: float64"
      ]
     },
     "execution_count": 15,
     "metadata": {},
     "output_type": "execute_result"
    }
   ],
   "source": [
    "y.head()"
   ]
  },
  {
   "cell_type": "code",
   "execution_count": 21,
   "id": "9ebe9712",
   "metadata": {},
   "outputs": [],
   "source": [
    "from sklearn.model_selection import train_test_split\n",
    "from sklearn.ensemble import RandomForestRegressor\n",
    "from sklearn.metrics import confusion_matrix,plot_confusion_matrix,classification_report\n",
    "from sklearn.metrics import accuracy_score,precision_score,recall_score,f1_score\n",
    "\n",
    "\n",
    "xtrain,xtest,ytrain,ytest=train_test_split(x,y,test_size=0.2,random_state=0)\n"
   ]
  },
  {
   "cell_type": "code",
   "execution_count": 27,
   "id": "79b3c84c",
   "metadata": {},
   "outputs": [],
   "source": [
    "rf=RandomForestRegressor(random_state=0,max_depth=10)\n",
    "rf.fit(xtrain,ytrain)\n",
    "rf_pred=rf.predict(xtest)"
   ]
  },
  {
   "cell_type": "code",
   "execution_count": 28,
   "id": "4cb6bca6",
   "metadata": {},
   "outputs": [
    {
     "name": "stdout",
     "output_type": "stream",
     "text": [
      "0.698057485847989\n"
     ]
    }
   ],
   "source": [
    "from sklearn.metrics import r2_score,mean_absolute_error\n",
    "\n",
    "r2score=r2_score(ytest,rf_pred)\n",
    "print(r2score)"
   ]
  },
  {
   "cell_type": "code",
   "execution_count": 29,
   "id": "bdc02c52",
   "metadata": {},
   "outputs": [
    {
     "data": {
      "text/plain": [
       "1.038753774669992"
      ]
     },
     "execution_count": 29,
     "metadata": {},
     "output_type": "execute_result"
    }
   ],
   "source": [
    "mean_absolute_error(ytest,rf_pred)"
   ]
  },
  {
   "cell_type": "code",
   "execution_count": 30,
   "id": "6e0bfc0b",
   "metadata": {},
   "outputs": [
    {
     "data": {
      "text/plain": [
       "0.8072769098185266"
      ]
     },
     "execution_count": 30,
     "metadata": {},
     "output_type": "execute_result"
    }
   ],
   "source": [
    "rf.score(xtrain,ytrain)"
   ]
  },
  {
   "cell_type": "code",
   "execution_count": 31,
   "id": "d29daa81",
   "metadata": {},
   "outputs": [
    {
     "data": {
      "text/plain": [
       "0.698057485847989"
      ]
     },
     "execution_count": 31,
     "metadata": {},
     "output_type": "execute_result"
    }
   ],
   "source": [
    "rf.score(xtest,ytest)"
   ]
  },
  {
   "cell_type": "code",
   "execution_count": null,
   "id": "e86e2b98",
   "metadata": {},
   "outputs": [],
   "source": []
  }
 ],
 "metadata": {
  "kernelspec": {
   "display_name": "Python 3",
   "language": "python",
   "name": "python3"
  },
  "language_info": {
   "codemirror_mode": {
    "name": "ipython",
    "version": 3
   },
   "file_extension": ".py",
   "mimetype": "text/x-python",
   "name": "python",
   "nbconvert_exporter": "python",
   "pygments_lexer": "ipython3",
   "version": "3.7.10"
  }
 },
 "nbformat": 4,
 "nbformat_minor": 5
}
